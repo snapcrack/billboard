{
 "cells": [
  {
   "cell_type": "code",
   "execution_count": 1,
   "metadata": {
    "collapsed": true
   },
   "outputs": [],
   "source": [
    "import urllib\n",
    "from urllib.request import urlopen\n",
    "import numpy as np\n",
    "import pandas as pd\n",
    "import lxml\n",
    "from lxml import html\n",
    "from bs4 import BeautifulSoup\n",
    "from bs4 import *\n",
    "import xml.etree.cElementTree as ET\n",
    "import re\n",
    "import sqlite3\n",
    "import os\n",
    "import html5lib\n",
    "import json\n",
    "import sys\n",
    "import requests\n",
    "import time\n",
    "import random"
   ]
  },
  {
   "cell_type": "code",
   "execution_count": null,
   "metadata": {
    "collapsed": true
   },
   "outputs": [],
   "source": [
    "##scraping from billboard.com into sqlite"
   ]
  },
  {
   "cell_type": "code",
   "execution_count": 5,
   "metadata": {
    "collapsed": true
   },
   "outputs": [],
   "source": [
    "db = sqlite3.connect(\"billboard.db\")\n",
    "c = db.cursor()"
   ]
  },
  {
   "cell_type": "code",
   "execution_count": 8,
   "metadata": {
    "collapsed": true
   },
   "outputs": [],
   "source": [
    "def getmaxid():\n",
    "    query = 'select max(id) from billboard'\n",
    "    c.execute(query)\n",
    "    return c.fetchall()[0][0]"
   ]
  },
  {
   "cell_type": "code",
   "execution_count": 11,
   "metadata": {
    "collapsed": true
   },
   "outputs": [],
   "source": [
    "def getsongs(link):\n",
    "    soup = BeautifulSoup(urlopen(link), 'lxml')\n",
    "    length = len(soup.findAll('tr'))\n",
    "\n",
    "\n",
    "    for e in range(length)[1:]:\n",
    "        \n",
    "        try:\n",
    "            maxid = getmaxid() + 1\n",
    "        except:\n",
    "            maxid = 1\n",
    "        date = soup.findAll('tr')[e].find('td').find('span')['content'][:10]\n",
    "        year = date[:4]\n",
    "        week = date[5:10]\n",
    "        try:\n",
    "            song = soup.findAll('tr')[e].find('td', {'class': 'views-field-field-chart-item-song'}).text\n",
    "            artist = soup.findAll('tr')[e].find('td', {'class': 'views-field-field-chart-item-artist'}).text\n",
    "        except:\n",
    "            pass\n",
    "\n",
    "        query = \"insert into billboard (id, date) values (?, ?)\"\n",
    "        c.execute(query, [maxid, date])\n",
    "\n",
    "        query = \"UPDATE billboard SET year = (?) WHERE id = (?)\"\n",
    "        c.execute(query, [year, maxid])\n",
    "\n",
    "        query = \"UPDATE billboard SET week = (?) WHERE id = (?)\"\n",
    "        c.execute(query, [week, maxid])\n",
    "\n",
    "        query = \"UPDATE billboard SET song = (?) WHERE id = (?)\"\n",
    "        c.execute(query, [song, maxid])\n",
    "\n",
    "        query = \"UPDATE billboard SET artist = (?) WHERE id = (?)\"\n",
    "        c.execute(query, [artist, maxid])\n",
    "\n",
    "        db.commit()"
   ]
  },
  {
   "cell_type": "code",
   "execution_count": 14,
   "metadata": {},
   "outputs": [
    {
     "ename": "HTTPError",
     "evalue": "HTTP Error 404: Not Found",
     "output_type": "error",
     "traceback": [
      "\u001b[0;31m---------------------------------------------------------------------------\u001b[0m",
      "\u001b[0;31mHTTPError\u001b[0m                                 Traceback (most recent call last)",
      "\u001b[0;32m<ipython-input-14-b580baedfa27>\u001b[0m in \u001b[0;36m<module>\u001b[0;34m()\u001b[0m\n\u001b[1;32m      1\u001b[0m \u001b[0;32mfor\u001b[0m \u001b[0me\u001b[0m \u001b[0;32min\u001b[0m \u001b[0mlist\u001b[0m\u001b[0;34m(\u001b[0m\u001b[0mrange\u001b[0m\u001b[0;34m(\u001b[0m\u001b[0;36m1958\u001b[0m\u001b[0;34m,\u001b[0m \u001b[0;36m2018\u001b[0m\u001b[0;34m)\u001b[0m\u001b[0;34m)\u001b[0m\u001b[0;34m:\u001b[0m\u001b[0;34m\u001b[0m\u001b[0m\n\u001b[1;32m      2\u001b[0m     \u001b[0mlink\u001b[0m \u001b[0;34m=\u001b[0m \u001b[0;34m'http://www.billboard.com/archive/charts/%s/hot-100'\u001b[0m \u001b[0;34m%\u001b[0m \u001b[0me\u001b[0m\u001b[0;34m\u001b[0m\u001b[0m\n\u001b[0;32m----> 3\u001b[0;31m     \u001b[0mgetsongs\u001b[0m\u001b[0;34m(\u001b[0m\u001b[0mlink\u001b[0m\u001b[0;34m)\u001b[0m\u001b[0;34m\u001b[0m\u001b[0m\n\u001b[0m",
      "\u001b[0;32m<ipython-input-11-12542787528b>\u001b[0m in \u001b[0;36mgetsongs\u001b[0;34m(link)\u001b[0m\n\u001b[1;32m      1\u001b[0m \u001b[0;32mdef\u001b[0m \u001b[0mgetsongs\u001b[0m\u001b[0;34m(\u001b[0m\u001b[0mlink\u001b[0m\u001b[0;34m)\u001b[0m\u001b[0;34m:\u001b[0m\u001b[0;34m\u001b[0m\u001b[0m\n\u001b[0;32m----> 2\u001b[0;31m     \u001b[0msoup\u001b[0m \u001b[0;34m=\u001b[0m \u001b[0mBeautifulSoup\u001b[0m\u001b[0;34m(\u001b[0m\u001b[0murlopen\u001b[0m\u001b[0;34m(\u001b[0m\u001b[0mlink\u001b[0m\u001b[0;34m)\u001b[0m\u001b[0;34m,\u001b[0m \u001b[0;34m'lxml'\u001b[0m\u001b[0;34m)\u001b[0m\u001b[0;34m\u001b[0m\u001b[0m\n\u001b[0m\u001b[1;32m      3\u001b[0m     \u001b[0mlength\u001b[0m \u001b[0;34m=\u001b[0m \u001b[0mlen\u001b[0m\u001b[0;34m(\u001b[0m\u001b[0msoup\u001b[0m\u001b[0;34m.\u001b[0m\u001b[0mfindAll\u001b[0m\u001b[0;34m(\u001b[0m\u001b[0;34m'tr'\u001b[0m\u001b[0;34m)\u001b[0m\u001b[0;34m)\u001b[0m\u001b[0;34m\u001b[0m\u001b[0m\n\u001b[1;32m      4\u001b[0m \u001b[0;34m\u001b[0m\u001b[0m\n\u001b[1;32m      5\u001b[0m \u001b[0;34m\u001b[0m\u001b[0m\n",
      "\u001b[0;32m/home/arvcondor/anaconda3/envs/Python3/lib/python3.6/urllib/request.py\u001b[0m in \u001b[0;36murlopen\u001b[0;34m(url, data, timeout, cafile, capath, cadefault, context)\u001b[0m\n\u001b[1;32m    221\u001b[0m     \u001b[0;32melse\u001b[0m\u001b[0;34m:\u001b[0m\u001b[0;34m\u001b[0m\u001b[0m\n\u001b[1;32m    222\u001b[0m         \u001b[0mopener\u001b[0m \u001b[0;34m=\u001b[0m \u001b[0m_opener\u001b[0m\u001b[0;34m\u001b[0m\u001b[0m\n\u001b[0;32m--> 223\u001b[0;31m     \u001b[0;32mreturn\u001b[0m \u001b[0mopener\u001b[0m\u001b[0;34m.\u001b[0m\u001b[0mopen\u001b[0m\u001b[0;34m(\u001b[0m\u001b[0murl\u001b[0m\u001b[0;34m,\u001b[0m \u001b[0mdata\u001b[0m\u001b[0;34m,\u001b[0m \u001b[0mtimeout\u001b[0m\u001b[0;34m)\u001b[0m\u001b[0;34m\u001b[0m\u001b[0m\n\u001b[0m\u001b[1;32m    224\u001b[0m \u001b[0;34m\u001b[0m\u001b[0m\n\u001b[1;32m    225\u001b[0m \u001b[0;32mdef\u001b[0m \u001b[0minstall_opener\u001b[0m\u001b[0;34m(\u001b[0m\u001b[0mopener\u001b[0m\u001b[0;34m)\u001b[0m\u001b[0;34m:\u001b[0m\u001b[0;34m\u001b[0m\u001b[0m\n",
      "\u001b[0;32m/home/arvcondor/anaconda3/envs/Python3/lib/python3.6/urllib/request.py\u001b[0m in \u001b[0;36mopen\u001b[0;34m(self, fullurl, data, timeout)\u001b[0m\n\u001b[1;32m    530\u001b[0m         \u001b[0;32mfor\u001b[0m \u001b[0mprocessor\u001b[0m \u001b[0;32min\u001b[0m \u001b[0mself\u001b[0m\u001b[0;34m.\u001b[0m\u001b[0mprocess_response\u001b[0m\u001b[0;34m.\u001b[0m\u001b[0mget\u001b[0m\u001b[0;34m(\u001b[0m\u001b[0mprotocol\u001b[0m\u001b[0;34m,\u001b[0m \u001b[0;34m[\u001b[0m\u001b[0;34m]\u001b[0m\u001b[0;34m)\u001b[0m\u001b[0;34m:\u001b[0m\u001b[0;34m\u001b[0m\u001b[0m\n\u001b[1;32m    531\u001b[0m             \u001b[0mmeth\u001b[0m \u001b[0;34m=\u001b[0m \u001b[0mgetattr\u001b[0m\u001b[0;34m(\u001b[0m\u001b[0mprocessor\u001b[0m\u001b[0;34m,\u001b[0m \u001b[0mmeth_name\u001b[0m\u001b[0;34m)\u001b[0m\u001b[0;34m\u001b[0m\u001b[0m\n\u001b[0;32m--> 532\u001b[0;31m             \u001b[0mresponse\u001b[0m \u001b[0;34m=\u001b[0m \u001b[0mmeth\u001b[0m\u001b[0;34m(\u001b[0m\u001b[0mreq\u001b[0m\u001b[0;34m,\u001b[0m \u001b[0mresponse\u001b[0m\u001b[0;34m)\u001b[0m\u001b[0;34m\u001b[0m\u001b[0m\n\u001b[0m\u001b[1;32m    533\u001b[0m \u001b[0;34m\u001b[0m\u001b[0m\n\u001b[1;32m    534\u001b[0m         \u001b[0;32mreturn\u001b[0m \u001b[0mresponse\u001b[0m\u001b[0;34m\u001b[0m\u001b[0m\n",
      "\u001b[0;32m/home/arvcondor/anaconda3/envs/Python3/lib/python3.6/urllib/request.py\u001b[0m in \u001b[0;36mhttp_response\u001b[0;34m(self, request, response)\u001b[0m\n\u001b[1;32m    640\u001b[0m         \u001b[0;32mif\u001b[0m \u001b[0;32mnot\u001b[0m \u001b[0;34m(\u001b[0m\u001b[0;36m200\u001b[0m \u001b[0;34m<=\u001b[0m \u001b[0mcode\u001b[0m \u001b[0;34m<\u001b[0m \u001b[0;36m300\u001b[0m\u001b[0;34m)\u001b[0m\u001b[0;34m:\u001b[0m\u001b[0;34m\u001b[0m\u001b[0m\n\u001b[1;32m    641\u001b[0m             response = self.parent.error(\n\u001b[0;32m--> 642\u001b[0;31m                 'http', request, response, code, msg, hdrs)\n\u001b[0m\u001b[1;32m    643\u001b[0m \u001b[0;34m\u001b[0m\u001b[0m\n\u001b[1;32m    644\u001b[0m         \u001b[0;32mreturn\u001b[0m \u001b[0mresponse\u001b[0m\u001b[0;34m\u001b[0m\u001b[0m\n",
      "\u001b[0;32m/home/arvcondor/anaconda3/envs/Python3/lib/python3.6/urllib/request.py\u001b[0m in \u001b[0;36merror\u001b[0;34m(self, proto, *args)\u001b[0m\n\u001b[1;32m    568\u001b[0m         \u001b[0;32mif\u001b[0m \u001b[0mhttp_err\u001b[0m\u001b[0;34m:\u001b[0m\u001b[0;34m\u001b[0m\u001b[0m\n\u001b[1;32m    569\u001b[0m             \u001b[0margs\u001b[0m \u001b[0;34m=\u001b[0m \u001b[0;34m(\u001b[0m\u001b[0mdict\u001b[0m\u001b[0;34m,\u001b[0m \u001b[0;34m'default'\u001b[0m\u001b[0;34m,\u001b[0m \u001b[0;34m'http_error_default'\u001b[0m\u001b[0;34m)\u001b[0m \u001b[0;34m+\u001b[0m \u001b[0morig_args\u001b[0m\u001b[0;34m\u001b[0m\u001b[0m\n\u001b[0;32m--> 570\u001b[0;31m             \u001b[0;32mreturn\u001b[0m \u001b[0mself\u001b[0m\u001b[0;34m.\u001b[0m\u001b[0m_call_chain\u001b[0m\u001b[0;34m(\u001b[0m\u001b[0;34m*\u001b[0m\u001b[0margs\u001b[0m\u001b[0;34m)\u001b[0m\u001b[0;34m\u001b[0m\u001b[0m\n\u001b[0m\u001b[1;32m    571\u001b[0m \u001b[0;34m\u001b[0m\u001b[0m\n\u001b[1;32m    572\u001b[0m \u001b[0;31m# XXX probably also want an abstract factory that knows when it makes\u001b[0m\u001b[0;34m\u001b[0m\u001b[0;34m\u001b[0m\u001b[0m\n",
      "\u001b[0;32m/home/arvcondor/anaconda3/envs/Python3/lib/python3.6/urllib/request.py\u001b[0m in \u001b[0;36m_call_chain\u001b[0;34m(self, chain, kind, meth_name, *args)\u001b[0m\n\u001b[1;32m    502\u001b[0m         \u001b[0;32mfor\u001b[0m \u001b[0mhandler\u001b[0m \u001b[0;32min\u001b[0m \u001b[0mhandlers\u001b[0m\u001b[0;34m:\u001b[0m\u001b[0;34m\u001b[0m\u001b[0m\n\u001b[1;32m    503\u001b[0m             \u001b[0mfunc\u001b[0m \u001b[0;34m=\u001b[0m \u001b[0mgetattr\u001b[0m\u001b[0;34m(\u001b[0m\u001b[0mhandler\u001b[0m\u001b[0;34m,\u001b[0m \u001b[0mmeth_name\u001b[0m\u001b[0;34m)\u001b[0m\u001b[0;34m\u001b[0m\u001b[0m\n\u001b[0;32m--> 504\u001b[0;31m             \u001b[0mresult\u001b[0m \u001b[0;34m=\u001b[0m \u001b[0mfunc\u001b[0m\u001b[0;34m(\u001b[0m\u001b[0;34m*\u001b[0m\u001b[0margs\u001b[0m\u001b[0;34m)\u001b[0m\u001b[0;34m\u001b[0m\u001b[0m\n\u001b[0m\u001b[1;32m    505\u001b[0m             \u001b[0;32mif\u001b[0m \u001b[0mresult\u001b[0m \u001b[0;32mis\u001b[0m \u001b[0;32mnot\u001b[0m \u001b[0;32mNone\u001b[0m\u001b[0;34m:\u001b[0m\u001b[0;34m\u001b[0m\u001b[0m\n\u001b[1;32m    506\u001b[0m                 \u001b[0;32mreturn\u001b[0m \u001b[0mresult\u001b[0m\u001b[0;34m\u001b[0m\u001b[0m\n",
      "\u001b[0;32m/home/arvcondor/anaconda3/envs/Python3/lib/python3.6/urllib/request.py\u001b[0m in \u001b[0;36mhttp_error_default\u001b[0;34m(self, req, fp, code, msg, hdrs)\u001b[0m\n\u001b[1;32m    648\u001b[0m \u001b[0;32mclass\u001b[0m \u001b[0mHTTPDefaultErrorHandler\u001b[0m\u001b[0;34m(\u001b[0m\u001b[0mBaseHandler\u001b[0m\u001b[0;34m)\u001b[0m\u001b[0;34m:\u001b[0m\u001b[0;34m\u001b[0m\u001b[0m\n\u001b[1;32m    649\u001b[0m     \u001b[0;32mdef\u001b[0m \u001b[0mhttp_error_default\u001b[0m\u001b[0;34m(\u001b[0m\u001b[0mself\u001b[0m\u001b[0;34m,\u001b[0m \u001b[0mreq\u001b[0m\u001b[0;34m,\u001b[0m \u001b[0mfp\u001b[0m\u001b[0;34m,\u001b[0m \u001b[0mcode\u001b[0m\u001b[0;34m,\u001b[0m \u001b[0mmsg\u001b[0m\u001b[0;34m,\u001b[0m \u001b[0mhdrs\u001b[0m\u001b[0;34m)\u001b[0m\u001b[0;34m:\u001b[0m\u001b[0;34m\u001b[0m\u001b[0m\n\u001b[0;32m--> 650\u001b[0;31m         \u001b[0;32mraise\u001b[0m \u001b[0mHTTPError\u001b[0m\u001b[0;34m(\u001b[0m\u001b[0mreq\u001b[0m\u001b[0;34m.\u001b[0m\u001b[0mfull_url\u001b[0m\u001b[0;34m,\u001b[0m \u001b[0mcode\u001b[0m\u001b[0;34m,\u001b[0m \u001b[0mmsg\u001b[0m\u001b[0;34m,\u001b[0m \u001b[0mhdrs\u001b[0m\u001b[0;34m,\u001b[0m \u001b[0mfp\u001b[0m\u001b[0;34m)\u001b[0m\u001b[0;34m\u001b[0m\u001b[0m\n\u001b[0m\u001b[1;32m    651\u001b[0m \u001b[0;34m\u001b[0m\u001b[0m\n\u001b[1;32m    652\u001b[0m \u001b[0;32mclass\u001b[0m \u001b[0mHTTPRedirectHandler\u001b[0m\u001b[0;34m(\u001b[0m\u001b[0mBaseHandler\u001b[0m\u001b[0;34m)\u001b[0m\u001b[0;34m:\u001b[0m\u001b[0;34m\u001b[0m\u001b[0m\n",
      "\u001b[0;31mHTTPError\u001b[0m: HTTP Error 404: Not Found"
     ]
    }
   ],
   "source": [
    "for e in list(range(1958, 2018)):\n",
    "    link = 'http://www.billboard.com/archive/charts/%s/hot-100' % e\n",
    "    getsongs(link)"
   ]
  },
  {
   "cell_type": "code",
   "execution_count": null,
   "metadata": {
    "collapsed": true
   },
   "outputs": [],
   "source": [
    "##getting audio features from spotify API"
   ]
  },
  {
   "cell_type": "code",
   "execution_count": 6,
   "metadata": {
    "collapsed": true
   },
   "outputs": [],
   "source": [
    "import spotipy\n",
    "import spotipy.util as util"
   ]
  },
  {
   "cell_type": "code",
   "execution_count": 7,
   "metadata": {},
   "outputs": [
    {
     "data": {
      "text/plain": [
       "'http://localhost:8877'"
      ]
     },
     "execution_count": 7,
     "metadata": {},
     "output_type": "execute_result"
    }
   ],
   "source": [
    "os.getenv('SPOTIPY_CLIENT_ID')\n",
    "os.getenv('SPOTIPY_CLIENT_SECRET')\n",
    "os.getenv('SPOTIPY_REDIRECT_URI')\n"
   ]
  },
  {
   "cell_type": "code",
   "execution_count": 8,
   "metadata": {},
   "outputs": [
    {
     "data": {
      "text/plain": [
       "'\\nif len(sys.argv) > 1:\\n    username = sys.argv[1]\\nelse:\\n    print (\"Usage: %s username\" % (sys.argv[0],))\\n    sys.exit()\\n\\ntoken = util.prompt_for_user_token(username, scope)\\n'"
      ]
     },
     "execution_count": 8,
     "metadata": {},
     "output_type": "execute_result"
    }
   ],
   "source": [
    "scope = 'user-library-read'\n",
    "\n",
    "'''\n",
    "if len(sys.argv) > 1:\n",
    "    username = sys.argv[1]\n",
    "else:\n",
    "    print (\"Usage: %s username\" % (sys.argv[0],))\n",
    "    sys.exit()\n",
    "\n",
    "token = util.prompt_for_user_token(username, scope)\n",
    "'''"
   ]
  },
  {
   "cell_type": "code",
   "execution_count": 9,
   "metadata": {},
   "outputs": [
    {
     "name": "stderr",
     "output_type": "stream",
     "text": [
      "warning:couldn't refresh token: code:400 reason:Bad Request\n"
     ]
    },
    {
     "name": "stdout",
     "output_type": "stream",
     "text": [
      "\n",
      "\n",
      "            User authentication requires interaction with your\n",
      "            web browser. Once you enter your credentials and\n",
      "            give authorization, you will be redirected to\n",
      "            a url.  Paste that url you were directed to to\n",
      "            complete the authorization.\n",
      "\n",
      "        \n",
      "Opened https://accounts.spotify.com/authorize?client_id=5c73c2e5bcdc4e0fb2e465c75c2581b1&response_type=code&redirect_uri=localhost%3A8888%2Fcallback&scope=user-library-read in your browser\n",
      "\n",
      "\n"
     ]
    },
    {
     "ename": "KeyboardInterrupt",
     "evalue": "",
     "output_type": "error",
     "traceback": [
      "\u001b[0;31m---------------------------------------------------------------------------\u001b[0m",
      "\u001b[0;31mNameError\u001b[0m                                 Traceback (most recent call last)",
      "\u001b[0;32m/home/arvcondor/anaconda3/envs/Python3/lib/python3.6/site-packages/spotipy/util.py\u001b[0m in \u001b[0;36mprompt_for_user_token\u001b[0;34m(username, scope, client_id, client_secret, redirect_uri)\u001b[0m\n\u001b[1;32m     77\u001b[0m         \u001b[0;32mtry\u001b[0m\u001b[0;34m:\u001b[0m\u001b[0;34m\u001b[0m\u001b[0m\n\u001b[0;32m---> 78\u001b[0;31m             \u001b[0mresponse\u001b[0m \u001b[0;34m=\u001b[0m \u001b[0mraw_input\u001b[0m\u001b[0;34m(\u001b[0m\u001b[0;34m\"Enter the URL you were redirected to: \"\u001b[0m\u001b[0;34m)\u001b[0m\u001b[0;34m\u001b[0m\u001b[0m\n\u001b[0m\u001b[1;32m     79\u001b[0m         \u001b[0;32mexcept\u001b[0m \u001b[0mNameError\u001b[0m\u001b[0;34m:\u001b[0m\u001b[0;34m\u001b[0m\u001b[0m\n",
      "\u001b[0;31mNameError\u001b[0m: name 'raw_input' is not defined",
      "\nDuring handling of the above exception, another exception occurred:\n",
      "\u001b[0;31mKeyboardInterrupt\u001b[0m                         Traceback (most recent call last)",
      "\u001b[0;32m/home/arvcondor/anaconda3/envs/Python3/lib/python3.6/site-packages/ipykernel/kernelbase.py\u001b[0m in \u001b[0;36m_input_request\u001b[0;34m(self, prompt, ident, parent, password)\u001b[0m\n\u001b[1;32m    729\u001b[0m             \u001b[0;32mtry\u001b[0m\u001b[0;34m:\u001b[0m\u001b[0;34m\u001b[0m\u001b[0m\n\u001b[0;32m--> 730\u001b[0;31m                 \u001b[0mident\u001b[0m\u001b[0;34m,\u001b[0m \u001b[0mreply\u001b[0m \u001b[0;34m=\u001b[0m \u001b[0mself\u001b[0m\u001b[0;34m.\u001b[0m\u001b[0msession\u001b[0m\u001b[0;34m.\u001b[0m\u001b[0mrecv\u001b[0m\u001b[0;34m(\u001b[0m\u001b[0mself\u001b[0m\u001b[0;34m.\u001b[0m\u001b[0mstdin_socket\u001b[0m\u001b[0;34m,\u001b[0m \u001b[0;36m0\u001b[0m\u001b[0;34m)\u001b[0m\u001b[0;34m\u001b[0m\u001b[0m\n\u001b[0m\u001b[1;32m    731\u001b[0m             \u001b[0;32mexcept\u001b[0m \u001b[0mException\u001b[0m\u001b[0;34m:\u001b[0m\u001b[0;34m\u001b[0m\u001b[0m\n",
      "\u001b[0;32m/home/arvcondor/anaconda3/envs/Python3/lib/python3.6/site-packages/jupyter_client/session.py\u001b[0m in \u001b[0;36mrecv\u001b[0;34m(self, socket, mode, content, copy)\u001b[0m\n\u001b[1;32m    777\u001b[0m         \u001b[0;32mtry\u001b[0m\u001b[0;34m:\u001b[0m\u001b[0;34m\u001b[0m\u001b[0m\n\u001b[0;32m--> 778\u001b[0;31m             \u001b[0mmsg_list\u001b[0m \u001b[0;34m=\u001b[0m \u001b[0msocket\u001b[0m\u001b[0;34m.\u001b[0m\u001b[0mrecv_multipart\u001b[0m\u001b[0;34m(\u001b[0m\u001b[0mmode\u001b[0m\u001b[0;34m,\u001b[0m \u001b[0mcopy\u001b[0m\u001b[0;34m=\u001b[0m\u001b[0mcopy\u001b[0m\u001b[0;34m)\u001b[0m\u001b[0;34m\u001b[0m\u001b[0m\n\u001b[0m\u001b[1;32m    779\u001b[0m         \u001b[0;32mexcept\u001b[0m \u001b[0mzmq\u001b[0m\u001b[0;34m.\u001b[0m\u001b[0mZMQError\u001b[0m \u001b[0;32mas\u001b[0m \u001b[0me\u001b[0m\u001b[0;34m:\u001b[0m\u001b[0;34m\u001b[0m\u001b[0m\n",
      "\u001b[0;32m/home/arvcondor/anaconda3/envs/Python3/lib/python3.6/site-packages/zmq/sugar/socket.py\u001b[0m in \u001b[0;36mrecv_multipart\u001b[0;34m(self, flags, copy, track)\u001b[0m\n\u001b[1;32m    394\u001b[0m         \"\"\"\n\u001b[0;32m--> 395\u001b[0;31m         \u001b[0mparts\u001b[0m \u001b[0;34m=\u001b[0m \u001b[0;34m[\u001b[0m\u001b[0mself\u001b[0m\u001b[0;34m.\u001b[0m\u001b[0mrecv\u001b[0m\u001b[0;34m(\u001b[0m\u001b[0mflags\u001b[0m\u001b[0;34m,\u001b[0m \u001b[0mcopy\u001b[0m\u001b[0;34m=\u001b[0m\u001b[0mcopy\u001b[0m\u001b[0;34m,\u001b[0m \u001b[0mtrack\u001b[0m\u001b[0;34m=\u001b[0m\u001b[0mtrack\u001b[0m\u001b[0;34m)\u001b[0m\u001b[0;34m]\u001b[0m\u001b[0;34m\u001b[0m\u001b[0m\n\u001b[0m\u001b[1;32m    396\u001b[0m         \u001b[0;31m# have first part already, only loop while more to receive\u001b[0m\u001b[0;34m\u001b[0m\u001b[0;34m\u001b[0m\u001b[0m\n",
      "\u001b[0;32mzmq/backend/cython/socket.pyx\u001b[0m in \u001b[0;36mzmq.backend.cython.socket.Socket.recv (zmq/backend/cython/socket.c:7683)\u001b[0;34m()\u001b[0m\n",
      "\u001b[0;32mzmq/backend/cython/socket.pyx\u001b[0m in \u001b[0;36mzmq.backend.cython.socket.Socket.recv (zmq/backend/cython/socket.c:7460)\u001b[0;34m()\u001b[0m\n",
      "\u001b[0;32mzmq/backend/cython/socket.pyx\u001b[0m in \u001b[0;36mzmq.backend.cython.socket._recv_copy (zmq/backend/cython/socket.c:2344)\u001b[0;34m()\u001b[0m\n",
      "\u001b[0;32m/home/arvcondor/anaconda3/envs/Python3/lib/python3.6/site-packages/zmq/backend/cython/checkrc.pxd\u001b[0m in \u001b[0;36mzmq.backend.cython.checkrc._check_rc (zmq/backend/cython/socket.c:9621)\u001b[0;34m()\u001b[0m\n",
      "\u001b[0;31mKeyboardInterrupt\u001b[0m: ",
      "\nDuring handling of the above exception, another exception occurred:\n",
      "\u001b[0;31mKeyboardInterrupt\u001b[0m                         Traceback (most recent call last)",
      "\u001b[0;32m<ipython-input-9-a28cc58d1fbc>\u001b[0m in \u001b[0;36m<module>\u001b[0;34m()\u001b[0m\n\u001b[0;32m----> 1\u001b[0;31m \u001b[0mutil\u001b[0m\u001b[0;34m.\u001b[0m\u001b[0mprompt_for_user_token\u001b[0m\u001b[0;34m(\u001b[0m\u001b[0;34m'arvcondor'\u001b[0m\u001b[0;34m,\u001b[0m \u001b[0mscope\u001b[0m\u001b[0;34m,\u001b[0m \u001b[0;34m'5c73c2e5bcdc4e0fb2e465c75c2581b1'\u001b[0m\u001b[0;34m,\u001b[0m \u001b[0;34m'0b59ef7294014b91ad7b81c205e11fb2'\u001b[0m\u001b[0;34m,\u001b[0m \u001b[0;34m'localhost:8888/callback'\u001b[0m\u001b[0;34m)\u001b[0m\u001b[0;34m\u001b[0m\u001b[0m\n\u001b[0m",
      "\u001b[0;32m/home/arvcondor/anaconda3/envs/Python3/lib/python3.6/site-packages/spotipy/util.py\u001b[0m in \u001b[0;36mprompt_for_user_token\u001b[0;34m(username, scope, client_id, client_secret, redirect_uri)\u001b[0m\n\u001b[1;32m     78\u001b[0m             \u001b[0mresponse\u001b[0m \u001b[0;34m=\u001b[0m \u001b[0mraw_input\u001b[0m\u001b[0;34m(\u001b[0m\u001b[0;34m\"Enter the URL you were redirected to: \"\u001b[0m\u001b[0;34m)\u001b[0m\u001b[0;34m\u001b[0m\u001b[0m\n\u001b[1;32m     79\u001b[0m         \u001b[0;32mexcept\u001b[0m \u001b[0mNameError\u001b[0m\u001b[0;34m:\u001b[0m\u001b[0;34m\u001b[0m\u001b[0m\n\u001b[0;32m---> 80\u001b[0;31m             \u001b[0mresponse\u001b[0m \u001b[0;34m=\u001b[0m \u001b[0minput\u001b[0m\u001b[0;34m(\u001b[0m\u001b[0;34m\"Enter the URL you were redirected to: \"\u001b[0m\u001b[0;34m)\u001b[0m\u001b[0;34m\u001b[0m\u001b[0m\n\u001b[0m\u001b[1;32m     81\u001b[0m \u001b[0;34m\u001b[0m\u001b[0m\n\u001b[1;32m     82\u001b[0m         \u001b[0mprint\u001b[0m\u001b[0;34m(\u001b[0m\u001b[0;34m)\u001b[0m\u001b[0;34m\u001b[0m\u001b[0m\n",
      "\u001b[0;32m/home/arvcondor/anaconda3/envs/Python3/lib/python3.6/site-packages/ipykernel/kernelbase.py\u001b[0m in \u001b[0;36mraw_input\u001b[0;34m(self, prompt)\u001b[0m\n\u001b[1;32m    703\u001b[0m             \u001b[0mself\u001b[0m\u001b[0;34m.\u001b[0m\u001b[0m_parent_ident\u001b[0m\u001b[0;34m,\u001b[0m\u001b[0;34m\u001b[0m\u001b[0m\n\u001b[1;32m    704\u001b[0m             \u001b[0mself\u001b[0m\u001b[0;34m.\u001b[0m\u001b[0m_parent_header\u001b[0m\u001b[0;34m,\u001b[0m\u001b[0;34m\u001b[0m\u001b[0m\n\u001b[0;32m--> 705\u001b[0;31m             \u001b[0mpassword\u001b[0m\u001b[0;34m=\u001b[0m\u001b[0;32mFalse\u001b[0m\u001b[0;34m,\u001b[0m\u001b[0;34m\u001b[0m\u001b[0m\n\u001b[0m\u001b[1;32m    706\u001b[0m         )\n\u001b[1;32m    707\u001b[0m \u001b[0;34m\u001b[0m\u001b[0m\n",
      "\u001b[0;32m/home/arvcondor/anaconda3/envs/Python3/lib/python3.6/site-packages/ipykernel/kernelbase.py\u001b[0m in \u001b[0;36m_input_request\u001b[0;34m(self, prompt, ident, parent, password)\u001b[0m\n\u001b[1;32m    733\u001b[0m             \u001b[0;32mexcept\u001b[0m \u001b[0mKeyboardInterrupt\u001b[0m\u001b[0;34m:\u001b[0m\u001b[0;34m\u001b[0m\u001b[0m\n\u001b[1;32m    734\u001b[0m                 \u001b[0;31m# re-raise KeyboardInterrupt, to truncate traceback\u001b[0m\u001b[0;34m\u001b[0m\u001b[0;34m\u001b[0m\u001b[0m\n\u001b[0;32m--> 735\u001b[0;31m                 \u001b[0;32mraise\u001b[0m \u001b[0mKeyboardInterrupt\u001b[0m\u001b[0;34m\u001b[0m\u001b[0m\n\u001b[0m\u001b[1;32m    736\u001b[0m             \u001b[0;32melse\u001b[0m\u001b[0;34m:\u001b[0m\u001b[0;34m\u001b[0m\u001b[0m\n\u001b[1;32m    737\u001b[0m                 \u001b[0;32mbreak\u001b[0m\u001b[0;34m\u001b[0m\u001b[0m\n",
      "\u001b[0;31mKeyboardInterrupt\u001b[0m: "
     ]
    }
   ],
   "source": [
    "util.prompt_for_user_token('arvcondor', scope, '5c73c2e5bcdc4e0fb2e465c75c2581b1', '0b59ef7294014b91ad7b81c205e11fb2', 'localhost:8888/callback')"
   ]
  },
  {
   "cell_type": "code",
   "execution_count": 12,
   "metadata": {
    "collapsed": true
   },
   "outputs": [],
   "source": [
    "import spotipy\n",
    "import spotipy.util as util\n",
    "\n",
    "\n",
    "clientid = '5c73c2e5bcdc4e0fb2e465c75c2581b1'\n",
    "clientsecret = '064cdf3eb88249ce8afeb4e70b7cc79c'\n",
    "username = 'arvcondor'\n",
    "scopes = 'user-library-modify playlist-modify-private'\n",
    "CACHE = '.spotipyoauthcache'\n",
    "redirect = 'localhost:8888/callback'\n",
    "\n",
    "\n",
    "def getToken(SPOTIPY_CLIENT_ID, SPOTIPY_CLIENT_SECRET, username, scope, redirect):\n",
    "\n",
    "    token = util.prompt_for_user_token(username,\n",
    "                                    scope,\n",
    "                                    client_id=SPOTIPY_CLIENT_ID,\n",
    "                                    client_secret=SPOTIPY_CLIENT_SECRET,\n",
    "                                    redirect_uri=redirect)\n",
    "\n",
    "    if token:\n",
    "        print('Token successfully obtained!')\n",
    "        return token\n",
    "    else:\n",
    "        print('Failed to get token!')\n",
    "        return 0\n"
   ]
  },
  {
   "cell_type": "code",
   "execution_count": 13,
   "metadata": {},
   "outputs": [
    {
     "name": "stdout",
     "output_type": "stream",
     "text": [
      "\n",
      "\n",
      "            User authentication requires interaction with your\n",
      "            web browser. Once you enter your credentials and\n",
      "            give authorization, you will be redirected to\n",
      "            a url.  Paste that url you were directed to to\n",
      "            complete the authorization.\n",
      "\n",
      "        \n",
      "Opened https://accounts.spotify.com/authorize?client_id=5c73c2e5bcdc4e0fb2e465c75c2581b1&response_type=code&redirect_uri=localhost%3A8888%2Fcallback&scope=playlist-modify-private+user-library-modify in your browser\n",
      "\n",
      "\n",
      "Enter the URL you were redirected to: https://accounts.spotify.com/authorize?client_id=5c73c2e5bcdc4e0fb2e465c75c2581b1&response_type=code&redirect_uri=localhost%3A8888%2Fcallback&scope=playlist-modify-private+user-library-modify\n",
      "\n",
      "\n"
     ]
    },
    {
     "ename": "SpotifyOauthError",
     "evalue": "Bad Request",
     "output_type": "error",
     "traceback": [
      "\u001b[0;31m---------------------------------------------------------------------------\u001b[0m",
      "\u001b[0;31mSpotifyOauthError\u001b[0m                         Traceback (most recent call last)",
      "\u001b[0;32m<ipython-input-13-8d8f5d76789c>\u001b[0m in \u001b[0;36m<module>\u001b[0;34m()\u001b[0m\n\u001b[0;32m----> 1\u001b[0;31m \u001b[0mgetToken\u001b[0m\u001b[0;34m(\u001b[0m\u001b[0mclientid\u001b[0m\u001b[0;34m,\u001b[0m \u001b[0mclientsecret\u001b[0m\u001b[0;34m,\u001b[0m \u001b[0musername\u001b[0m\u001b[0;34m,\u001b[0m \u001b[0mscopes\u001b[0m\u001b[0;34m,\u001b[0m \u001b[0mredirect\u001b[0m\u001b[0;34m)\u001b[0m\u001b[0;34m\u001b[0m\u001b[0m\n\u001b[0m",
      "\u001b[0;32m<ipython-input-12-e87112ac7080>\u001b[0m in \u001b[0;36mgetToken\u001b[0;34m(SPOTIPY_CLIENT_ID, SPOTIPY_CLIENT_SECRET, username, scope, redirect)\u001b[0m\n\u001b[1;32m     17\u001b[0m                                     \u001b[0mclient_id\u001b[0m\u001b[0;34m=\u001b[0m\u001b[0mSPOTIPY_CLIENT_ID\u001b[0m\u001b[0;34m,\u001b[0m\u001b[0;34m\u001b[0m\u001b[0m\n\u001b[1;32m     18\u001b[0m                                     \u001b[0mclient_secret\u001b[0m\u001b[0;34m=\u001b[0m\u001b[0mSPOTIPY_CLIENT_SECRET\u001b[0m\u001b[0;34m,\u001b[0m\u001b[0;34m\u001b[0m\u001b[0m\n\u001b[0;32m---> 19\u001b[0;31m                                     redirect_uri=redirect)\n\u001b[0m\u001b[1;32m     20\u001b[0m \u001b[0;34m\u001b[0m\u001b[0m\n\u001b[1;32m     21\u001b[0m     \u001b[0;32mif\u001b[0m \u001b[0mtoken\u001b[0m\u001b[0;34m:\u001b[0m\u001b[0;34m\u001b[0m\u001b[0m\n",
      "\u001b[0;32m/home/arvcondor/anaconda3/envs/Python3/lib/python3.6/site-packages/spotipy/util.py\u001b[0m in \u001b[0;36mprompt_for_user_token\u001b[0;34m(username, scope, client_id, client_secret, redirect_uri)\u001b[0m\n\u001b[1;32m     84\u001b[0m \u001b[0;34m\u001b[0m\u001b[0m\n\u001b[1;32m     85\u001b[0m         \u001b[0mcode\u001b[0m \u001b[0;34m=\u001b[0m \u001b[0msp_oauth\u001b[0m\u001b[0;34m.\u001b[0m\u001b[0mparse_response_code\u001b[0m\u001b[0;34m(\u001b[0m\u001b[0mresponse\u001b[0m\u001b[0;34m)\u001b[0m\u001b[0;34m\u001b[0m\u001b[0m\n\u001b[0;32m---> 86\u001b[0;31m         \u001b[0mtoken_info\u001b[0m \u001b[0;34m=\u001b[0m \u001b[0msp_oauth\u001b[0m\u001b[0;34m.\u001b[0m\u001b[0mget_access_token\u001b[0m\u001b[0;34m(\u001b[0m\u001b[0mcode\u001b[0m\u001b[0;34m)\u001b[0m\u001b[0;34m\u001b[0m\u001b[0m\n\u001b[0m\u001b[1;32m     87\u001b[0m     \u001b[0;31m# Auth'ed API request\u001b[0m\u001b[0;34m\u001b[0m\u001b[0;34m\u001b[0m\u001b[0m\n\u001b[1;32m     88\u001b[0m     \u001b[0;32mif\u001b[0m \u001b[0mtoken_info\u001b[0m\u001b[0;34m:\u001b[0m\u001b[0;34m\u001b[0m\u001b[0m\n",
      "\u001b[0;32m/home/arvcondor/anaconda3/envs/Python3/lib/python3.6/site-packages/spotipy/oauth2.py\u001b[0m in \u001b[0;36mget_access_token\u001b[0;34m(self, code)\u001b[0m\n\u001b[1;32m    215\u001b[0m             headers=headers, verify=True, proxies=self.proxies)\n\u001b[1;32m    216\u001b[0m         \u001b[0;32mif\u001b[0m \u001b[0mresponse\u001b[0m\u001b[0;34m.\u001b[0m\u001b[0mstatus_code\u001b[0m \u001b[0;32mis\u001b[0m \u001b[0;32mnot\u001b[0m \u001b[0;36m200\u001b[0m\u001b[0;34m:\u001b[0m\u001b[0;34m\u001b[0m\u001b[0m\n\u001b[0;32m--> 217\u001b[0;31m             \u001b[0;32mraise\u001b[0m \u001b[0mSpotifyOauthError\u001b[0m\u001b[0;34m(\u001b[0m\u001b[0mresponse\u001b[0m\u001b[0;34m.\u001b[0m\u001b[0mreason\u001b[0m\u001b[0;34m)\u001b[0m\u001b[0;34m\u001b[0m\u001b[0m\n\u001b[0m\u001b[1;32m    218\u001b[0m         \u001b[0mtoken_info\u001b[0m \u001b[0;34m=\u001b[0m \u001b[0mresponse\u001b[0m\u001b[0;34m.\u001b[0m\u001b[0mjson\u001b[0m\u001b[0;34m(\u001b[0m\u001b[0;34m)\u001b[0m\u001b[0;34m\u001b[0m\u001b[0m\n\u001b[1;32m    219\u001b[0m         \u001b[0mtoken_info\u001b[0m \u001b[0;34m=\u001b[0m \u001b[0mself\u001b[0m\u001b[0;34m.\u001b[0m\u001b[0m_add_custom_values_to_token_info\u001b[0m\u001b[0;34m(\u001b[0m\u001b[0mtoken_info\u001b[0m\u001b[0;34m)\u001b[0m\u001b[0;34m\u001b[0m\u001b[0m\n",
      "\u001b[0;31mSpotifyOauthError\u001b[0m: Bad Request"
     ]
    }
   ],
   "source": [
    "getToken(clientid, clientsecret, username, scopes, redirect)"
   ]
  },
  {
   "cell_type": "code",
   "execution_count": 14,
   "metadata": {
    "collapsed": true
   },
   "outputs": [],
   "source": [
    "from spotipy import oauth2"
   ]
  },
  {
   "cell_type": "code",
   "execution_count": 15,
   "metadata": {},
   "outputs": [],
   "source": [
    "sp_oauth = oauth2.SpotifyOAuth(clientid, clientsecret,redirect,scope=scopes,cache_path=CACHE )"
   ]
  },
  {
   "cell_type": "code",
   "execution_count": 19,
   "metadata": {},
   "outputs": [
    {
     "name": "stdout",
     "output_type": "stream",
     "text": [
      "Symphony No. 14, \"Symphony in Microtones\": I. Lamentation: Homage to Supply Belcher (1750-1836) -> Gloria Coates\n"
     ]
    }
   ],
   "source": [
    "import sys\n",
    "import spotipy\n",
    "import spotipy.util as util\n",
    "\n",
    "import os\n",
    "from json.decoder import JSONDecodeError\n",
    "\n",
    "scope = 'user-library-read'\n",
    "redirect_uri = \"http://localhost:8877\"\n",
    " \n",
    "client_id = \"5c73c2e5bcdc4e0fb2e465c75c2581b1\"\n",
    "client_secret = \"064cdf3eb88249ce8afeb4e70b7cc79c\"\n",
    "username = \"arvcondor\"\n",
    "\n",
    "try:\n",
    "    token = util.prompt_for_user_token(username, scope, client_id, client_secret, redirect_uri)\n",
    "except (AttributeError, JSONDecodeError):\n",
    "    os.remove(f\".cache-{username}\")\n",
    "    token = util.prompt_for_user_token(username, scope, client_id, client_secret, redirect_uri)\n",
    "\n",
    "token = util.prompt_for_user_token(username, scope, client_id, client_secret, redirect_uri)\n",
    "\n",
    "if token:\n",
    "    sp = spotipy.Spotify(auth=token)\n",
    "    results = sp.current_user_saved_tracks(limit=1)\n",
    "    for item in results['items']:\n",
    "        if item['track']:\n",
    "            track = item['track']\n",
    "            print (u\"{0} -> {1}\".format(track['name'], track['artists'][0]['name']))\n",
    "        else:\n",
    "            print (\"Access Granted!\")\n",
    "else:\n",
    "    print (\"Can't get token for\", username)\n"
   ]
  },
  {
   "cell_type": "code",
   "execution_count": 18,
   "metadata": {
    "collapsed": true
   },
   "outputs": [],
   "source": [
    "#token = util.prompt_for_user_token(username, scope)\n",
    "\n",
    "from os import getenv\n",
    "\n",
    "CLIENT_ID = getenv('SPOTIPY_CLIENT_ID')\n",
    "CLIENT_SECRET = getenv('SPOTIPY_CLIENT_SECRET')\n",
    "REDIRECT_URL = getenv('SPOTIPY_REDIRECT_URI')\n",
    "\n",
    "\n",
    "\n",
    "def show_tracks(tracks):\n",
    "    for i, item in enumerate(tracks['items']):\n",
    "        track = item['track']\n",
    "        print (\"   %d %32.32s %s\" % (i, track['artists'][0]['name'],\n",
    "            track['name']))\n",
    "\n",
    "\n",
    "if __name__ == '__main__':\n",
    "    if len(sys.argv) > 1:\n",
    "        username = sys.argv[1]\n",
    "    else:\n",
    "        print (\"Whoops, need your username!\")\n",
    "        print (\"usage: python user_playlists.py [username]\")\n",
    "        sys.exit()\n",
    "\n",
    "    #token = util.prompt_for_user_token(username)\n",
    "\n",
    "    if token:\n",
    "        sp = spotipy.Spotify(auth=token)\n",
    "        playlists = sp.user_playlists(username)\n",
    "        for playlist in playlists['items']:\n",
    "            if playlist['owner']['id'] == username:\n",
    "                print (playlist['name'])\n",
    "                print ('  total tracks', playlist['tracks']['total'])\n",
    "                results = sp.user_playlist(username, playlist['id'],\n",
    "                    fields=\"tracks,next\")\n",
    "                tracks = results['tracks']\n",
    "                show_tracks(tracks)\n",
    "                while tracks['next']:\n",
    "                    tracks = sp.next(tracks)\n",
    "                    show_tracks(tracks)\n",
    "    else:\n",
    "        print (\"Can't get token for\", username)"
   ]
  },
  {
   "cell_type": "code",
   "execution_count": 27,
   "metadata": {
    "collapsed": true
   },
   "outputs": [],
   "source": [
    "import os\n",
    "from json.decoder import JSONDecodeError\n",
    "\n",
    "try:\n",
    "    token = util.prompt_for_user_token(username, scope, client_id, client_secret, redirect_uri)\n",
    "except (AttributeError, JSONDecodeError):\n",
    "    os.remove(f\".cache-{username}\")\n",
    "    token = util.prompt_for_user_token(username, scope, client_id, client_secret, redirect_uri)"
   ]
  },
  {
   "cell_type": "code",
   "execution_count": 238,
   "metadata": {},
   "outputs": [
    {
     "name": "stdout",
     "output_type": "stream",
     "text": [
      "0\n",
      "57retrying ...1secs\n",
      "98retrying ...1secs\n",
      "186retrying ...1secs\n",
      "241retrying ...1secs\n",
      "904905\n",
      "905\n",
      "905\n",
      "906907\n",
      "1806retrying ...1secs\n",
      "1997retrying ...1secs\n",
      "2727retrying ...1secs\n",
      "3019retrying ...1secs\n",
      "30423043\n"
     ]
    }
   ],
   "source": [
    "import sqlite3\n",
    "import spotipy\n",
    "import pandas as pd\n",
    "from spotipy.oauth2 import SpotifyClientCredentials\n",
    "import sys\n",
    "\n",
    "from collections import defaultdict\n",
    "\n",
    "songslst = defaultdict(list)\n",
    "\n",
    "client_credentials_manager = SpotifyClientCredentials()\n",
    "sp = spotipy.Spotify(client_credentials_manager=client_credentials_manager)\n",
    "\n",
    "everything = {}\n",
    "dct = {}\n",
    "lst = []\n",
    "def get_features(track_ids):\n",
    "    \"\"\"Getting the audio feautures\"\"\"\n",
    "    audio_features = sp.audio_features(track_ids)\n",
    "    return audio_features\n",
    "\n",
    "def get_id(artist, track):\n",
    "    \"\"\"Getting the id of a song based on artist and track name\"\"\"\n",
    "    search_query = \"artist:{0} track:{1}\".format(artist, track)\n",
    "    results = sp.search(search_query, type='track', limit=1)\n",
    "    ids = [i['id'] for i in results['tracks']['items']]\n",
    "    return ids\n",
    "\n",
    "'''\n",
    "def extract_db(db_file):\n",
    "    connection = sqlite3.connect(db_file)\n",
    "    c = connection.cursor()\n",
    "    c.execute(\"SELECT * from billboard\")\n",
    "    rows = c.fetchall()\n",
    "    data = { \"\".join(i[4].strip()): \"\".join(i[5].strip()) for i in rows}\n",
    "    print (data)\n",
    "    return data\n",
    "\n",
    "'''\n",
    "\n",
    "def main():\n",
    "    ctr = 0\n",
    "    \"\"\"Get the final dataframe\"\"\"\n",
    "    DB_FILE = \"billboard.db\" #FULL PATH TO DB FILE HERE\n",
    "    connection = sqlite3.connect(DB_FILE)\n",
    "    c = connection.cursor()\n",
    "    c.execute(\"select count(*) from billboard\")\n",
    "    id_length = c.fetchall()[0][0]\n",
    "    for e in range(id_length):\n",
    "        try:\n",
    "            c.execute(\"select * from billboard where id = %s\" %e)\n",
    "            song_info = c.fetchall()[0]\n",
    "            dct = {}\n",
    "            dct['db_id'] = song_info[0]\n",
    "            dct['date'] = song_info[1]\n",
    "            dct['year'] = song_info[2]\n",
    "            dct['week'] = song_info[3]\n",
    "            dct['artist'] = song_info[4].strip()\n",
    "            dct['track'] = song_info[5].strip()\n",
    "            artist = song_info[4].strip()\n",
    "            if re.findall(r'Featuring', artist):\n",
    "                artist = re.findall(r'(.*[^ ]?).*Featuring', artist)[0]\n",
    "            track = song_info[5].strip()\n",
    "            song_id = get_id(artist, track)\n",
    "            if song_id and get_features(song_id)[0] is not None:\n",
    "                audio_f = get_features(song_id)[0]\n",
    "                for feature, value in audio_f.items():\n",
    "                        dct[feature] = value\n",
    "            global everything\n",
    "            everything[song_info[0]] = dct\n",
    "            sys.stdout.write('\\r{}'.format(str(ctr)))\n",
    "            ctr += 1\n",
    "        except:\n",
    "            print (ctr)\n",
    "            #ctr += 1\n",
    "        #except Exception:\n",
    "            #print (ctr)\n",
    "                         \n",
    "if __name__=='__main__':\n",
    "    main()\n",
    "\n",
    "print (len(everything))"
   ]
  },
  {
   "cell_type": "code",
   "execution_count": 39,
   "metadata": {
    "collapsed": true
   },
   "outputs": [],
   "source": [
    "songs = pd.DataFrame(index = everything.keys(), columns = everything[3000].keys())"
   ]
  },
  {
   "cell_type": "code",
   "execution_count": 338,
   "metadata": {
    "collapsed": true
   },
   "outputs": [],
   "source": [
    "songs_all = pd.DataFrame(index = everything.keys(), columns = everything[1].keys())"
   ]
  },
  {
   "cell_type": "code",
   "execution_count": 339,
   "metadata": {
    "collapsed": true
   },
   "outputs": [],
   "source": [
    "for key, value in everything.items():\n",
    "    for kee, valyoo in value.items():\n",
    "        songs_all.loc[key, kee] = valyoo"
   ]
  },
  {
   "cell_type": "code",
   "execution_count": 22,
   "metadata": {
    "collapsed": true
   },
   "outputs": [],
   "source": [
    "#songs_all.to_csv('spotify_all.csv')"
   ]
  },
  {
   "cell_type": "code",
   "execution_count": 241,
   "metadata": {},
   "outputs": [],
   "source": [
    "#songs_all = pd.read_csv('spotify_all.csv')"
   ]
  },
  {
   "cell_type": "code",
   "execution_count": 249,
   "metadata": {},
   "outputs": [],
   "source": []
  },
  {
   "cell_type": "code",
   "execution_count": 341,
   "metadata": {},
   "outputs": [],
   "source": [
    "'''###FIXING NULL VALUES by finding artist/track names that spotify doesn't recognize\n",
    "#songs_all['artist'] = songs_all['artist'].apply(lambda x: re.sub(r'(.*) [w, W].*', r'\\1', x))\n",
    "\n",
    "songs_all['artist'] = songs_all['artist'].apply(lambda x: re.sub(r'(.*?),.*', r'\\1', x)) #removing comma'd artists\n",
    "\n",
    "songs_all['artist'] = songs_all['artist'].apply(lambda x: re.sub(r'(.*) [Featuring, featuring].*', r'\\1', x)) #removing featured artists\n",
    "\n",
    "songs_all['artist'] = songs_all['artist'].apply(lambda x: re.sub(r'(.*) And.*', r'\\1', x)) #removing 'And'\n",
    "\n",
    "songs_all['artist'] = songs_all['artist'].apply(lambda x: re.sub(r'(.*) &.*', r'\\1', x)) #removing ampersand\n",
    "\n",
    "songs_all['artist'] = songs_all['artist'].apply(lambda x: re.sub(r'(.*) [With, with].*', r'\\1', x)) #removing With\n",
    "\n",
    "songs_all['artist'] = songs_all['artist'].apply(lambda x: re.sub(r'Far\\*East Movement', 'Far East Movement', x)) #fixing far east\n",
    "\n",
    "songs_all['artist'] = songs_all['artist'].apply(lambda x: re.sub(r\"Soulja Boy Tell'em\", 'Soulja Boy', x)) #fixing soulja boy\n",
    "\n",
    "songs_all['artist'] = songs_all['artist'].apply(lambda x: re.sub(r\"SSgt\", 'Sgt', x))\n",
    "\n",
    "songs_all['track'] = songs_all['track'].apply(lambda x: re.sub(r'(.*) {0,}\\(.*', r'\\1', x)) #fixing parenthetical titles\n",
    "\n",
    "songs_all['track'] = songs_all['track'].apply(lambda x: re.sub(r\"I m\", \"I'm\", x))\n",
    "\n",
    "songs_all['track'] = songs_all['track'].apply(lambda x: re.sub(r\"That s\", \"That's\", x))\n",
    "\n",
    "songs_all['track'] = songs_all['track'].apply(lambda x: re.sub(r\"(.*)/.*\", r'\\1', x))\n",
    "\n",
    "songs_all['track'] = songs_all['track'].apply(lambda x: re.sub(r\"Don t\", \"Don't\", x))\n",
    "\n",
    "songs_all['track'] = songs_all['track'].apply(lambda x: re.sub(r\"I ll\", \"I'll\", x))\n",
    "\n",
    "songs_all['track'] = songs_all['track'].apply(lambda x: re.sub(r\"Who s\", \"Who's\", x))\n",
    "\n",
    "songs_all['track'] = songs_all['track'].apply(lambda x: re.sub(r\"Can t\", \"Can't\", x))\n",
    "\n",
    "songs_all['track'] = songs_all['track'].apply(lambda x: re.sub(r\"Didn t\", \"Didn't\", x))\n",
    "\n",
    "songs_all['track'] = songs_all['track'].apply(lambda x: re.sub(r\"Haven t\", \"Haven't\", x))\n",
    "\n",
    "songs_all['track'] = songs_all['track'].apply(lambda x: re.sub(r\"There ll\", \"There'll\", x))\n",
    "\n",
    "songs_all['track'] = songs_all['track'].apply(lambda x: re.sub(r\"Doesn t\", \"Doesn't\", x))\n",
    "\n",
    "songs_all['track'] = songs_all['track'].apply(lambda x: re.sub(r\"Ain t\", \"Ain't\", x))\n",
    "\n",
    "songs_all['track'] = songs_all['track'].apply(lambda x: re.sub(r\"Elmo s\", \"Elmo's\", x))\n",
    "\n",
    "songs_all['track'] = songs_all['track'].apply(lambda x: re.sub(r\"To-night\\?\", \"Tonight\", x))\n",
    "\n",
    "songs_all['track'] = songs_all['track'].apply(lambda x: re.sub(r\"To-night\\?\", \"Tonight\", x))\n",
    "\n",
    "songs_all['track'] = songs_all['track'].apply(lambda x: re.sub(r\"Independent Women Part 1\", \"Independent Women Pt. 1\", x))\n",
    "\n",
    "\n",
    "'''\n"
   ]
  },
  {
   "cell_type": "code",
   "execution_count": 381,
   "metadata": {},
   "outputs": [],
   "source": [
    "#songs_all[songs_all['acousticness'].isnull()].groupby(['artist', 'track']).count()"
   ]
  },
  {
   "cell_type": "code",
   "execution_count": 376,
   "metadata": {},
   "outputs": [],
   "source": [
    "songs = pd.read_csv('songs_scaled.csv')\n",
    "del songs['Unnamed: 0.1']\n",
    "del songs['Unnamed: 0.1.1']\n",
    "del songs['Unnamed: 0']"
   ]
  },
  {
   "cell_type": "code",
   "execution_count": 400,
   "metadata": {},
   "outputs": [],
   "source": [
    "songs_all_new = pd.DataFrame(index = songs.index, columns = songs.columns[:17]) #new df with first 17 columns\n",
    "#check to make sure there aren't other 'unnamed' columns"
   ]
  },
  {
   "cell_type": "code",
   "execution_count": 401,
   "metadata": {
    "collapsed": true
   },
   "outputs": [],
   "source": [
    "#grabbing ids from the scaled dataframe and putting unscaled features in a new dataframe. for some reason, getting\n",
    "#the IDs and then the features from the spotify API has been weirdly unreliable; this works much better\n",
    "def get_features_all_over_again(songs):\n",
    "    global songs_all_new\n",
    "    for index, row in songs.iterrows():\n",
    "        features = get_features(songs.loc[index, 'id'])\n",
    "        features = features[0] #because the first value is a dict nested in a list\n",
    "        songs_all_new.loc[index, 'artist'] = songs.loc[index, 'artist']\n",
    "        songs_all_new.loc[index, 'track'] = songs.loc[index, 'track']\n",
    "        songs_all_new.loc[index, 'id'] = songs.loc[index, 'id']\n",
    "        songs_all_new.loc[index, 'date'] = songs.loc[index, 'date']\n",
    "        songs_all_new.loc[index, 'year'] = songs.loc[index, 'year']\n",
    "        songs_all_new.loc[index, 'acousticness'] = features['acousticness']\n",
    "        songs_all_new.loc[index, 'energy'] = features['energy']\n",
    "        songs_all_new.loc[index, 'danceability'] = features['danceability']\n",
    "        songs_all_new.loc[index, 'duration_ms'] = features['duration_ms']\n",
    "        songs_all_new.loc[index, 'instrumentalness'] = features['instrumentalness']\n",
    "        songs_all_new.loc[index, 'key'] = features['key']\n",
    "        songs_all_new.loc[index, 'liveness'] = features['liveness']\n",
    "        songs_all_new.loc[index, 'loudness'] = features['loudness']\n",
    "        songs_all_new.loc[index, 'mode'] = features['mode']\n",
    "        songs_all_new.loc[index, 'speechiness'] = features['speechiness']\n",
    "        songs_all_new.loc[index, 'time_signature'] = features['time_signature']\n",
    "        songs_all_new.loc[index, 'tempo'] = features['tempo']\n",
    "        songs_all_new.loc[index, 'valence'] = features['valence']\n",
    "    "
   ]
  },
  {
   "cell_type": "code",
   "execution_count": 402,
   "metadata": {},
   "outputs": [],
   "source": [
    "get_features_all_over_again(songs)"
   ]
  },
  {
   "cell_type": "code",
   "execution_count": 521,
   "metadata": {},
   "outputs": [
    {
     "data": {
      "text/html": [
       "<div>\n",
       "<style>\n",
       "    .dataframe thead tr:only-child th {\n",
       "        text-align: right;\n",
       "    }\n",
       "\n",
       "    .dataframe thead th {\n",
       "        text-align: left;\n",
       "    }\n",
       "\n",
       "    .dataframe tbody tr th {\n",
       "        vertical-align: top;\n",
       "    }\n",
       "</style>\n",
       "<table border=\"1\" class=\"dataframe\">\n",
       "  <thead>\n",
       "    <tr style=\"text-align: right;\">\n",
       "      <th></th>\n",
       "      <th>track</th>\n",
       "      <th>artist</th>\n",
       "    </tr>\n",
       "  </thead>\n",
       "  <tbody>\n",
       "    <tr>\n",
       "      <th>875</th>\n",
       "      <td>Lose Yourself</td>\n",
       "      <td>Eminem</td>\n",
       "    </tr>\n",
       "    <tr>\n",
       "      <th>876</th>\n",
       "      <td>Bump, Bump, Bump</td>\n",
       "      <td>B2K &amp; P. Diddy</td>\n",
       "    </tr>\n",
       "    <tr>\n",
       "      <th>877</th>\n",
       "      <td>All I Have</td>\n",
       "      <td>Jennifer Lopez Featuring LL Cool J</td>\n",
       "    </tr>\n",
       "    <tr>\n",
       "      <th>878</th>\n",
       "      <td>In Da Club</td>\n",
       "      <td>50 Cent</td>\n",
       "    </tr>\n",
       "    <tr>\n",
       "      <th>879</th>\n",
       "      <td>Get Busy</td>\n",
       "      <td>Sean Paul</td>\n",
       "    </tr>\n",
       "    <tr>\n",
       "      <th>880</th>\n",
       "      <td>21 Questions</td>\n",
       "      <td>50 Cent Featuring Nate Dogg</td>\n",
       "    </tr>\n",
       "    <tr>\n",
       "      <th>881</th>\n",
       "      <td>This Is The Night</td>\n",
       "      <td>Clay Aiken</td>\n",
       "    </tr>\n",
       "    <tr>\n",
       "      <th>882</th>\n",
       "      <td>Crazy In Love</td>\n",
       "      <td>Beyonce Featuring Jay-Z</td>\n",
       "    </tr>\n",
       "    <tr>\n",
       "      <th>883</th>\n",
       "      <td>Shake Ya Tailfeather</td>\n",
       "      <td>Nelly, P. Diddy &amp; Murphy Lee</td>\n",
       "    </tr>\n",
       "    <tr>\n",
       "      <th>884</th>\n",
       "      <td>Baby Boy</td>\n",
       "      <td>Beyonce Featuring Sean Paul</td>\n",
       "    </tr>\n",
       "    <tr>\n",
       "      <th>885</th>\n",
       "      <td>Stand Up</td>\n",
       "      <td>Ludacris Featuring Shawnna</td>\n",
       "    </tr>\n",
       "  </tbody>\n",
       "</table>\n",
       "</div>"
      ],
      "text/plain": [
       "                    track                              artist\n",
       "875         Lose Yourself                              Eminem\n",
       "876      Bump, Bump, Bump                      B2K & P. Diddy\n",
       "877            All I Have  Jennifer Lopez Featuring LL Cool J\n",
       "878            In Da Club                             50 Cent\n",
       "879              Get Busy                           Sean Paul\n",
       "880          21 Questions         50 Cent Featuring Nate Dogg\n",
       "881     This Is The Night                          Clay Aiken\n",
       "882         Crazy In Love             Beyonce Featuring Jay-Z\n",
       "883  Shake Ya Tailfeather        Nelly, P. Diddy & Murphy Lee\n",
       "884              Baby Boy         Beyonce Featuring Sean Paul\n",
       "885              Stand Up          Ludacris Featuring Shawnna"
      ]
     },
     "execution_count": 521,
     "metadata": {},
     "output_type": "execute_result"
    }
   ],
   "source": [
    "songs[songs['year'] == 2003][['track', 'artist']]"
   ]
  },
  {
   "cell_type": "code",
   "execution_count": 431,
   "metadata": {
    "collapsed": true
   },
   "outputs": [],
   "source": [
    "#creating cuts for every five years\n",
    "songs_all_new['cut'] = pd.cut(songs_all_new['year'], 12, labels = [1956, 1961, 1966, 1971, 1976, 1981, 1986, 1991, 1996, 2001, 2006, 2011])"
   ]
  },
  {
   "cell_type": "code",
   "execution_count": 443,
   "metadata": {
    "collapsed": true
   },
   "outputs": [],
   "source": [
    "songs_all_new.to_csv('songs_unscaled.csv')"
   ]
  },
  {
   "cell_type": "code",
   "execution_count": 343,
   "metadata": {},
   "outputs": [
    {
     "name": "stdout",
     "output_type": "stream",
     "text": [
      "106 []\n",
      "200 []\n",
      "201 []\n",
      "202 []\n",
      "203 []\n",
      "204 []\n",
      "279 []\n",
      "280 []\n",
      "281 []\n",
      "282 []\n",
      "642 []\n",
      "643 []\n",
      "644 []\n",
      "864 []\n",
      "871 []\n",
      "872 []\n",
      "886 []\n",
      "950 []\n",
      "1233 []\n",
      "1234 []\n",
      "1235 []\n",
      "1236 []\n",
      "1237 []\n",
      "1238 []\n",
      "1239 []\n",
      "1240 []\n",
      "1271 []\n",
      "1385 []\n",
      "1386 []\n",
      "1387 []\n",
      "1493 []\n",
      "1553 []\n",
      "retrying ...1secs\n",
      "1625 []\n",
      "1626 []\n",
      "1645 []\n",
      "1646 []\n",
      "1647 []\n",
      "1655 []\n",
      "1656 []\n",
      "1657 []\n",
      "1658 []\n",
      "1707 []\n",
      "1840 []\n",
      "2191 []\n",
      "2192 []\n",
      "2207 []\n",
      "2208 []\n",
      "2209 []\n",
      "2210 []\n",
      "2211 []\n",
      "2212 []\n",
      "2213 []\n",
      "2214 []\n",
      "2215 []\n",
      "2216 []\n",
      "2217 []\n",
      "2545 []\n",
      "2546 []\n",
      "2548 []\n",
      "2678 []\n",
      "2679 []\n",
      "2680 []\n",
      "2681 []\n",
      "2682 []\n"
     ]
    }
   ],
   "source": [
    "#getting null values. sometimes this works, sometimes it doesn't. i don't know why\n",
    "for index, row in songs_all[songs_all['acousticness'].isnull()].iterrows():\n",
    "    try:\n",
    "        songid = get_id(songs_all.loc[index, 'artist'].split(' ')[0], songs_all.loc[index, 'track'])\n",
    "        features = get_features(songid)[0]\n",
    "        for key, value in features.items():\n",
    "            songs_all.loc[index, key] = value\n",
    "    except:\n",
    "        print (index, songid)"
   ]
  },
  {
   "cell_type": "code",
   "execution_count": 54,
   "metadata": {
    "collapsed": true
   },
   "outputs": [],
   "source": [
    "#songs_all = songs_all[~songs_all['acousticness'].isnull()]"
   ]
  },
  {
   "cell_type": "code",
   "execution_count": 68,
   "metadata": {
    "collapsed": true
   },
   "outputs": [],
   "source": [
    "songs = songs_all.groupby(['id'], sort=False).max().reset_index()"
   ]
  },
  {
   "cell_type": "code",
   "execution_count": null,
   "metadata": {
    "collapsed": true
   },
   "outputs": [],
   "source": [
    "####################################################THE ANALYSIS####################################"
   ]
  },
  {
   "cell_type": "code",
   "execution_count": 52,
   "metadata": {
    "collapsed": true
   },
   "outputs": [],
   "source": [
    "streak = 1\n",
    "for index, row in songs_all.iterrows():\n",
    "    try:\n",
    "        if songs_all.loc[index, 'id'] == songs_all.loc[index - 1, 'id']:\n",
    "            streak += 1\n",
    "            songs_all.loc[index, 'streak'] = streak\n",
    "        else:\n",
    "            streak = 1\n",
    "            songs_all.loc[index, 'streak'] = streak\n",
    "    except:\n",
    "        pass"
   ]
  },
  {
   "cell_type": "code",
   "execution_count": 51,
   "metadata": {
    "collapsed": true
   },
   "outputs": [],
   "source": [
    "songs_all['streak'] = pd.Series()\n",
    "songs_all['streak'] = songs_all['streak'].fillna(0)"
   ]
  },
  {
   "cell_type": "code",
   "execution_count": 89,
   "metadata": {
    "collapsed": true
   },
   "outputs": [],
   "source": [
    "#MINMAX SCALING THE FEATURES\n",
    "from sklearn.preprocessing import MinMaxScaler"
   ]
  },
  {
   "cell_type": "code",
   "execution_count": 90,
   "metadata": {
    "collapsed": true
   },
   "outputs": [],
   "source": [
    "scaler = MinMaxScaler()"
   ]
  },
  {
   "cell_type": "code",
   "execution_count": 265,
   "metadata": {
    "collapsed": true
   },
   "outputs": [],
   "source": [
    "data = songs[['danceability', 'energy', 'key', 'loudness', 'speechiness', 'acousticness', 'instrumentalness',\n",
    "             'liveness', 'valence', 'tempo', 'duration_ms']]"
   ]
  },
  {
   "cell_type": "code",
   "execution_count": 95,
   "metadata": {
    "collapsed": true
   },
   "outputs": [],
   "source": [
    "fitdata = scaler.fit_transform()"
   ]
  },
  {
   "cell_type": "code",
   "execution_count": 267,
   "metadata": {
    "collapsed": true
   },
   "outputs": [],
   "source": [
    "songs_scaled = pd.DataFrame(fitdata, columns = data.columns)\n",
    "songs_scaled['key'] = songs['key']\n",
    "songs_scaled['artist'] = songs['artist']\n",
    "songs_scaled['id'] = songs['id']\n",
    "songs_scaled['track'] = songs['track']\n",
    "songs_scaled['date'] = songs['date']\n",
    "songs_scaled['year'] = songs['year']\n",
    "songs_scaled['streak'] = songs['streak']"
   ]
  },
  {
   "cell_type": "code",
   "execution_count": null,
   "metadata": {
    "collapsed": true
   },
   "outputs": [],
   "source": [
    "###STANDARD SCALING THE FEATURES"
   ]
  },
  {
   "cell_type": "code",
   "execution_count": 425,
   "metadata": {
    "collapsed": true
   },
   "outputs": [],
   "source": [
    "from sklearn.preprocessing import StandardScaler"
   ]
  },
  {
   "cell_type": "code",
   "execution_count": 426,
   "metadata": {
    "collapsed": true
   },
   "outputs": [],
   "source": [
    "stdscaler = StandardScaler()"
   ]
  },
  {
   "cell_type": "code",
   "execution_count": 427,
   "metadata": {
    "collapsed": true
   },
   "outputs": [],
   "source": [
    "data = songs_all_new[['danceability', 'energy', 'key', 'loudness', 'speechiness', 'acousticness', 'instrumentalness',\n",
    "             'liveness', 'valence', 'tempo', 'duration_ms']]"
   ]
  },
  {
   "cell_type": "code",
   "execution_count": 428,
   "metadata": {
    "collapsed": true
   },
   "outputs": [],
   "source": [
    "fitdata = stdscaler.fit_transform(data)"
   ]
  },
  {
   "cell_type": "code",
   "execution_count": 429,
   "metadata": {
    "collapsed": true
   },
   "outputs": [],
   "source": [
    "songs_scaled_std = pd.DataFrame(fitdata, columns = data.columns)\n",
    "songs_scaled_std['key'] = songs_all_new['key']\n",
    "songs_scaled_std['artist'] = songs_all_new['artist']\n",
    "songs_scaled_std['id'] = songs_all_new['id']\n",
    "songs_scaled_std['track'] = songs_all_new['track']\n",
    "songs_scaled_std['date'] = songs_all_new['date']\n",
    "songs_scaled_std['year'] = songs_all_new['year']\n",
    "songs_scaled_std['streak'] = songs_all_new['streak']"
   ]
  },
  {
   "cell_type": "code",
   "execution_count": 444,
   "metadata": {
    "collapsed": true
   },
   "outputs": [],
   "source": [
    "songs_scaled_std.to_csv('songs_scaled_std.csv')"
   ]
  },
  {
   "cell_type": "code",
   "execution_count": null,
   "metadata": {
    "collapsed": true
   },
   "outputs": [],
   "source": []
  },
  {
   "cell_type": "code",
   "execution_count": 138,
   "metadata": {
    "collapsed": true
   },
   "outputs": [],
   "source": [
    "#measuring differences across ALL YEARS, not simply per year. This produces the grpah about the eighties\n",
    "stds = []\n",
    "eighties = []\n",
    "year = 0\n",
    "def get_std(x):\n",
    "    global year\n",
    "    lst = []\n",
    "    for column, item in x.iteritems():\n",
    "        if column == 'id':\n",
    "            pass\n",
    "        elif column == 'db_id':\n",
    "            pass\n",
    "        elif column == 'type':\n",
    "            pass\n",
    "        elif column == 'date':\n",
    "            pass\n",
    "        elif column == 'year':\n",
    "            pass\n",
    "        elif column == 'week':\n",
    "            pass\n",
    "        elif column == 'uri':\n",
    "            pass\n",
    "        elif column == 'streak':\n",
    "            pass\n",
    "        elif type(item) == str:\n",
    "            pass\n",
    "        else:\n",
    "            global year\n",
    "            ###UNCOMMENT ALL THIS IF YOU WANT TO MEASURE SOMETHING BESIDES THE 1980S\n",
    "            '''\n",
    "            if year == 1958:\n",
    "                lst.append(np.sqrt(np.square(x[column] - songs[(songs['year'] <= year + 2) & (songs['year'] >= year)][column].mean()) /\n",
    "                                   songs[(songs['year'] <= year + 2) & (songs['year'] >= year)][column].std()))\n",
    "            elif year == 2016:\n",
    "                lst.append(np.sqrt(np.square(x[column] - songs[(songs['year'] >= year - 2) & (songs['year'] <= year)][column].mean()) / \n",
    "                                   songs[(songs['year'] >= year - 2) & (songs['year'] <= year)][column].std()))\n",
    "            else:\n",
    "                lst.append(np.sqrt(np.square(x[column] - songs[(songs['year'] >= year - 2) & (songs['year'] <= year + 2)][column].mean()) / \n",
    "                                   songs[(songs['year'] >= year - 2) & (songs['year'] <= year + 2)][column].std()))\n",
    "            '''\n",
    "            lst.append(np.sqrt(np.square(x[column] - songs[column].mean()) / \n",
    "                                   songs[column].std()))\n",
    "    global stds\n",
    "    #stds.append(pd.Series(lst).mean())\n",
    "    eighties.append(pd.Series(lst).mean())\n",
    "        \n",
    "def iterate(songs):\n",
    "    for e in range(len(songs)):\n",
    "        df = songs.loc[e]\n",
    "        global year\n",
    "        year = df['year']\n",
    "        get_std(df)"
   ]
  },
  {
   "cell_type": "code",
   "execution_count": 139,
   "metadata": {
    "collapsed": true
   },
   "outputs": [],
   "source": [
    "iterate(songs)"
   ]
  },
  {
   "cell_type": "code",
   "execution_count": 140,
   "metadata": {
    "collapsed": true
   },
   "outputs": [],
   "source": [
    "#songs['std_exact_year'] = stds\n",
    "songs['eighties'] = eighties"
   ]
  },
  {
   "cell_type": "code",
   "execution_count": 269,
   "metadata": {
    "collapsed": true
   },
   "outputs": [],
   "source": [
    "stds = []\n",
    "iterate(songs_scaled)\n",
    "songs_scaled['std'] = stds"
   ]
  },
  {
   "cell_type": "code",
   "execution_count": 324,
   "metadata": {
    "collapsed": true
   },
   "outputs": [],
   "source": [
    "years = songs_scaled.groupby('year').mean()\n",
    "years['top_song'] = pd.Series()\n",
    "years['max_streak'] = pd.Series()"
   ]
  },
  {
   "cell_type": "code",
   "execution_count": 346,
   "metadata": {
    "collapsed": true
   },
   "outputs": [],
   "source": [
    "songslst = []\n",
    "streaklist = []\n",
    "\n",
    "for year in years.index:\n",
    "    getyear = songs[songs['year'] == year]\n",
    "    \n",
    "    song = (getyear[getyear['streak'] == getyear['streak'].max()]['artist'].to_string(index=False) + ',' + ' ' + \n",
    "            str(getyear[getyear['streak'] == getyear['streak'].max()]['track'].to_string(index=False)))\n",
    "    songslst.append(song)\n",
    "    9\n",
    "    streak = list(getyear[getyear['streak'] == getyear['streak'].max()]['streak'])[0]\n",
    "    streaklist.append(streak)\n",
    "    \n",
    "years['top_song'] = songslst\n",
    "years['max_streak'] = streaklist"
   ]
  },
  {
   "cell_type": "code",
   "execution_count": 141,
   "metadata": {
    "collapsed": true
   },
   "outputs": [],
   "source": [
    "songs.to_csv('spotify_with_broad_years.csv')"
   ]
  },
  {
   "cell_type": "code",
   "execution_count": 2,
   "metadata": {
    "collapsed": true
   },
   "outputs": [],
   "source": [
    "songs = pd.read_csv('songs_scaled.csv')"
   ]
  },
  {
   "cell_type": "code",
   "execution_count": null,
   "metadata": {
    "collapsed": true
   },
   "outputs": [],
   "source": [
    "#####SAMPLING BY YEAR#########"
   ]
  },
  {
   "cell_type": "code",
   "execution_count": 526,
   "metadata": {
    "collapsed": true
   },
   "outputs": [],
   "source": [
    "samples = pd.DataFrame(columns = songs.columns)"
   ]
  },
  {
   "cell_type": "code",
   "execution_count": 464,
   "metadata": {
    "collapsed": true
   },
   "outputs": [],
   "source": [
    "#creating cuts for every\n",
    "songs['cut'] = pd.cut(songs['year'], 12, labels = [1956, 1961, 1966, 1971, 1976, 1981, 1986, 1991, 1996, 2001, 2006, 2011])"
   ]
  },
  {
   "cell_type": "code",
   "execution_count": 167,
   "metadata": {},
   "outputs": [
    {
     "data": {
      "text/plain": [
       "[1963, 1956, 1968, 1973, 1979, ..., 1989, 1994, 2000, 2005, 2010]\n",
       "Length: 11\n",
       "Categories (11, int64): [1956 < 1963 < 1968 < 1973 ... 1994 < 2000 < 2005 < 2010]"
      ]
     },
     "execution_count": 167,
     "metadata": {},
     "output_type": "execute_result"
    }
   ],
   "source": [
    "songs['cut'].unique()"
   ]
  },
  {
   "cell_type": "code",
   "execution_count": 551,
   "metadata": {
    "collapsed": true
   },
   "outputs": [],
   "source": [
    "##randomly sample from songs's bins\n",
    "\n",
    "def get_samples(songs):\n",
    "    for cut in songs.groupby('cut').count().reset_index()['cut']:\n",
    "        year_df = songs[songs['cut'] == cut]\n",
    "        sample = year_df.sample(48, random_state = 42)\n",
    "        global samples\n",
    "        samples = samples.append(sample)"
   ]
  },
  {
   "cell_type": "code",
   "execution_count": 552,
   "metadata": {
    "collapsed": true
   },
   "outputs": [],
   "source": [
    "get_samples(songs)"
   ]
  },
  {
   "cell_type": "code",
   "execution_count": 553,
   "metadata": {
    "collapsed": true
   },
   "outputs": [],
   "source": [
    "samples = samples.reset_index()"
   ]
  },
  {
   "cell_type": "code",
   "execution_count": 554,
   "metadata": {},
   "outputs": [
    {
     "data": {
      "text/plain": [
       "Index(['index', 'acousticness', 'artist', 'cut', 'danceability', 'date',\n",
       "       'duration_ms', 'eighties', 'energy', 'id', 'instrumentalness', 'iqr',\n",
       "       'iqr_year', 'key', 'liveness', 'loudness', 'lyrics', 'mad',\n",
       "       'speechiness', 'std', 'std_exact_year', 'streak', 'tempo', 'track',\n",
       "       'valence', 'x', 'y', 'year'],\n",
       "      dtype='object')"
      ]
     },
     "execution_count": 554,
     "metadata": {},
     "output_type": "execute_result"
    }
   ],
   "source": [
    "samples.columns"
   ]
  },
  {
   "cell_type": "code",
   "execution_count": 555,
   "metadata": {},
   "outputs": [],
   "source": [
    "samples = samples[['danceability', 'energy', 'loudness', 'speechiness', 'acousticness', 'instrumentalness', 'liveness', 'valence',\n",
    "         'tempo', 'duration_ms', 'date', 'year', 'cut']]"
   ]
  },
  {
   "cell_type": "code",
   "execution_count": 556,
   "metadata": {
    "collapsed": true
   },
   "outputs": [],
   "source": [
    "stds = []\n",
    "cut = 0\n",
    "def get_std_cut(x):\n",
    "    global cut\n",
    "    lst = []\n",
    "    for column, item in x.iteritems():\n",
    "        if column == 'id':\n",
    "            pass\n",
    "        elif column == 'db_id':\n",
    "            pass\n",
    "        elif column == 'type':\n",
    "            pass\n",
    "        elif column == 'date':\n",
    "            pass\n",
    "        elif column == 'year':\n",
    "            pass\n",
    "        elif column == 'week':\n",
    "            pass\n",
    "        elif column == 'uri':\n",
    "            pass\n",
    "        elif column == 'streak':\n",
    "            pass\n",
    "        elif column == 'cut':\n",
    "            pass\n",
    "        elif type(item) == str:\n",
    "            pass\n",
    "        #elif column == 'acousticness' or column == 'liveness' or column == 'instrumentalness' or column == 'duration_ms':\n",
    "         #   lst.append(abs(x[column] - samples[samples['cut'] == cut][column].median()))\n",
    "        else:\n",
    "            if year == 1958:\n",
    "                lst.append(np.sqrt(np.square(x[column] - songs[(songs['year'] <= year + 2) & (songs['year'] >= year)][column].mean()) /\n",
    "                                   songs[(songs['year'] <= year + 2) & (songs['year'] >= year)][column].std()))\n",
    "            elif year == 2016:\n",
    "                lst.append(np.sqrt(np.square(x[column] - songs[(songs['year'] >= year - 2) & (songs['year'] <= year)][column].mean()) / \n",
    "                                   songs[(songs['year'] >= year - 2) & (songs['year'] <= year)][column].std()))\n",
    "            else:\n",
    "                lst.append(np.sqrt(np.square(x[column] - songs[(songs['year'] >= year - 2) & (songs['year'] <= year + 2)][column].mean()) / \n",
    "                                   songs[(songs['year'] >= year - 2) & (songs['year'] <= year + 2)][column].std()))\n",
    "            #lst.append(np.sqrt(np.square(x[column] - samples[samples['cut'] == cut][column].mean()) / \n",
    "                                   #samples[samples['cut'] == cut][column].std()))\n",
    "            #lst.append(abs(x[column] - samples[samples['cut'] == cut][column].mean()))\n",
    "    global stds\n",
    "    #print (lst)\n",
    "    stds.append(pd.Series(lst).mean())\n",
    "    #eighties.append(pd.Series(lst).mean())\n",
    "        \n",
    "def iterate_cut(samples):\n",
    "    for e in range(len(samples)):\n",
    "        df = samples.loc[e]\n",
    "        global cut\n",
    "        cut = df['cut']\n",
    "        get_std_cut(df)"
   ]
  },
  {
   "cell_type": "code",
   "execution_count": 557,
   "metadata": {},
   "outputs": [],
   "source": [
    "iterate_cut(samples)"
   ]
  },
  {
   "cell_type": "code",
   "execution_count": 559,
   "metadata": {
    "collapsed": true
   },
   "outputs": [],
   "source": [
    "samples['mad'] = stds"
   ]
  },
  {
   "cell_type": "code",
   "execution_count": 560,
   "metadata": {},
   "outputs": [],
   "source": [
    "samples.to_csv('samples_new_cuts.csv')"
   ]
  },
  {
   "cell_type": "code",
   "execution_count": 561,
   "metadata": {},
   "outputs": [],
   "source": [
    "#kind of confusing, but this is what these are:\n",
    "#features: sound features of sampled data, minmax scaled\n",
    "#features_all: sound features of all songs, minmax scaled\n",
    "#features_all_std: sound features of all songs, standard scaled\n",
    "#features_std: sound features of sampled data, standard scaled\n",
    "\n",
    "features = samples[['danceability', 'energy', 'loudness', 'speechiness', 'acousticness', 'instrumentalness',\n",
    "                 'liveness', 'valence', 'tempo', 'duration_ms', 'cut']]\n",
    "\n",
    "features_all = songs[['danceability', 'energy', 'loudness', 'speechiness', 'acousticness', 'instrumentalness',\n",
    "                 'liveness', 'valence', 'tempo', 'duration_ms', 'cut']]\n",
    "\n",
    "features_all_std = songs_all_new[['danceability', 'energy', 'loudness', 'speechiness', 'acousticness', 'instrumentalness',\n",
    "                 'liveness', 'valence', 'tempo', 'duration_ms','cut']]\n"
   ]
  },
  {
   "cell_type": "code",
   "execution_count": 562,
   "metadata": {},
   "outputs": [],
   "source": [
    "\n",
    "\n",
    "###FINDING DISTANCES IN VECTOR SPACE\n",
    "##searching by cut\n",
    "\n",
    "'''this features_all has only the cut without the year, for use in the function below'''\n",
    "\n",
    "\n",
    "from collections import defaultdict\n",
    "\n",
    "distances_median = [] #list for the median euclidean distances\n",
    "distances_mean = [] #list for the median euclidean distances\n",
    "most_different = pd.DataFrame(index = range(28611), columns = [['cut', 'song1', 'song2', 'distance']])\n",
    "cut = 0\n",
    "song_index = 0\n",
    "\n",
    "index_pos = 0\n",
    "def get_distances(df):\n",
    "    global cut\n",
    "    global distances\n",
    "    global features_all\n",
    "    song = np.array(df.drop(['cut']))\n",
    "        \n",
    "    distance_list = []\n",
    "        \n",
    "    cut_songs_df = features_all[features_all['cut'] == cut]\n",
    "    \n",
    "    del cut_songs_df['cut']\n",
    "    \n",
    "        \n",
    "    for index, row in cut_songs_df.iterrows():\n",
    "        distance = np.linalg.norm(song - np.array(cut_songs_df.loc[index]))\n",
    "        distance_list.append(distance)\n",
    "        \n",
    "        global song_index\n",
    "        global most_different\n",
    "        global index_pos\n",
    "        \n",
    "        ''' uncomment to create the dataframe of most and least different songs per cut\n",
    "        most_different.loc[index_pos, 'cut'] = cut\n",
    "        most_different.loc[index_pos, 'song1'] = song_index, index\n",
    "        most_different.loc[index_pos, 'song2'] = index\n",
    "        most_different.loc[index_pos, 'distance'] = distance\n",
    "        '''\n",
    "        \n",
    "        index_pos += 1\n",
    "        \n",
    "    distances_median.append(pd.Series(distance_list).median())#getting the median euclidean distances\n",
    "    distances_mean.append(pd.Series(distance_list).mean())#getting the mean euclidean distances\n",
    "    \n",
    "    sys.stdout.write('\\r {} position, {} percent'.format(song_index, song_index/ len(features_all)))\n",
    "\n",
    "\n",
    "def iterate_cut(features):\n",
    "    for e in range(len(features)):\n",
    "        df = features.loc[e]\n",
    "        global song_index\n",
    "        song_index = e\n",
    "        global cut\n",
    "        cut = df['cut']\n",
    "        get_distances(df)"
   ]
  },
  {
   "cell_type": "code",
   "execution_count": 563,
   "metadata": {},
   "outputs": [
    {
     "name": "stdout",
     "output_type": "stream",
     "text": [
      " 1042 position, 0.9990412272291467 percent"
     ]
    }
   ],
   "source": [
    "iterate_cut(features_all) #choose 'features' for samples and 'features_all' for all songs"
   ]
  },
  {
   "cell_type": "code",
   "execution_count": 564,
   "metadata": {},
   "outputs": [],
   "source": [
    "'''the below df should probably remain temporary and the lists should be attached to the songs df'''\n",
    "\n",
    "distance_df = pd.DataFrame(index = songs.index)\n",
    "distance_df['median'] = distances_median\n",
    "distance_df['mean'] = distances_mean\n",
    "distance_df['cut'] = songs['cut']\n",
    "#distance_df.groupby('cut').mean().to_csv('DISTANCES OF ALL SONGS cut.csv')"
   ]
  },
  {
   "cell_type": "code",
   "execution_count": 497,
   "metadata": {
    "collapsed": true
   },
   "outputs": [],
   "source": [
    "###FINDING DISTANCES IN VECTOR SPACE\n",
    "##searching by year\n",
    "\n",
    "'''this features_all has only the year without the cut, for use in the function below'''\n",
    "\n",
    "features_all = songs[['danceability', 'energy', 'loudness', 'speechiness', 'acousticness', 'instrumentalness',\n",
    "                 'liveness', 'valence', 'tempo', 'duration_ms', 'year']]\n",
    "\n",
    "from collections import defaultdict\n",
    "\n",
    "distances_median = [] #list for the median euclidean distances\n",
    "distances_mean = [] #list for the median euclidean distances\n",
    "most_different = pd.DataFrame(index = range(28611), columns = [['year', 'song1', 'song2', 'distance']])\n",
    "year = 0\n",
    "song_index = 0\n",
    "\n",
    "index_pos = 0\n",
    "def get_distances(df):\n",
    "    global year\n",
    "    global distances\n",
    "    global features_all\n",
    "    song = np.array(df.drop(['year']))\n",
    "        \n",
    "    distance_list = []\n",
    "        \n",
    "    cut_songs_df = features_all[features_all['year'] == year]\n",
    "    \n",
    "    del cut_songs_df['year']\n",
    "    \n",
    "        \n",
    "    for index, row in cut_songs_df.iterrows():\n",
    "        distance = np.linalg.norm(song - np.array(cut_songs_df.loc[index]))\n",
    "        distance_list.append(distance)\n",
    "        \n",
    "        global song_index\n",
    "        global most_different\n",
    "        global index_pos\n",
    "        \n",
    "        ''' uncomment to create the dataframe of most and least different songs per cut\n",
    "        most_different.loc[index_pos, 'cut'] = cut\n",
    "        most_different.loc[index_pos, 'song1'] = song_index, index\n",
    "        most_different.loc[index_pos, 'song2'] = index\n",
    "        most_different.loc[index_pos, 'distance'] = distance\n",
    "        '''\n",
    "        \n",
    "        index_pos += 1\n",
    "        \n",
    "    distances_median.append(pd.Series(distance_list).median())#getting the median euclidean distances\n",
    "    distances_mean.append(pd.Series(distance_list).mean())#getting the mean euclidean distances\n",
    "    \n",
    "    sys.stdout.write('\\r {} position, {} percent'.format(song_index, song_index/ len(features_all)))\n",
    "\n",
    "\n",
    "def iterate_cut(features):\n",
    "    for e in range(len(features)):\n",
    "        df = features.loc[e]\n",
    "        global song_index\n",
    "        song_index = e\n",
    "        global year\n",
    "        year = df['year']\n",
    "        get_distances(df)"
   ]
  },
  {
   "cell_type": "code",
   "execution_count": 498,
   "metadata": {},
   "outputs": [
    {
     "name": "stdout",
     "output_type": "stream",
     "text": [
      " 1042 position, 0.9990412272291467 percent"
     ]
    }
   ],
   "source": [
    "iterate_cut(features_all) #choose 'features' for samples and 'features_all' for all songs"
   ]
  },
  {
   "cell_type": "code",
   "execution_count": 499,
   "metadata": {
    "collapsed": true
   },
   "outputs": [],
   "source": [
    "'''the below df should probably remain temporary and the lists should be attached to the songs df'''\n",
    "\n",
    "distance_df = pd.DataFrame(index = songs.index)\n",
    "distance_df['median'] = distances_median\n",
    "distance_df['mean'] = distances_mean\n",
    "distance_df['year'] = songs['year']\n",
    "distance_df.groupby('year').mean().to_csv('DISTANCES OF ALL SONGS year.csv')"
   ]
  },
  {
   "cell_type": "code",
   "execution_count": null,
   "metadata": {
    "collapsed": true
   },
   "outputs": [],
   "source": [
    "####START HERE TO GET FEATURES"
   ]
  },
  {
   "cell_type": "code",
   "execution_count": 155,
   "metadata": {
    "collapsed": true
   },
   "outputs": [],
   "source": [
    "songs = pd.read_csv('songs_scaled.csv')"
   ]
  },
  {
   "cell_type": "code",
   "execution_count": 579,
   "metadata": {
    "collapsed": true
   },
   "outputs": [],
   "source": [
    "'''note that this features_all includes the year and the cut, while the previous includes only the cut'''\n",
    "\n",
    "features_all = songs[['danceability', 'energy', 'loudness', 'speechiness', 'acousticness', 'instrumentalness',\n",
    "                 'liveness', 'valence', 'cut', 'tempo', 'year']] #removing tempo and duration"
   ]
  },
  {
   "cell_type": "code",
   "execution_count": 580,
   "metadata": {
    "collapsed": true
   },
   "outputs": [],
   "source": [
    "##FINDING THE MOST DIFFERNET SONGS\n",
    "\n",
    "from collections import defaultdict\n",
    "\n",
    "#VV creating a dataframe that has the difference between every song in a cut\n",
    "most_different = pd.DataFrame(index = range(28611), columns = [['cut', 'song1', 'song1 title', 'song2',\n",
    "                                                                'song2 title', 'distance']])\n",
    "cut = 0\n",
    "song_index = 0\n",
    "\n",
    "index_pos = 0\n",
    "def get_distances_all(df):\n",
    "    global cut\n",
    "    global distances\n",
    "    global features_all\n",
    "    del df['cut'] #deleting cut and year columns to now throw off the distances\n",
    "    del df['year']\n",
    "\n",
    "    song = np.array(df)\n",
    "        \n",
    "    cut_songs_df = features_all[features_all['cut'] == cut] #creating a df with only the same cut as the song ('df')\n",
    "    \n",
    "    del cut_songs_df['cut'] #deleting cut and year columns in the group df\n",
    "    del cut_songs_df['year']\n",
    "    \n",
    "        \n",
    "    for index, row in cut_songs_df.iterrows():\n",
    "        distance = np.linalg.norm(song - np.array(cut_songs_df.loc[index]))\n",
    "        \n",
    "        global song_index\n",
    "        global most_different\n",
    "        global index_pos\n",
    "        \n",
    "        most_different.loc[index_pos, 'cut'] = cut\n",
    "        most_different.loc[index_pos, 'song1'] = song_index\n",
    "        most_different.loc[index_pos, 'song1 title'] = songs.loc[song_index, 'track']\n",
    "        most_different.loc[index_pos, 'song2'] =index\n",
    "        most_different.loc[index_pos, 'song2 title'] = songs.loc[index, 'track']\n",
    "        most_different.loc[index_pos, 'distance'] = distance\n",
    "        \n",
    "        index_pos += 1\n",
    "        \n",
    "\n",
    "\n",
    "def iterate_cut_all(features_all):\n",
    "    for e in (features_all.index):\n",
    "        df = features_all.loc[e]\n",
    "        global song_index\n",
    "        song_index = e\n",
    "        \n",
    "        global cut\n",
    "        cut = df['cut']\n",
    "        get_distances_all(df)\n",
    "        sys.stdout.write('\\r index: {}, percent: {}'.format(e, e/len(features_all)))"
   ]
  },
  {
   "cell_type": "code",
   "execution_count": 581,
   "metadata": {},
   "outputs": [
    {
     "name": "stdout",
     "output_type": "stream",
     "text": [
      " index: 1042, percent: 0.9990412272291467"
     ]
    }
   ],
   "source": [
    "iterate_cut_all(features_all)"
   ]
  },
  {
   "cell_type": "code",
   "execution_count": 582,
   "metadata": {
    "collapsed": true
   },
   "outputs": [],
   "source": [
    "most_different = most_different[most_different['distance'] != 0]"
   ]
  },
  {
   "cell_type": "code",
   "execution_count": 583,
   "metadata": {
    "collapsed": true
   },
   "outputs": [],
   "source": [
    "biggest_differences = pd.DataFrame(index = most_different.cut.unique(), columns = most_different.columns)\n",
    "for year in songs.cut.unique():\n",
    "    df = most_different[most_different['cut'] == year]\n",
    "    max_diff = df['distance'].max()\n",
    "    df = df[df['distance'] == max_diff].iloc[1]\n",
    "    biggest_differences.loc[year, 'song1'] = df['song1']\n",
    "    biggest_differences.loc[year, 'song2'] = df['song2']\n",
    "    biggest_differences.loc[year, 'song1 title'] = df['song1 title']\n",
    "    biggest_differences.loc[year, 'song2 title'] = df['song2 title']\n",
    "    biggest_differences.loc[year, 'cut'] = df['cut']\n",
    "    biggest_differences.loc[year, 'distance'] = df['distance']"
   ]
  },
  {
   "cell_type": "code",
   "execution_count": 584,
   "metadata": {
    "collapsed": true
   },
   "outputs": [],
   "source": [
    "smallest_differences = pd.DataFrame(index = most_different.cut.unique(), columns = most_different.columns)\n",
    "for year in songs.cut.unique():\n",
    "    df = most_different[most_different['cut'] == year]\n",
    "    min_diff = df['distance'].min()\n",
    "    df = df[df['distance'] == min_diff].iloc[1]\n",
    "    smallest_differences.loc[year, 'song1'] = df['song1']\n",
    "    smallest_differences.loc[year, 'song2'] = df['song2']\n",
    "    smallest_differences.loc[year, 'song1 title'] = df['song1 title']\n",
    "    smallest_differences.loc[year, 'song2 title'] = df['song2 title']\n",
    "    smallest_differences.loc[year, 'cut'] = df['cut']\n",
    "    smallest_differences.loc[year, 'distance'] = df['distance']"
   ]
  },
  {
   "cell_type": "code",
   "execution_count": 585,
   "metadata": {
    "collapsed": true
   },
   "outputs": [],
   "source": [
    "all_differences = smallest_differences.join(biggest_differences, lsuffix = ('_smallest'), rsuffix= '_biggest')"
   ]
  },
  {
   "cell_type": "code",
   "execution_count": 589,
   "metadata": {},
   "outputs": [
    {
     "data": {
      "text/html": [
       "<div>\n",
       "<style>\n",
       "    .dataframe thead tr:only-child th {\n",
       "        text-align: right;\n",
       "    }\n",
       "\n",
       "    .dataframe thead th {\n",
       "        text-align: left;\n",
       "    }\n",
       "\n",
       "    .dataframe tbody tr th {\n",
       "        vertical-align: top;\n",
       "    }\n",
       "</style>\n",
       "<table border=\"1\" class=\"dataframe\">\n",
       "  <thead>\n",
       "    <tr style=\"text-align: right;\">\n",
       "      <th></th>\n",
       "      <th>song1 title_smallest</th>\n",
       "      <th>song2 title_smallest</th>\n",
       "      <th>distance_smallest</th>\n",
       "    </tr>\n",
       "  </thead>\n",
       "  <tbody>\n",
       "    <tr>\n",
       "      <th>1961</th>\n",
       "      <td>Groovin'</td>\n",
       "      <td>My Girl</td>\n",
       "      <td>0.0960559</td>\n",
       "    </tr>\n",
       "    <tr>\n",
       "      <th>1956</th>\n",
       "      <td>Blue Moon</td>\n",
       "      <td>Stuck On You</td>\n",
       "      <td>0.133146</td>\n",
       "    </tr>\n",
       "    <tr>\n",
       "      <th>1966</th>\n",
       "      <td>How Can You Mend A Broken Heart</td>\n",
       "      <td>Love Is Blue (L'amour Est Bleu)</td>\n",
       "      <td>0.119546</td>\n",
       "    </tr>\n",
       "    <tr>\n",
       "      <th>1971</th>\n",
       "      <td>One Of These Nights</td>\n",
       "      <td>You're So Vain</td>\n",
       "      <td>0.0986636</td>\n",
       "    </tr>\n",
       "    <tr>\n",
       "      <th>1976</th>\n",
       "      <td>Night Fever</td>\n",
       "      <td>Stayin' Alive</td>\n",
       "      <td>0.111877</td>\n",
       "    </tr>\n",
       "    <tr>\n",
       "      <th>1986</th>\n",
       "      <td>The Promise Of A New Day</td>\n",
       "      <td>Opposites Attract</td>\n",
       "      <td>0.0952066</td>\n",
       "    </tr>\n",
       "    <tr>\n",
       "      <th>1981</th>\n",
       "      <td>The Power Of Love</td>\n",
       "      <td>Down Under</td>\n",
       "      <td>0.132573</td>\n",
       "    </tr>\n",
       "    <tr>\n",
       "      <th>1991</th>\n",
       "      <td>Fantasy</td>\n",
       "      <td>Dreamlover</td>\n",
       "      <td>0.131742</td>\n",
       "    </tr>\n",
       "    <tr>\n",
       "      <th>1996</th>\n",
       "      <td>One Week</td>\n",
       "      <td>Mmmbop</td>\n",
       "      <td>0.10368</td>\n",
       "    </tr>\n",
       "    <tr>\n",
       "      <th>2001</th>\n",
       "      <td>Inside Your Heaven</td>\n",
       "      <td>A Moment Like This</td>\n",
       "      <td>0.0995928</td>\n",
       "    </tr>\n",
       "    <tr>\n",
       "      <th>2006</th>\n",
       "      <td>We R Who We R</td>\n",
       "      <td>Teenage Dream</td>\n",
       "      <td>0.056695</td>\n",
       "    </tr>\n",
       "    <tr>\n",
       "      <th>2011</th>\n",
       "      <td>Cheap Thrills</td>\n",
       "      <td>We Are Never Ever Getting Back Together</td>\n",
       "      <td>0.0691852</td>\n",
       "    </tr>\n",
       "  </tbody>\n",
       "</table>\n",
       "</div>"
      ],
      "text/plain": [
       "                 song1 title_smallest  \\\n",
       "1961                         Groovin'   \n",
       "1956                        Blue Moon   \n",
       "1966  How Can You Mend A Broken Heart   \n",
       "1971              One Of These Nights   \n",
       "1976                      Night Fever   \n",
       "1986         The Promise Of A New Day   \n",
       "1981                The Power Of Love   \n",
       "1991                          Fantasy   \n",
       "1996                         One Week   \n",
       "2001               Inside Your Heaven   \n",
       "2006                    We R Who We R   \n",
       "2011                    Cheap Thrills   \n",
       "\n",
       "                         song2 title_smallest distance_smallest  \n",
       "1961                                  My Girl         0.0960559  \n",
       "1956                             Stuck On You          0.133146  \n",
       "1966          Love Is Blue (L'amour Est Bleu)          0.119546  \n",
       "1971                           You're So Vain         0.0986636  \n",
       "1976                            Stayin' Alive          0.111877  \n",
       "1986                        Opposites Attract         0.0952066  \n",
       "1981                               Down Under          0.132573  \n",
       "1991                               Dreamlover          0.131742  \n",
       "1996                                   Mmmbop           0.10368  \n",
       "2001                       A Moment Like This         0.0995928  \n",
       "2006                            Teenage Dream          0.056695  \n",
       "2011  We Are Never Ever Getting Back Together         0.0691852  "
      ]
     },
     "execution_count": 589,
     "metadata": {},
     "output_type": "execute_result"
    }
   ],
   "source": [
    "all_differences[['song1 title_smallest', 'song2 title_smallest','distance_smallest']]"
   ]
  },
  {
   "cell_type": "code",
   "execution_count": 512,
   "metadata": {
    "collapsed": true
   },
   "outputs": [],
   "source": [
    "all_differences['song1_smallest_artist'] = all_differences['song1_smallest'].apply(lambda x: songs.loc[x, 'artist'])\n",
    "all_differences['song2_smallest_artist'] = all_differences['song2_smallest'].apply(lambda x: songs.loc[x, 'artist'])\n",
    "all_differences['song1_biggest_artist'] = all_differences['song1_biggest'].apply(lambda x: songs.loc[x, 'artist'])\n",
    "all_differences['song2_biggest_artist'] = all_differences['song2_biggest'].apply(lambda x: songs.loc[x, 'artist'])"
   ]
  },
  {
   "cell_type": "code",
   "execution_count": 513,
   "metadata": {
    "collapsed": true
   },
   "outputs": [],
   "source": [
    "all_differences['tableau1_biggest'] = all_differences['distance_biggest']/2\n",
    "all_differences['tableau2_biggest'] = -all_differences['distance_biggest']/2\n",
    "all_differences['tableau1_smallest'] = all_differences['distance_smallest']/2\n",
    "all_differences['tableau2_smallest'] = -all_differences['distance_smallest']/2"
   ]
  },
  {
   "cell_type": "code",
   "execution_count": 180,
   "metadata": {
    "collapsed": true
   },
   "outputs": [],
   "source": [
    "all_differences.to_csv('all_differences_no_year.csv')"
   ]
  },
  {
   "cell_type": "code",
   "execution_count": 514,
   "metadata": {
    "collapsed": true
   },
   "outputs": [],
   "source": [
    "all_differences.to_csv('all_differences.csv')"
   ]
  },
  {
   "cell_type": "code",
   "execution_count": 586,
   "metadata": {
    "collapsed": true
   },
   "outputs": [],
   "source": [
    "###PRINCIPAL COMPONENTS\n",
    "\n",
    "from sklearn.decomposition import TruncatedSVD\n",
    "\n",
    "pca = TruncatedSVD(n_components=2)"
   ]
  },
  {
   "cell_type": "code",
   "execution_count": 587,
   "metadata": {
    "collapsed": true
   },
   "outputs": [],
   "source": [
    "two_features= pca.fit_transform(features_all.drop(['cut'], 1, inplace=False))\n",
    "\n",
    "two_features = scaler.fit_transform(two_features)\n",
    "\n",
    "two_features = pd.DataFrame(two_features)"
   ]
  },
  {
   "cell_type": "code",
   "execution_count": 588,
   "metadata": {
    "collapsed": true
   },
   "outputs": [],
   "source": [
    "songs['x'] = two_features[0]\n",
    "songs['y'] = two_features[1]"
   ]
  },
  {
   "cell_type": "code",
   "execution_count": 4,
   "metadata": {
    "collapsed": true
   },
   "outputs": [],
   "source": [
    "######GET IQR"
   ]
  },
  {
   "cell_type": "code",
   "execution_count": 83,
   "metadata": {
    "collapsed": true
   },
   "outputs": [],
   "source": [
    "iqr = []\n",
    "\n",
    "def get_iqr(features_all):\n",
    "    global iqr\n",
    "    for cut in features_all['cut'].unique():\n",
    "        numbers = []\n",
    "        df = features_all[features_all['cut'] == cut]\n",
    "        del df['year']\n",
    "        del df['cut']\n",
    "        for column in df.columns:\n",
    "            rng = df[column].quantile(.75) - df[column].quantile(.25)\n",
    "            numbers.append(rng)\n",
    "        global samples\n",
    "        for i in range(len(samples[samples['cut'] == cut])):\n",
    "            iqr.append(sum(numbers) / len(numbers))\n",
    "        "
   ]
  },
  {
   "cell_type": "code",
   "execution_count": 84,
   "metadata": {
    "collapsed": true
   },
   "outputs": [],
   "source": [
    "get_iqr(features_all)"
   ]
  },
  {
   "cell_type": "code",
   "execution_count": 74,
   "metadata": {
    "collapsed": true
   },
   "outputs": [],
   "source": [
    "songs['iqr_year'] = iqr"
   ]
  },
  {
   "cell_type": "code",
   "execution_count": 76,
   "metadata": {
    "collapsed": true
   },
   "outputs": [],
   "source": [
    "samples = pd.read_csv('samples.csv')"
   ]
  },
  {
   "cell_type": "code",
   "execution_count": 85,
   "metadata": {
    "collapsed": true
   },
   "outputs": [],
   "source": [
    "samples['iqr'] = iqr"
   ]
  },
  {
   "cell_type": "code",
   "execution_count": 86,
   "metadata": {
    "collapsed": true
   },
   "outputs": [],
   "source": [
    "samples.to_csv('samples.csv')"
   ]
  },
  {
   "cell_type": "code",
   "execution_count": 20,
   "metadata": {
    "collapsed": true
   },
   "outputs": [],
   "source": [
    "##########################EXPLORING CLUSTERS##################################"
   ]
  },
  {
   "cell_type": "code",
   "execution_count": 230,
   "metadata": {
    "collapsed": true
   },
   "outputs": [],
   "source": [
    "from sklearn.cluster import KMeans"
   ]
  },
  {
   "cell_type": "code",
   "execution_count": 232,
   "metadata": {},
   "outputs": [],
   "source": [
    "features_all = songs[['danceability', 'energy', 'loudness', 'speechiness', 'acousticness', 'instrumentalness',\n",
    "                 'liveness', 'valence', 'tempo', 'duration_ms', 'year', 'cut']]\n",
    "\n",
    "kmeans = KMeans(n_clusters=4, random_state=0).fit(features_all.drop(['year','cut'], axis=1))"
   ]
  },
  {
   "cell_type": "code",
   "execution_count": 233,
   "metadata": {},
   "outputs": [],
   "source": [
    "songs['labels'] = kmeans.labels_"
   ]
  },
  {
   "cell_type": "code",
   "execution_count": 235,
   "metadata": {},
   "outputs": [],
   "source": [
    "percentages = songs.groupby(['year', 'labels']).agg({'energy': 'sum'})\n",
    "percentages = percentages.groupby(level=0).apply(lambda x: \n",
    "                                                 100 * x / float(x.sum()))"
   ]
  },
  {
   "cell_type": "code",
   "execution_count": 236,
   "metadata": {},
   "outputs": [],
   "source": [
    "percentages.to_csv('percentages.csv')"
   ]
  },
  {
   "cell_type": "code",
   "execution_count": 234,
   "metadata": {},
   "outputs": [],
   "source": [
    "songs.to_csv('kmeans.csv')"
   ]
  },
  {
   "cell_type": "code",
   "execution_count": 119,
   "metadata": {
    "collapsed": true
   },
   "outputs": [],
   "source": [
    "#######EXPLORING TIME SERIES###############3"
   ]
  },
  {
   "cell_type": "code",
   "execution_count": 142,
   "metadata": {},
   "outputs": [],
   "source": [
    "features_all = features_all[['danceability', 'energy', 'loudness', 'speechiness', 'acousticness', 'instrumentalness',\n",
    "                            'liveness', 'valence', 'tempo', 'duration_ms', 'cut', 'year']]"
   ]
  },
  {
   "cell_type": "code",
   "execution_count": 143,
   "metadata": {},
   "outputs": [
    {
     "name": "stderr",
     "output_type": "stream",
     "text": [
      "/home/arvcondor/anaconda3/envs/Python3/lib/python3.6/site-packages/ipykernel/__main__.py:2: SettingWithCopyWarning: \n",
      "A value is trying to be set on a copy of a slice from a DataFrame.\n",
      "Try using .loc[row_indexer,col_indexer] = value instead\n",
      "\n",
      "See the caveats in the documentation: http://pandas.pydata.org/pandas-docs/stable/indexing.html#indexing-view-versus-copy\n",
      "  from ipykernel import kernelapp as app\n"
     ]
    }
   ],
   "source": [
    "for column in features_all.drop(['cut', 'year'], axis = 1).columns:\n",
    "    features_all['{}_shift'.format(column)] = features_all[column].shift(1)\n",
    "    \n",
    "features_all = features_all.fillna(0)   \n",
    "\n",
    "for column in features_all[['danceability', 'energy', 'loudness', 'speechiness', 'acousticness', 'instrumentalness',\n",
    "                            'liveness', 'valence', 'tempo', 'duration_ms', 'cut', 'year']].drop(['cut', 'year'], axis = 1).columns:\n",
    "    features_all['{}_deriv'.format(column)] = features_all[column + '_shift'] - features_all[column]"
   ]
  },
  {
   "cell_type": "code",
   "execution_count": 150,
   "metadata": {},
   "outputs": [],
   "source": [
    "derivatives = features_all.loc[:,'danceability_deriv':]"
   ]
  },
  {
   "cell_type": "code",
   "execution_count": 151,
   "metadata": {
    "collapsed": true
   },
   "outputs": [],
   "source": [
    "kmeans = KMeans(n_clusters=5, random_state=0).fit(features_all.drop(['year','cut'], axis=1))"
   ]
  },
  {
   "cell_type": "code",
   "execution_count": 152,
   "metadata": {
    "collapsed": true
   },
   "outputs": [],
   "source": [
    "songs['derivative_labels'] = kmeans.labels_"
   ]
  },
  {
   "cell_type": "code",
   "execution_count": 153,
   "metadata": {
    "collapsed": true
   },
   "outputs": [],
   "source": [
    "percentages = songs.groupby(['year', 'derivative_labels']).agg({'energy': 'sum'})\n",
    "percentages = percentages.groupby(level=0).apply(lambda x: \n",
    "                                                 100 * x / float(x.sum()))"
   ]
  },
  {
   "cell_type": "code",
   "execution_count": 154,
   "metadata": {
    "collapsed": true
   },
   "outputs": [],
   "source": [
    "percentages.to_csv('derivative_percentages.csv')"
   ]
  },
  {
   "cell_type": "code",
   "execution_count": null,
   "metadata": {
    "collapsed": true
   },
   "outputs": [],
   "source": [
    "'''#hierarchical clustering'''"
   ]
  },
  {
   "cell_type": "code",
   "execution_count": 592,
   "metadata": {},
   "outputs": [],
   "source": [
    "from sklearn.cluster import AgglomerativeClustering"
   ]
  },
  {
   "cell_type": "code",
   "execution_count": 624,
   "metadata": {
    "collapsed": true
   },
   "outputs": [],
   "source": [
    "ac = AgglomerativeClustering()"
   ]
  },
  {
   "cell_type": "code",
   "execution_count": 625,
   "metadata": {},
   "outputs": [
    {
     "data": {
      "text/plain": [
       "array([0, 0, 1, ..., 0, 0, 0])"
      ]
     },
     "execution_count": 625,
     "metadata": {},
     "output_type": "execute_result"
    }
   ],
   "source": [
    "ac.fit_predict(features_all.drop(['cut', 'year'], axis=1))"
   ]
  },
  {
   "cell_type": "code",
   "execution_count": 629,
   "metadata": {},
   "outputs": [],
   "source": [
    "hm = pd.DataFrame(ac.labels_, features_all['year'])"
   ]
  },
  {
   "cell_type": "code",
   "execution_count": 633,
   "metadata": {},
   "outputs": [],
   "source": [
    "from matplotlib import pyplot as plt\n",
    "%matplotlib inline\n",
    "\n",
    "hm = hm.groupby('year').mean()"
   ]
  },
  {
   "cell_type": "code",
   "execution_count": 635,
   "metadata": {},
   "outputs": [
    {
     "data": {
      "text/plain": [
       "<matplotlib.collections.PathCollection at 0x7f4698956e10>"
      ]
     },
     "execution_count": 635,
     "metadata": {},
     "output_type": "execute_result"
    },
    {
     "data": {
      "image/png": "[encoded data removed]",
      "text/plain": [
       "<matplotlib.figure.Figure at 0x7f46975d9c50>"
      ]
     },
     "metadata": {},
     "output_type": "display_data"
    }
   ],
   "source": [
    "plt.scatter(hm.index, hm[0])"
   ]
  },
  {
   "cell_type": "code",
   "execution_count": null,
   "metadata": {
    "collapsed": true
   },
   "outputs": [],
   "source": []
  }
 ],
 "metadata": {
  "kernelspec": {
   "display_name": "Python [conda env:Python3]",
   "language": "python",
   "name": "conda-env-Python3-py"
  },
  "language_info": {
   "codemirror_mode": {
    "name": "ipython",
    "version": 3
   },
   "file_extension": ".py",
   "mimetype": "text/x-python",
   "name": "python",
   "nbconvert_exporter": "python",
   "pygments_lexer": "ipython3",
   "version": "3.6.1"
  }
 },
 "nbformat": 4,
 "nbformat_minor": 2
}
