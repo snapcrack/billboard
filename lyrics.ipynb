{
 "cells": [
  {
   "cell_type": "code",
   "execution_count": 88,
   "metadata": {
    "collapsed": true
   },
   "outputs": [],
   "source": [
    "import urllib\n",
    "from urllib.request import urlopen\n",
    "import numpy as np\n",
    "import pandas as pd\n",
    "import lxml\n",
    "from lxml import html\n",
    "from bs4 import BeautifulSoup\n",
    "from bs4 import *\n",
    "import xml.etree.cElementTree as ET\n",
    "import cerberus\n",
    "import re\n",
    "import sqlite3\n",
    "import os\n",
    "import html5lib\n",
    "import json\n",
    "import sys\n",
    "import requests\n",
    "import time\n",
    "import random\n",
    "from collections import defaultdict\n",
    "\n",
    "import time\n",
    "from selenium import webdriver\n",
    "from selenium.webdriver.common.by import By\n",
    "from selenium.webdriver.support.ui import WebDriverWait\n",
    "from selenium.webdriver.support import expected_conditions as EC\n",
    "from selenium.webdriver.common.keys import Keys"
   ]
  },
  {
   "cell_type": "code",
   "execution_count": 59,
   "metadata": {
    "collapsed": true
   },
   "outputs": [],
   "source": [
    "browser.close()"
   ]
  },
  {
   "cell_type": "code",
   "execution_count": 6,
   "metadata": {
    "collapsed": true
   },
   "outputs": [],
   "source": [
    "songs_lyrics = pd.read_csv('songs_scaled.csv')"
   ]
  },
  {
   "cell_type": "code",
   "execution_count": 71,
   "metadata": {
    "collapsed": true
   },
   "outputs": [],
   "source": [
    "songs['lyrics'] = pd.Series()"
   ]
  },
  {
   "cell_type": "code",
   "execution_count": 72,
   "metadata": {
    "collapsed": true
   },
   "outputs": [],
   "source": [
    "missing_songs = defaultdict(list)\n",
    "\n",
    "def get_lyrics(songs):\n",
    "    for index, row in songs.iterrows():\n",
    "        artist = songs.loc[index, 'artist']\n",
    "        track = songs.loc[index, 'track']\n",
    "        \n",
    "        browser = webdriver.Chrome()\n",
    "        browser.get('http://www.google.com')\n",
    "\n",
    "        search = browser.find_element_by_name('q')\n",
    "        search.send_keys(\"{} {} lyrics freak\".format(artist, track)) #grab lyrics from lyricsfreak.com\n",
    "        search.send_keys(Keys.RETURN) # hit return after you enter search text\n",
    "        try:\n",
    "            link = browser.find_element_by_partial_link_text('Lyrics Freak')\n",
    "            url = (link.get_attribute('href'))\n",
    "            soup = BeautifulSoup(urlopen(url), 'lxml')\n",
    "            lyric = re.sub('<br/>', ' ', str(soup.findAll('div', {'id': 'content_h'})[0]))\n",
    "            lyrics = re.findall(r'<div class=\"dn\" id=\"content_h\">(.*)</div>', lyric)[0]\n",
    "            songs.loc[index, 'lyrics'] = lyrics                      \n",
    "        except:\n",
    "            missing_songs[index] = (artist, track)\n",
    "            sys.stdout.write('\\r skipped: {}'.format(missing_songs)\n",
    "            pass\n",
    "        browser.close()\n",
    "        "
   ]
  },
  {
   "cell_type": "code",
   "execution_count": 409,
   "metadata": {
    "collapsed": true
   },
   "outputs": [],
   "source": [
    "get_lyrics(songs)"
   ]
  },
  {
   "cell_type": "code",
   "execution_count": 129,
   "metadata": {
    "collapsed": true
   },
   "outputs": [],
   "source": [
    "still_missing = defaultdict(list)\n",
    "\n",
    "def get_rejects(missing_songs):\n",
    "    global songs\n",
    "    for index in missing_songs:\n",
    "        artist = songs.loc[index, 'artist']\n",
    "        track = songs.loc[index, 'track']\n",
    "        \n",
    "        ###getting rid of trash\n",
    "        try:\n",
    "            artist = re.findall(r'(.*) Featuring',artist)[0]\n",
    "        except:\n",
    "            pass\n",
    "        \n",
    "        try:\n",
    "            track = re.findall(r'(.*) \\(.*\\)',track)[0]\n",
    "        except:\n",
    "            pass\n",
    "        \n",
    "        browser = webdriver.Chrome()\n",
    "        browser.get('http://www.google.com')\n",
    "\n",
    "        search = browser.find_element_by_name('q')\n",
    "        search.send_keys(\"{} {} lyrics freak\".format(artist, track))\n",
    "        search.send_keys(Keys.RETURN) # hit return after you enter search text\n",
    "        try:\n",
    "            link = browser.find_element_by_partial_link_text('Lyrics Freak')\n",
    "            url = (link.get_attribute('href'))\n",
    "            soup = BeautifulSoup(urlopen(url), 'lxml')\n",
    "            lyric = re.sub('<br/>', ' ', str(soup.findAll('div', {'id': 'content_h'})[0]))\n",
    "            lyrics = re.findall(r'<div class=\"dn\" id=\"content_h\">(.*)</div>', lyric)[0]\n",
    "            songs.loc[index, 'lyrics'] = lyrics                      \n",
    "        except:\n",
    "            still_missing[index] = (artist, track)\n",
    "            print (len(still_missing))\n",
    "            pass\n",
    "        browser.close()"
   ]
  },
  {
   "cell_type": "code",
   "execution_count": 410,
   "metadata": {
    "collapsed": true
   },
   "outputs": [],
   "source": [
    "get_rejects(missing_songs)"
   ]
  },
  {
   "cell_type": "code",
   "execution_count": 103,
   "metadata": {
    "collapsed": true
   },
   "outputs": [],
   "source": [
    "lyrics_series = songs.lyrics"
   ]
  },
  {
   "cell_type": "code",
   "execution_count": 137,
   "metadata": {
    "collapsed": true
   },
   "outputs": [],
   "source": [
    "##removing nulls\n",
    "\n",
    "songs_lyrics = songs[songs['lyrics'].notnull()]"
   ]
  },
  {
   "cell_type": "code",
   "execution_count": 9,
   "metadata": {
    "collapsed": true
   },
   "outputs": [],
   "source": [
    "from nltk import pos_tag\n",
    "from nltk.stem import PorterStemmer\n",
    "from nltk import word_tokenize\n",
    "from collections import Counter\n",
    "import time\n",
    "\n",
    "stemmer = PorterStemmer()"
   ]
  },
  {
   "cell_type": "code",
   "execution_count": 7,
   "metadata": {
    "collapsed": true
   },
   "outputs": [],
   "source": [
    "#cleaning function\n",
    "\n",
    "def clean(lyrics):\n",
    "    lyrics = re.sub(r'\\[.*?\\]', '', lyrics)\n",
    "    lyrics = re.sub(r'\\(.*?\\)', '', lyrics)\n",
    "    return lyrics\n",
    "    "
   ]
  },
  {
   "cell_type": "code",
   "execution_count": 12,
   "metadata": {
    "collapsed": true
   },
   "outputs": [],
   "source": [
    "songs_lyrics = songs_lyrics[~songs_lyrics['lyrics'].isnull()]"
   ]
  },
  {
   "cell_type": "code",
   "execution_count": 13,
   "metadata": {
    "collapsed": true
   },
   "outputs": [],
   "source": [
    "#running cleaning function\n",
    "\n",
    "songs_lyrics['clean_lyrics'] = songs_lyrics['lyrics'].apply(clean)\n",
    "songs_lyrics['lyrics'] = songs_lyrics['clean_lyrics']\n",
    "del songs_lyrics['clean_lyrics']"
   ]
  },
  {
   "cell_type": "code",
   "execution_count": 14,
   "metadata": {
    "collapsed": true
   },
   "outputs": [],
   "source": [
    "#tokenizing strings\n",
    "\n",
    "songs_lyrics['tokens'] = songs.lyrics.apply(lambda x: word_tokenize(str(x)))"
   ]
  },
  {
   "cell_type": "code",
   "execution_count": 15,
   "metadata": {
    "collapsed": true
   },
   "outputs": [],
   "source": [
    "progress = 0\n",
    "#start = time.time()\n",
    "\n",
    "def stem(x):\n",
    "    end = time.time()\n",
    "    dirty = word_tokenize(x)\n",
    "    tokens = []\n",
    "    for word in dirty:\n",
    "        if word.strip('.') == '':\n",
    "            pass\n",
    "        elif re.search(r'\\d{1,}', word):\n",
    "            pass\n",
    "        else:\n",
    "            tokens.append(word.strip('.'))\n",
    "    global start\n",
    "    global progress\n",
    "    tokens = pos_tag(tokens)\n",
    "    progress += 1\n",
    "    stems = ' '.join(stemmer.stem(key.lower()) for key, value in tokens if value != 'NNP')\n",
    "    end = time.time()\n",
    "    sys.stdout.write('\\r {} percent, {} position, {} per second '.format(str(float(progress / len(songs_lyrics))), \n",
    "                                                         str(progress), (1 / (end - start))))   \n",
    "    start = time.time()\n",
    "    return stems"
   ]
  },
  {
   "cell_type": "code",
   "execution_count": 16,
   "metadata": {},
   "outputs": [
    {
     "name": "stdout",
     "output_type": "stream",
     "text": [
      " 1.0 percent, 984 position, 18.621818892184198 per second 525 per second  "
     ]
    }
   ],
   "source": [
    "start = time.time()\n",
    "songs_lyrics['stems'] = songs_lyrics['lyrics'].apply(stem)"
   ]
  },
  {
   "cell_type": "code",
   "execution_count": 156,
   "metadata": {},
   "outputs": [],
   "source": [
    "#removing duplicates\n",
    "\n",
    "songs_lyrics = songs_lyrics.drop_duplicates(subset = 'stems', keep=\"first\")"
   ]
  },
  {
   "cell_type": "code",
   "execution_count": 157,
   "metadata": {
    "collapsed": true
   },
   "outputs": [],
   "source": [
    "from sklearn.feature_extraction.text import CountVectorizer"
   ]
  },
  {
   "cell_type": "code",
   "execution_count": 149,
   "metadata": {
    "collapsed": true
   },
   "outputs": [],
   "source": [
    "songs_lyrics = pd.read_csv('lyrics_df_with_stems.csv')"
   ]
  },
  {
   "cell_type": "code",
   "execution_count": 158,
   "metadata": {
    "collapsed": true
   },
   "outputs": [],
   "source": [
    "vec = CountVectorizer(binary=True)"
   ]
  },
  {
   "cell_type": "code",
   "execution_count": 159,
   "metadata": {
    "collapsed": true
   },
   "outputs": [],
   "source": [
    "lyrics_array = vec.fit_transform(songs_lyrics['stems'])"
   ]
  },
  {
   "cell_type": "code",
   "execution_count": 160,
   "metadata": {},
   "outputs": [
    {
     "data": {
      "text/plain": [
       "(982, 6038)"
      ]
     },
     "execution_count": 160,
     "metadata": {},
     "output_type": "execute_result"
    }
   ],
   "source": [
    "lyrics_array.toarray().shape"
   ]
  },
  {
   "cell_type": "code",
   "execution_count": 161,
   "metadata": {
    "collapsed": true
   },
   "outputs": [],
   "source": [
    "lyrics_df = pd.DataFrame(lyrics_array.toarray())"
   ]
  },
  {
   "cell_type": "code",
   "execution_count": 162,
   "metadata": {
    "collapsed": true
   },
   "outputs": [],
   "source": [
    "lyrics_df.index = songs_lyrics.index"
   ]
  },
  {
   "cell_type": "code",
   "execution_count": 163,
   "metadata": {},
   "outputs": [],
   "source": [
    "lyrics_df['year'] = songs_lyrics['year']\n",
    "lyrics_df['cut'] = pd.cut(lyrics_df['year'], 12, labels = [1956, 1961, 1966, 1971, 1976, 1981, 1986, 1991, 1996, 2001, 2006, 2011])"
   ]
  },
  {
   "cell_type": "code",
   "execution_count": 488,
   "metadata": {},
   "outputs": [
    {
     "data": {
      "text/html": [
       "<div>\n",
       "<style>\n",
       "    .dataframe thead tr:only-child th {\n",
       "        text-align: right;\n",
       "    }\n",
       "\n",
       "    .dataframe thead th {\n",
       "        text-align: left;\n",
       "    }\n",
       "\n",
       "    .dataframe tbody tr th {\n",
       "        vertical-align: top;\n",
       "    }\n",
       "</style>\n",
       "<table border=\"1\" class=\"dataframe\">\n",
       "  <thead>\n",
       "    <tr style=\"text-align: right;\">\n",
       "      <th></th>\n",
       "      <th>Unnamed: 0</th>\n",
       "      <th>Unnamed: 0.1</th>\n",
       "      <th>Unnamed: 0.1.1</th>\n",
       "      <th>Unnamed: 0.1.1</th>\n",
       "      <th>Unnamed: 0.1.1.1</th>\n",
       "      <th>danceability</th>\n",
       "      <th>energy</th>\n",
       "      <th>key</th>\n",
       "      <th>loudness</th>\n",
       "      <th>speechiness</th>\n",
       "      <th>...</th>\n",
       "      <th>eighties</th>\n",
       "      <th>x</th>\n",
       "      <th>y</th>\n",
       "      <th>lyrics</th>\n",
       "      <th>iqr</th>\n",
       "      <th>iqr_year</th>\n",
       "      <th>tokens</th>\n",
       "      <th>stems</th>\n",
       "      <th>labels</th>\n",
       "      <th>length</th>\n",
       "    </tr>\n",
       "    <tr>\n",
       "      <th>cut</th>\n",
       "      <th></th>\n",
       "      <th></th>\n",
       "      <th></th>\n",
       "      <th></th>\n",
       "      <th></th>\n",
       "      <th></th>\n",
       "      <th></th>\n",
       "      <th></th>\n",
       "      <th></th>\n",
       "      <th></th>\n",
       "      <th></th>\n",
       "      <th></th>\n",
       "      <th></th>\n",
       "      <th></th>\n",
       "      <th></th>\n",
       "      <th></th>\n",
       "      <th></th>\n",
       "      <th></th>\n",
       "      <th></th>\n",
       "      <th></th>\n",
       "      <th></th>\n",
       "    </tr>\n",
       "  </thead>\n",
       "  <tbody>\n",
       "    <tr>\n",
       "      <th>1956</th>\n",
       "      <td>56</td>\n",
       "      <td>56</td>\n",
       "      <td>56</td>\n",
       "      <td>56</td>\n",
       "      <td>56</td>\n",
       "      <td>56</td>\n",
       "      <td>56</td>\n",
       "      <td>56</td>\n",
       "      <td>56</td>\n",
       "      <td>56</td>\n",
       "      <td>...</td>\n",
       "      <td>56</td>\n",
       "      <td>56</td>\n",
       "      <td>56</td>\n",
       "      <td>56</td>\n",
       "      <td>56</td>\n",
       "      <td>56</td>\n",
       "      <td>56</td>\n",
       "      <td>56</td>\n",
       "      <td>56</td>\n",
       "      <td>56</td>\n",
       "    </tr>\n",
       "    <tr>\n",
       "      <th>1963</th>\n",
       "      <td>82</td>\n",
       "      <td>82</td>\n",
       "      <td>82</td>\n",
       "      <td>82</td>\n",
       "      <td>82</td>\n",
       "      <td>82</td>\n",
       "      <td>82</td>\n",
       "      <td>82</td>\n",
       "      <td>82</td>\n",
       "      <td>82</td>\n",
       "      <td>...</td>\n",
       "      <td>82</td>\n",
       "      <td>82</td>\n",
       "      <td>82</td>\n",
       "      <td>82</td>\n",
       "      <td>82</td>\n",
       "      <td>82</td>\n",
       "      <td>82</td>\n",
       "      <td>82</td>\n",
       "      <td>82</td>\n",
       "      <td>82</td>\n",
       "    </tr>\n",
       "    <tr>\n",
       "      <th>1968</th>\n",
       "      <td>83</td>\n",
       "      <td>83</td>\n",
       "      <td>83</td>\n",
       "      <td>83</td>\n",
       "      <td>83</td>\n",
       "      <td>83</td>\n",
       "      <td>83</td>\n",
       "      <td>83</td>\n",
       "      <td>83</td>\n",
       "      <td>83</td>\n",
       "      <td>...</td>\n",
       "      <td>83</td>\n",
       "      <td>83</td>\n",
       "      <td>83</td>\n",
       "      <td>83</td>\n",
       "      <td>83</td>\n",
       "      <td>83</td>\n",
       "      <td>83</td>\n",
       "      <td>83</td>\n",
       "      <td>83</td>\n",
       "      <td>83</td>\n",
       "    </tr>\n",
       "    <tr>\n",
       "      <th>1973</th>\n",
       "      <td>132</td>\n",
       "      <td>132</td>\n",
       "      <td>132</td>\n",
       "      <td>132</td>\n",
       "      <td>132</td>\n",
       "      <td>132</td>\n",
       "      <td>132</td>\n",
       "      <td>132</td>\n",
       "      <td>132</td>\n",
       "      <td>132</td>\n",
       "      <td>...</td>\n",
       "      <td>132</td>\n",
       "      <td>132</td>\n",
       "      <td>132</td>\n",
       "      <td>132</td>\n",
       "      <td>132</td>\n",
       "      <td>132</td>\n",
       "      <td>132</td>\n",
       "      <td>132</td>\n",
       "      <td>132</td>\n",
       "      <td>132</td>\n",
       "    </tr>\n",
       "    <tr>\n",
       "      <th>1979</th>\n",
       "      <td>71</td>\n",
       "      <td>71</td>\n",
       "      <td>71</td>\n",
       "      <td>71</td>\n",
       "      <td>71</td>\n",
       "      <td>71</td>\n",
       "      <td>71</td>\n",
       "      <td>71</td>\n",
       "      <td>71</td>\n",
       "      <td>71</td>\n",
       "      <td>...</td>\n",
       "      <td>71</td>\n",
       "      <td>71</td>\n",
       "      <td>71</td>\n",
       "      <td>71</td>\n",
       "      <td>71</td>\n",
       "      <td>71</td>\n",
       "      <td>71</td>\n",
       "      <td>71</td>\n",
       "      <td>71</td>\n",
       "      <td>71</td>\n",
       "    </tr>\n",
       "    <tr>\n",
       "      <th>1984</th>\n",
       "      <td>126</td>\n",
       "      <td>126</td>\n",
       "      <td>126</td>\n",
       "      <td>126</td>\n",
       "      <td>126</td>\n",
       "      <td>126</td>\n",
       "      <td>126</td>\n",
       "      <td>126</td>\n",
       "      <td>126</td>\n",
       "      <td>126</td>\n",
       "      <td>...</td>\n",
       "      <td>126</td>\n",
       "      <td>126</td>\n",
       "      <td>126</td>\n",
       "      <td>126</td>\n",
       "      <td>126</td>\n",
       "      <td>126</td>\n",
       "      <td>126</td>\n",
       "      <td>126</td>\n",
       "      <td>126</td>\n",
       "      <td>126</td>\n",
       "    </tr>\n",
       "    <tr>\n",
       "      <th>1989</th>\n",
       "      <td>70</td>\n",
       "      <td>70</td>\n",
       "      <td>70</td>\n",
       "      <td>70</td>\n",
       "      <td>70</td>\n",
       "      <td>70</td>\n",
       "      <td>70</td>\n",
       "      <td>70</td>\n",
       "      <td>70</td>\n",
       "      <td>70</td>\n",
       "      <td>...</td>\n",
       "      <td>70</td>\n",
       "      <td>70</td>\n",
       "      <td>70</td>\n",
       "      <td>70</td>\n",
       "      <td>70</td>\n",
       "      <td>70</td>\n",
       "      <td>70</td>\n",
       "      <td>70</td>\n",
       "      <td>70</td>\n",
       "      <td>70</td>\n",
       "    </tr>\n",
       "    <tr>\n",
       "      <th>1994</th>\n",
       "      <td>66</td>\n",
       "      <td>66</td>\n",
       "      <td>66</td>\n",
       "      <td>66</td>\n",
       "      <td>66</td>\n",
       "      <td>66</td>\n",
       "      <td>66</td>\n",
       "      <td>66</td>\n",
       "      <td>66</td>\n",
       "      <td>66</td>\n",
       "      <td>...</td>\n",
       "      <td>66</td>\n",
       "      <td>66</td>\n",
       "      <td>66</td>\n",
       "      <td>66</td>\n",
       "      <td>66</td>\n",
       "      <td>66</td>\n",
       "      <td>66</td>\n",
       "      <td>66</td>\n",
       "      <td>66</td>\n",
       "      <td>66</td>\n",
       "    </tr>\n",
       "    <tr>\n",
       "      <th>2000</th>\n",
       "      <td>49</td>\n",
       "      <td>49</td>\n",
       "      <td>49</td>\n",
       "      <td>49</td>\n",
       "      <td>49</td>\n",
       "      <td>49</td>\n",
       "      <td>49</td>\n",
       "      <td>49</td>\n",
       "      <td>49</td>\n",
       "      <td>49</td>\n",
       "      <td>...</td>\n",
       "      <td>49</td>\n",
       "      <td>49</td>\n",
       "      <td>49</td>\n",
       "      <td>49</td>\n",
       "      <td>49</td>\n",
       "      <td>49</td>\n",
       "      <td>49</td>\n",
       "      <td>49</td>\n",
       "      <td>49</td>\n",
       "      <td>49</td>\n",
       "    </tr>\n",
       "    <tr>\n",
       "      <th>2005</th>\n",
       "      <td>71</td>\n",
       "      <td>71</td>\n",
       "      <td>71</td>\n",
       "      <td>71</td>\n",
       "      <td>71</td>\n",
       "      <td>71</td>\n",
       "      <td>71</td>\n",
       "      <td>71</td>\n",
       "      <td>71</td>\n",
       "      <td>71</td>\n",
       "      <td>...</td>\n",
       "      <td>71</td>\n",
       "      <td>71</td>\n",
       "      <td>71</td>\n",
       "      <td>71</td>\n",
       "      <td>71</td>\n",
       "      <td>71</td>\n",
       "      <td>71</td>\n",
       "      <td>71</td>\n",
       "      <td>71</td>\n",
       "      <td>71</td>\n",
       "    </tr>\n",
       "    <tr>\n",
       "      <th>2010</th>\n",
       "      <td>62</td>\n",
       "      <td>62</td>\n",
       "      <td>62</td>\n",
       "      <td>62</td>\n",
       "      <td>62</td>\n",
       "      <td>62</td>\n",
       "      <td>62</td>\n",
       "      <td>62</td>\n",
       "      <td>62</td>\n",
       "      <td>62</td>\n",
       "      <td>...</td>\n",
       "      <td>62</td>\n",
       "      <td>62</td>\n",
       "      <td>62</td>\n",
       "      <td>62</td>\n",
       "      <td>62</td>\n",
       "      <td>62</td>\n",
       "      <td>62</td>\n",
       "      <td>62</td>\n",
       "      <td>62</td>\n",
       "      <td>62</td>\n",
       "    </tr>\n",
       "  </tbody>\n",
       "</table>\n",
       "<p>11 rows × 34 columns</p>\n",
       "</div>"
      ],
      "text/plain": [
       "      Unnamed: 0  Unnamed: 0.1  Unnamed: 0.1.1  Unnamed: 0.1.1  \\\n",
       "cut                                                              \n",
       "1956          56            56              56              56   \n",
       "1963          82            82              82              82   \n",
       "1968          83            83              83              83   \n",
       "1973         132           132             132             132   \n",
       "1979          71            71              71              71   \n",
       "1984         126           126             126             126   \n",
       "1989          70            70              70              70   \n",
       "1994          66            66              66              66   \n",
       "2000          49            49              49              49   \n",
       "2005          71            71              71              71   \n",
       "2010          62            62              62              62   \n",
       "\n",
       "      Unnamed: 0.1.1.1  danceability  energy  key  loudness  speechiness  \\\n",
       "cut                                                                        \n",
       "1956                56            56      56   56        56           56   \n",
       "1963                82            82      82   82        82           82   \n",
       "1968                83            83      83   83        83           83   \n",
       "1973               132           132     132  132       132          132   \n",
       "1979                71            71      71   71        71           71   \n",
       "1984               126           126     126  126       126          126   \n",
       "1989                70            70      70   70        70           70   \n",
       "1994                66            66      66   66        66           66   \n",
       "2000                49            49      49   49        49           49   \n",
       "2005                71            71      71   71        71           71   \n",
       "2010                62            62      62   62        62           62   \n",
       "\n",
       "       ...    eighties    x    y  lyrics  iqr  iqr_year  tokens  stems  \\\n",
       "cut    ...                                                               \n",
       "1956   ...          56   56   56      56   56        56      56     56   \n",
       "1963   ...          82   82   82      82   82        82      82     82   \n",
       "1968   ...          83   83   83      83   83        83      83     83   \n",
       "1973   ...         132  132  132     132  132       132     132    132   \n",
       "1979   ...          71   71   71      71   71        71      71     71   \n",
       "1984   ...         126  126  126     126  126       126     126    126   \n",
       "1989   ...          70   70   70      70   70        70      70     70   \n",
       "1994   ...          66   66   66      66   66        66      66     66   \n",
       "2000   ...          49   49   49      49   49        49      49     49   \n",
       "2005   ...          71   71   71      71   71        71      71     71   \n",
       "2010   ...          62   62   62      62   62        62      62     62   \n",
       "\n",
       "      labels  length  \n",
       "cut                   \n",
       "1956      56      56  \n",
       "1963      82      82  \n",
       "1968      83      83  \n",
       "1973     132     132  \n",
       "1979      71      71  \n",
       "1984     126     126  \n",
       "1989      70      70  \n",
       "1994      66      66  \n",
       "2000      49      49  \n",
       "2005      71      71  \n",
       "2010      62      62  \n",
       "\n",
       "[11 rows x 34 columns]"
      ]
     },
     "execution_count": 488,
     "metadata": {},
     "output_type": "execute_result"
    }
   ],
   "source": [
    "word_samples"
   ]
  },
  {
   "cell_type": "code",
   "execution_count": 552,
   "metadata": {},
   "outputs": [
    {
     "name": "stderr",
     "output_type": "stream",
     "text": [
      "/home/arvcondor/anaconda3/envs/Python3/lib/python3.6/site-packages/ipykernel/__main__.py:3: SettingWithCopyWarning: \n",
      "A value is trying to be set on a copy of a slice from a DataFrame.\n",
      "Try using .loc[row_indexer,col_indexer] = value instead\n",
      "\n",
      "See the caveats in the documentation: http://pandas.pydata.org/pandas-docs/stable/indexing.html#indexing-view-versus-copy\n",
      "  app.launch_new_instance()\n"
     ]
    }
   ],
   "source": [
    "word_samples = songs_lyrics[songs_lyrics['stems'].apply(lambda x: len(x.split(' ')) > 150)]\n",
    "random.seed(42)\n",
    "word_samples['sample_stems'] = word_samples.stems.apply(lambda x: random.sample(x.split(' '), 150))"
   ]
  },
  {
   "cell_type": "code",
   "execution_count": 553,
   "metadata": {},
   "outputs": [
    {
     "name": "stderr",
     "output_type": "stream",
     "text": [
      "/home/arvcondor/anaconda3/envs/Python3/lib/python3.6/site-packages/ipykernel/__main__.py:1: SettingWithCopyWarning: \n",
      "A value is trying to be set on a copy of a slice from a DataFrame.\n",
      "Try using .loc[row_indexer,col_indexer] = value instead\n",
      "\n",
      "See the caveats in the documentation: http://pandas.pydata.org/pandas-docs/stable/indexing.html#indexing-view-versus-copy\n",
      "  if __name__ == '__main__':\n"
     ]
    }
   ],
   "source": [
    "word_samples['samples'] = word_samples['sample_stems'].apply(lambda x: ' '.join(e for e in x))"
   ]
  },
  {
   "cell_type": "code",
   "execution_count": 554,
   "metadata": {},
   "outputs": [],
   "source": [
    "sample_array = vec.fit_transform(word_samples.samples)\n",
    "sample_array = pd.DataFrame(sample_array.toarray()).reset_index()\n",
    "sample_array['year'] = list(word_samples.year)\n",
    "sample_array['cut'] = list(word_samples.cut)\n",
    "del sample_array['index']"
   ]
  },
  {
   "cell_type": "code",
   "execution_count": 601,
   "metadata": {
    "collapsed": true
   },
   "outputs": [],
   "source": [
    "##for all songs\n",
    "global_means = []\n",
    "progress = 0\n",
    "''' uncomment to create the dataframes of most and least common songs\n",
    "least_similar_lyrics = pd.DataFrame(columns = [['song1_artist', 'song2_artist', 'song1_track', 'song2_track',\n",
    "                                               'similarity', 'cut']])\n",
    "\n",
    "most_similar_lyrics = pd.DataFrame(columns = [['song1_artist', 'song2_artist', 'song1_track', 'song2_track',\n",
    "                                               'similarity', 'cut']])\n",
    "'''\n",
    "\n",
    "\n",
    "\n",
    "def get_lyric_means(lyrics_df):\n",
    "    global progress\n",
    "    global global_means\n",
    "    \n",
    "    for year in lyrics_df['cut'].unique():\n",
    "        year_df = lyrics_df[lyrics_df['cut'] == year] #choose either cut or year throughout function\n",
    "        del year_df['cut']\n",
    "        del year_df['year']\n",
    "        song_means = []\n",
    "        \n",
    "        for index, row in year_df.iterrows():\n",
    "            song = year_df.loc[index]\n",
    "           \n",
    "            for indx, rowe in year_df.iterrows():\n",
    "                if index == indx:\n",
    "                    pass\n",
    "                else:\n",
    "                    songs_dot_product = np.dot(song, year_df.loc[indx])\n",
    "                    song_means.append(songs_dot_product)\n",
    "                    '''\n",
    "                    if songs_dot_product == max(song_means):\n",
    "                        most_similar_lyrics.loc[year, 'song1_artist'] = songs_lyrics.loc[index, 'artist']\n",
    "                        most_similar_lyrics.loc[year, 'song2_artist'] = songs_lyrics.loc[indx, 'artist']\n",
    "                        most_similar_lyrics.loc[year, 'song1_track'] = songs_lyrics.loc[index, 'track']\n",
    "                        most_similar_lyrics.loc[year, 'song2_track'] = songs_lyrics.loc[indx, 'track']\n",
    "                        most_similar_lyrics.loc[year, 'cut'] = year\n",
    "                        most_similar_lyrics.loc[year, 'similarity'] = songs_dot_product\n",
    "                    elif songs_dot_product == min(song_means):\n",
    "                        least_similar_lyrics.loc[year, 'song1_artist'] = songs_lyrics.loc[index, 'artist']\n",
    "                        least_similar_lyrics.loc[year, 'song2_artist'] = songs_lyrics.loc[indx, 'artist']\n",
    "                        least_similar_lyrics.loc[year, 'song1_track'] = songs_lyrics.loc[index, 'track']\n",
    "                        least_similar_lyrics.loc[year, 'song2_track'] = songs_lyrics.loc[indx, 'track']\n",
    "                        least_similar_lyrics.loc[year, 'cut'] = year\n",
    "                        least_similar_lyrics.loc[year, 'similarity'] = songs_dot_product\n",
    "                    '''\n",
    "            \n",
    "            progress += 1\n",
    "            sys.stdout.write('\\r {} year, {} max, {} min, {} percent, {} position'.format(year, max(song_means), min(song_means), \n",
    "                                                                                          str(float(progress / len(songs_lyrics))), str(progress)))  \n",
    "        \n",
    "        global_means.append(np.nanmean(song_means))\n",
    "\n",
    "            "
   ]
  },
  {
   "cell_type": "code",
   "execution_count": 602,
   "metadata": {},
   "outputs": [
    {
     "name": "stdout",
     "output_type": "stream",
     "text": [
      " 2010 year, 28 max, 4 min, 0.8839103869653768 percent, 868 positionn"
     ]
    }
   ],
   "source": [
    "get_lyric_means(sample_array)"
   ]
  },
  {
   "cell_type": "code",
   "execution_count": 603,
   "metadata": {},
   "outputs": [
    {
     "data": {
      "text/plain": [
       "[13.308039747064138,\n",
       " 11.103896103896103,\n",
       " 13.126652953276521,\n",
       " 13.458362248438585,\n",
       " 13.53158953722334,\n",
       " 15.657269841269841,\n",
       " 17.110144927536233,\n",
       " 15.813519813519813,\n",
       " 17.344387755102041,\n",
       " 16.587122736418511,\n",
       " 14.19460602855632]"
      ]
     },
     "execution_count": 603,
     "metadata": {},
     "output_type": "execute_result"
    }
   ],
   "source": [
    "global_means"
   ]
  },
  {
   "cell_type": "code",
   "execution_count": null,
   "metadata": {
    "collapsed": true
   },
   "outputs": [],
   "source": []
  },
  {
   "cell_type": "code",
   "execution_count": 534,
   "metadata": {},
   "outputs": [
    {
     "data": {
      "text/html": [
       "<div>\n",
       "<style>\n",
       "    .dataframe thead tr:only-child th {\n",
       "        text-align: right;\n",
       "    }\n",
       "\n",
       "    .dataframe thead th {\n",
       "        text-align: left;\n",
       "    }\n",
       "\n",
       "    .dataframe tbody tr th {\n",
       "        vertical-align: top;\n",
       "    }\n",
       "</style>\n",
       "<table border=\"1\" class=\"dataframe\">\n",
       "  <thead>\n",
       "    <tr style=\"text-align: right;\">\n",
       "      <th></th>\n",
       "      <th>index</th>\n",
       "      <th>0</th>\n",
       "      <th>1</th>\n",
       "      <th>2</th>\n",
       "      <th>3</th>\n",
       "      <th>4</th>\n",
       "      <th>5</th>\n",
       "      <th>6</th>\n",
       "      <th>7</th>\n",
       "      <th>8</th>\n",
       "      <th>...</th>\n",
       "      <th>4106</th>\n",
       "      <th>4107</th>\n",
       "      <th>4108</th>\n",
       "      <th>4109</th>\n",
       "      <th>4110</th>\n",
       "      <th>4111</th>\n",
       "      <th>4112</th>\n",
       "      <th>4113</th>\n",
       "      <th>4114</th>\n",
       "      <th>cut</th>\n",
       "    </tr>\n",
       "  </thead>\n",
       "  <tbody>\n",
       "  </tbody>\n",
       "</table>\n",
       "<p>0 rows × 4117 columns</p>\n",
       "</div>"
      ],
      "text/plain": [
       "Empty DataFrame\n",
       "Columns: [index, 0, 1, 2, 3, 4, 5, 6, 7, 8, 9, 10, 11, 12, 13, 14, 15, 16, 17, 18, 19, 20, 21, 22, 23, 24, 25, 26, 27, 28, 29, 30, 31, 32, 33, 34, 35, 36, 37, 38, 39, 40, 41, 42, 43, 44, 45, 46, 47, 48, 49, 50, 51, 52, 53, 54, 55, 56, 57, 58, 59, 60, 61, 62, 63, 64, 65, 66, 67, 68, 69, 70, 71, 72, 73, 74, 75, 76, 77, 78, 79, 80, 81, 82, 83, 84, 85, 86, 87, 88, 89, 90, 91, 92, 93, 94, 95, 96, 97, 98, ...]\n",
       "Index: []\n",
       "\n",
       "[0 rows x 4117 columns]"
      ]
     },
     "execution_count": 534,
     "metadata": {},
     "output_type": "execute_result"
    }
   ],
   "source": [
    "sample_array[sample_array['cut'].isnull()]"
   ]
  },
  {
   "cell_type": "code",
   "execution_count": 190,
   "metadata": {
    "collapsed": true
   },
   "outputs": [],
   "source": [
    "lyrics_df_cuts = pd.DataFrame(global_means)"
   ]
  },
  {
   "cell_type": "code",
   "execution_count": 191,
   "metadata": {
    "collapsed": true
   },
   "outputs": [],
   "source": [
    "lyrics_df_cuts['year'] = lyrics_df.year.unique() #change to 'cut' for cuts\n",
    "lyrics_df_cuts['dotproduct'] =lyrics_df_cuts[0]\n",
    "del lyrics_df_cuts[0]"
   ]
  },
  {
   "cell_type": "code",
   "execution_count": 193,
   "metadata": {
    "collapsed": true
   },
   "outputs": [],
   "source": [
    "lyrics_df_cuts.to_csv('lyrics_over_time_year.csv')"
   ]
  },
  {
   "cell_type": "code",
   "execution_count": 182,
   "metadata": {
    "collapsed": true
   },
   "outputs": [],
   "source": [
    "least_similar_lyrics['tableau_1'] = least_similar_lyrics['similarity']/2\n",
    "least_similar_lyrics['tableau_2'] = -least_similar_lyrics['similarity']/2"
   ]
  },
  {
   "cell_type": "code",
   "execution_count": 183,
   "metadata": {
    "collapsed": true
   },
   "outputs": [],
   "source": [
    "least_similar_lyrics.to_csv('least_similar_lyrics.csv')"
   ]
  },
  {
   "cell_type": "code",
   "execution_count": 184,
   "metadata": {},
   "outputs": [],
   "source": [
    "most_similar_lyrics['tableau_1'] = most_similar_lyrics['similarity']/2\n",
    "most_similar_lyrics['tableau_2'] = -most_similar_lyrics['similarity']/2"
   ]
  },
  {
   "cell_type": "code",
   "execution_count": 185,
   "metadata": {
    "collapsed": true
   },
   "outputs": [],
   "source": [
    "most_similar_lyrics.to_csv('most_similar_lyrics.csv')"
   ]
  },
  {
   "cell_type": "code",
   "execution_count": 202,
   "metadata": {},
   "outputs": [
    {
     "data": {
      "text/html": [
       "<div>\n",
       "<style>\n",
       "    .dataframe thead tr:only-child th {\n",
       "        text-align: right;\n",
       "    }\n",
       "\n",
       "    .dataframe thead th {\n",
       "        text-align: left;\n",
       "    }\n",
       "\n",
       "    .dataframe tbody tr th {\n",
       "        vertical-align: top;\n",
       "    }\n",
       "</style>\n",
       "<table border=\"1\" class=\"dataframe\">\n",
       "  <thead>\n",
       "    <tr style=\"text-align: right;\">\n",
       "      <th></th>\n",
       "      <th>song1_artist</th>\n",
       "      <th>song2_artist</th>\n",
       "      <th>song1_track</th>\n",
       "      <th>song2_track</th>\n",
       "      <th>similarity</th>\n",
       "      <th>cut</th>\n",
       "      <th>tableau_1</th>\n",
       "      <th>tableau_2</th>\n",
       "    </tr>\n",
       "  </thead>\n",
       "  <tbody>\n",
       "    <tr>\n",
       "      <th>1961</th>\n",
       "      <td>The Troggs</td>\n",
       "      <td>Kyu Sakamoto</td>\n",
       "      <td>Wild Thing</td>\n",
       "      <td>Sukiyaki</td>\n",
       "      <td>1</td>\n",
       "      <td>1961</td>\n",
       "      <td>0.5</td>\n",
       "      <td>-0.5</td>\n",
       "    </tr>\n",
       "    <tr>\n",
       "      <th>1956</th>\n",
       "      <td>Bobby Boris Pickett And The Crypt-Kickers</td>\n",
       "      <td>Elvis Presley With The Jordanaires</td>\n",
       "      <td>Monster Mash</td>\n",
       "      <td>Stuck On You</td>\n",
       "      <td>0</td>\n",
       "      <td>1956</td>\n",
       "      <td>0</td>\n",
       "      <td>0</td>\n",
       "    </tr>\n",
       "    <tr>\n",
       "      <th>1966</th>\n",
       "      <td>Johnny Nash</td>\n",
       "      <td>The Beatles</td>\n",
       "      <td>I Can See Clearly Now</td>\n",
       "      <td>Hello Goodbye</td>\n",
       "      <td>0</td>\n",
       "      <td>1966</td>\n",
       "      <td>0</td>\n",
       "      <td>0</td>\n",
       "    </tr>\n",
       "    <tr>\n",
       "      <th>1971</th>\n",
       "      <td>Debby Boone</td>\n",
       "      <td>MFSB featuring The Three Degrees</td>\n",
       "      <td>You Light Up My Life</td>\n",
       "      <td>TSOP (The Sound Of Philadelphia)</td>\n",
       "      <td>0</td>\n",
       "      <td>1971</td>\n",
       "      <td>0</td>\n",
       "      <td>0</td>\n",
       "    </tr>\n",
       "    <tr>\n",
       "      <th>1976</th>\n",
       "      <td>Lipps, Inc.</td>\n",
       "      <td>Pink Floyd</td>\n",
       "      <td>Funkytown</td>\n",
       "      <td>Another Brick In The Wall (Part II)</td>\n",
       "      <td>1</td>\n",
       "      <td>1976</td>\n",
       "      <td>0.5</td>\n",
       "      <td>-0.5</td>\n",
       "    </tr>\n",
       "    <tr>\n",
       "      <th>1986</th>\n",
       "      <td>New Kids On The Block</td>\n",
       "      <td>Roxette</td>\n",
       "      <td>Hangin Tough</td>\n",
       "      <td>The Look</td>\n",
       "      <td>8</td>\n",
       "      <td>1986</td>\n",
       "      <td>4</td>\n",
       "      <td>-4</td>\n",
       "    </tr>\n",
       "    <tr>\n",
       "      <th>1981</th>\n",
       "      <td>Belinda Carlisle</td>\n",
       "      <td>Los Lobos</td>\n",
       "      <td>Heaven Is A Place On Earth</td>\n",
       "      <td>La Bamba</td>\n",
       "      <td>0</td>\n",
       "      <td>1981</td>\n",
       "      <td>0</td>\n",
       "      <td>0</td>\n",
       "    </tr>\n",
       "    <tr>\n",
       "      <th>1991</th>\n",
       "      <td>Los Del Rio</td>\n",
       "      <td>The Heights</td>\n",
       "      <td>Macarena (Bayside Boys Mix)</td>\n",
       "      <td>How Do You Talk To An Angel</td>\n",
       "      <td>12</td>\n",
       "      <td>1991</td>\n",
       "      <td>6</td>\n",
       "      <td>-6</td>\n",
       "    </tr>\n",
       "    <tr>\n",
       "      <th>1996</th>\n",
       "      <td>Alicia Keys</td>\n",
       "      <td>Enrique Iglesias</td>\n",
       "      <td>Fallin'</td>\n",
       "      <td>Bailamos</td>\n",
       "      <td>10</td>\n",
       "      <td>1996</td>\n",
       "      <td>5</td>\n",
       "      <td>-5</td>\n",
       "    </tr>\n",
       "    <tr>\n",
       "      <th>2001</th>\n",
       "      <td>Taylor Hicks</td>\n",
       "      <td>Sean Paul</td>\n",
       "      <td>Do I Make You Proud</td>\n",
       "      <td>Get Busy</td>\n",
       "      <td>16</td>\n",
       "      <td>2001</td>\n",
       "      <td>8</td>\n",
       "      <td>-8</td>\n",
       "    </tr>\n",
       "    <tr>\n",
       "      <th>2006</th>\n",
       "      <td>Katy Perry Featuring Kanye West</td>\n",
       "      <td>Kelly Clarkson</td>\n",
       "      <td>E.T.</td>\n",
       "      <td>My Life Would Suck Without You</td>\n",
       "      <td>15</td>\n",
       "      <td>2006</td>\n",
       "      <td>7.5</td>\n",
       "      <td>-7.5</td>\n",
       "    </tr>\n",
       "    <tr>\n",
       "      <th>2011</th>\n",
       "      <td>Zayn</td>\n",
       "      <td>Baauer</td>\n",
       "      <td>Pillowtalk</td>\n",
       "      <td>Harlem Shake</td>\n",
       "      <td>1</td>\n",
       "      <td>2011</td>\n",
       "      <td>0.5</td>\n",
       "      <td>-0.5</td>\n",
       "    </tr>\n",
       "  </tbody>\n",
       "</table>\n",
       "</div>"
      ],
      "text/plain": [
       "                                   song1_artist  \\\n",
       "1961                                 The Troggs   \n",
       "1956  Bobby Boris Pickett And The Crypt-Kickers   \n",
       "1966                                Johnny Nash   \n",
       "1971                                Debby Boone   \n",
       "1976                                Lipps, Inc.   \n",
       "1986                      New Kids On The Block   \n",
       "1981                           Belinda Carlisle   \n",
       "1991                                Los Del Rio   \n",
       "1996                                Alicia Keys   \n",
       "2001                               Taylor Hicks   \n",
       "2006            Katy Perry Featuring Kanye West   \n",
       "2011                                       Zayn   \n",
       "\n",
       "                            song2_artist                  song1_track  \\\n",
       "1961                        Kyu Sakamoto                   Wild Thing   \n",
       "1956  Elvis Presley With The Jordanaires                 Monster Mash   \n",
       "1966                         The Beatles        I Can See Clearly Now   \n",
       "1971    MFSB featuring The Three Degrees         You Light Up My Life   \n",
       "1976                          Pink Floyd                    Funkytown   \n",
       "1986                             Roxette                 Hangin Tough   \n",
       "1981                           Los Lobos   Heaven Is A Place On Earth   \n",
       "1991                         The Heights  Macarena (Bayside Boys Mix)   \n",
       "1996                    Enrique Iglesias                      Fallin'   \n",
       "2001                           Sean Paul          Do I Make You Proud   \n",
       "2006                      Kelly Clarkson                         E.T.   \n",
       "2011                              Baauer                   Pillowtalk   \n",
       "\n",
       "                              song2_track similarity   cut tableau_1 tableau_2  \n",
       "1961                             Sukiyaki          1  1961       0.5      -0.5  \n",
       "1956                         Stuck On You          0  1956         0         0  \n",
       "1966                        Hello Goodbye          0  1966         0         0  \n",
       "1971     TSOP (The Sound Of Philadelphia)          0  1971         0         0  \n",
       "1976  Another Brick In The Wall (Part II)          1  1976       0.5      -0.5  \n",
       "1986                             The Look          8  1986         4        -4  \n",
       "1981                             La Bamba          0  1981         0         0  \n",
       "1991          How Do You Talk To An Angel         12  1991         6        -6  \n",
       "1996                             Bailamos         10  1996         5        -5  \n",
       "2001                             Get Busy         16  2001         8        -8  \n",
       "2006       My Life Would Suck Without You         15  2006       7.5      -7.5  \n",
       "2011                         Harlem Shake          1  2011       0.5      -0.5  "
      ]
     },
     "execution_count": 202,
     "metadata": {},
     "output_type": "execute_result"
    }
   ],
   "source": [
    "least_similar_lyrics"
   ]
  },
  {
   "cell_type": "code",
   "execution_count": 111,
   "metadata": {},
   "outputs": [
    {
     "data": {
      "text/plain": [
       "[16.202803583911219,\n",
       " 13.461873410952,\n",
       " 18.033779427914503,\n",
       " 17.774962656811219,\n",
       " 20.240050214431154,\n",
       " 25.904807026347779,\n",
       " 22.656974130886493,\n",
       " 32.206686406832631,\n",
       " 33.726695999734545,\n",
       " 49.71283377820496,\n",
       " 37.478169958579194,\n",
       " 27.978677193218395]"
      ]
     },
     "execution_count": 111,
     "metadata": {},
     "output_type": "execute_result"
    }
   ],
   "source": [
    "global_means"
   ]
  },
  {
   "cell_type": "code",
   "execution_count": 457,
   "metadata": {
    "collapsed": true
   },
   "outputs": [],
   "source": [
    "global_means = []\n",
    "progress = 0\n",
    "''' uncomment to create the dataframes of most and least common songs\n",
    "least_similar_lyrics = pd.DataFrame(columns = [['song1_artist', 'song2_artist', 'song1_track', 'song2_track',\n",
    "                                               'similarity', 'cut']])\n",
    "\n",
    "most_similar_lyrics = pd.DataFrame(columns = [['song1_artist', 'song2_artist', 'song1_track', 'song2_track',\n",
    "                                               'similarity', 'cut']])\n",
    "'''\n",
    "\n",
    "\n",
    "\n",
    "def get_lyric_means(lyrics_df):\n",
    "    global progress\n",
    "    global global_means\n",
    "    \n",
    "    for year in lyrics_df['year'].unique():\n",
    "        year_df = lyrics_df[lyrics_df['year'] == year] #choose either cut or year throughout function\n",
    "        #del year_df['cut']\n",
    "        del year_df['year']\n",
    "        song_means = []\n",
    "        \n",
    "        for index, row in year_df.iterrows():\n",
    "            song = year_df.loc[index]\n",
    "           \n",
    "            for indx, rowe in year_df.iterrows():\n",
    "                if index == indx:\n",
    "                    pass\n",
    "                else:\n",
    "                    songs_dot_product = np.linalg.norm(song - year_df.loc[indx]) #switch between np.linalg.norm to np.dot\n",
    "                    song_means.append(songs_dot_product)\n",
    "                    '''\n",
    "                    if songs_dot_product == max(song_means):\n",
    "                        most_similar_lyrics.loc[year, 'song1_artist'] = songs_lyrics.loc[index, 'artist']\n",
    "                        most_similar_lyrics.loc[year, 'song2_artist'] = songs_lyrics.loc[indx, 'artist']\n",
    "                        most_similar_lyrics.loc[year, 'song1_track'] = songs_lyrics.loc[index, 'track']\n",
    "                        most_similar_lyrics.loc[year, 'song2_track'] = songs_lyrics.loc[indx, 'track']\n",
    "                        most_similar_lyrics.loc[year, 'cut'] = year\n",
    "                        most_similar_lyrics.loc[year, 'similarity'] = songs_dot_product\n",
    "                    elif songs_dot_product == min(song_means):\n",
    "                        least_similar_lyrics.loc[year, 'song1_artist'] = songs_lyrics.loc[index, 'artist']\n",
    "                        least_similar_lyrics.loc[year, 'song2_artist'] = songs_lyrics.loc[indx, 'artist']\n",
    "                        least_similar_lyrics.loc[year, 'song1_track'] = songs_lyrics.loc[index, 'track']\n",
    "                        least_similar_lyrics.loc[year, 'song2_track'] = songs_lyrics.loc[indx, 'track']\n",
    "                        least_similar_lyrics.loc[year, 'cut'] = year\n",
    "                        least_similar_lyrics.loc[year, 'similarity'] = songs_dot_product\n",
    "                    '''\n",
    "            \n",
    "            progress += 1\n",
    "            sys.stdout.write('\\r {} year, {} max, {} min, {} percent, {} position'.format(year, max(song_means), min(song_means), \n",
    "                                                                                          str(float(progress / len(songs_lyrics))), str(progress)))  \n",
    "        \n",
    "        global_means.append(np.nanmean(song_means))\n",
    "\n",
    "            "
   ]
  },
  {
   "cell_type": "code",
   "execution_count": 458,
   "metadata": {},
   "outputs": [],
   "source": [
    "tf_lyrics_df = pd.DataFrame(tf_lyrics_array, songs_lyrics['year']).reset_index()"
   ]
  },
  {
   "cell_type": "code",
   "execution_count": 459,
   "metadata": {},
   "outputs": [
    {
     "name": "stdout",
     "output_type": "stream",
     "text": [
      " 2016 year, 1.1097281375047854 max, 0.4512376429398869 min, 1.0 percent, 982 positiont, 981 positionnn"
     ]
    }
   ],
   "source": [
    "get_lyric_means(tf_lyrics_df)"
   ]
  },
  {
   "cell_type": "code",
   "execution_count": 453,
   "metadata": {},
   "outputs": [
    {
     "data": {
      "text/plain": [
       "array([1965, 1958, 1970, 1959, 1960, 1962, 1961, 1963, 1964, 1966, 1967,\n",
       "       1968, 1969, 1971, 1972, 1973, 1974, 1975, 1976, 1977, 1978, 1979,\n",
       "       1980, 1989, 1981, 1982, 1983, 1984, 1985, 1986, 1987, 1993, 1988,\n",
       "       1994, 1990, 1991, 1992, 1998, 1995, 1996, 1997, 1999, 2000, 2001,\n",
       "       2002, 2003, 2004, 2005, 2006, 2007, 2008, 2009, 2010, 2011, 2012,\n",
       "       2013, 2014, 2015, 2016])"
      ]
     },
     "execution_count": 453,
     "metadata": {},
     "output_type": "execute_result"
    }
   ],
   "source": [
    "tf_lyrics_df.reset_index()['year'].unique()"
   ]
  },
  {
   "cell_type": "code",
   "execution_count": 461,
   "metadata": {},
   "outputs": [],
   "source": [
    "pd.DataFrame(global_means, songs_lyrics['year'].unique()).to_csv('moretest.csv')"
   ]
  },
  {
   "cell_type": "code",
   "execution_count": 414,
   "metadata": {},
   "outputs": [
    {
     "data": {
      "text/html": [
       "<div>\n",
       "<style>\n",
       "    .dataframe thead tr:only-child th {\n",
       "        text-align: right;\n",
       "    }\n",
       "\n",
       "    .dataframe thead th {\n",
       "        text-align: left;\n",
       "    }\n",
       "\n",
       "    .dataframe tbody tr th {\n",
       "        vertical-align: top;\n",
       "    }\n",
       "</style>\n",
       "<table border=\"1\" class=\"dataframe\">\n",
       "  <thead>\n",
       "    <tr style=\"text-align: right;\">\n",
       "      <th></th>\n",
       "      <th>artist</th>\n",
       "      <th>track</th>\n",
       "    </tr>\n",
       "  </thead>\n",
       "  <tbody>\n",
       "    <tr>\n",
       "      <th>747</th>\n",
       "      <td>2Pac Featuring KC And JoJo</td>\n",
       "      <td>How Do U Want It/California Love</td>\n",
       "    </tr>\n",
       "  </tbody>\n",
       "</table>\n",
       "</div>"
      ],
      "text/plain": [
       "                         artist                             track\n",
       "747  2Pac Featuring KC And JoJo  How Do U Want It/California Love"
      ]
     },
     "execution_count": 414,
     "metadata": {},
     "output_type": "execute_result"
    }
   ],
   "source": [
    "songs_lyrics[songs_lyrics['length'] == songs_lyrics['length'].max()][['artist', 'track']]"
   ]
  },
  {
   "cell_type": "code",
   "execution_count": 352,
   "metadata": {
    "collapsed": true
   },
   "outputs": [],
   "source": [
    "###GETTING JUST ONE COUNT PER WORD\n",
    "\n",
    "lyrics_test = lyrics_df\n",
    "\n",
    "for index, row in lyrics_test.iterrows():\n",
    "    for column in lyrics_test.columns:\n",
    "        if column == 'cut':\n",
    "            pass\n",
    "        elif lyrics_test.loc[index, column] > 0:\n",
    "             lyrics_test.loc[index, column] = 1\n"
   ]
  },
  {
   "cell_type": "code",
   "execution_count": 386,
   "metadata": {
    "scrolled": true
   },
   "outputs": [
    {
     "name": "stdout",
     "output_type": "stream",
     "text": [
      " 0.10365853658536585 percent, 102 position9.39836924869\n",
      " 0.1991869918699187 percent, 196 position12.8016472203\n",
      " 0.29573170731707316 percent, 291 position18.4201567749\n",
      " 0.4502032520325203 percent, 443 position18.9790867898\n",
      " 0.5284552845528455 percent, 520 position20.7399179768\n",
      " 0.6697154471544715 percent, 659 position23.904181003\n",
      " 0.7449186991869918 percent, 733 position28.4746390226\n",
      " 0.8130081300813008 percent, 800 position32.7924016282\n",
      " 0.8628048780487805 percent, 849 position48.8341836735\n",
      " 0.9359756097560976 percent, 921 position39.6314553991\n",
      " 1.0 percent, 984 position29.7204301075on\n"
     ]
    }
   ],
   "source": [
    "global_means = []\n",
    "progress = 0\n",
    "\n",
    "get_lyric_means(lyrics_test)"
   ]
  },
  {
   "cell_type": "code",
   "execution_count": 355,
   "metadata": {
    "collapsed": true
   },
   "outputs": [],
   "source": [
    "lyrics_df_one_time = pd.DataFrame(global_means)\n",
    "lyrics_df_one_time['cut'] = lyrics_df.cut.unique()"
   ]
  },
  {
   "cell_type": "code",
   "execution_count": 2,
   "metadata": {
    "collapsed": true
   },
   "outputs": [],
   "source": [
    "lyrics_df = pd.read_csv('lyrics_over_time_one_hot.csv')"
   ]
  },
  {
   "cell_type": "code",
   "execution_count": 90,
   "metadata": {
    "collapsed": true
   },
   "outputs": [],
   "source": [
    "global_means = []\n",
    "progress = 0\n",
    "redundant = defaultdict(list)\n",
    "\n",
    "\n",
    "def get_self_similarity(lyrics_df):\n",
    "    global progress\n",
    "    global global_means\n",
    "    \n",
    "    for year in lyrics_df['year'].unique():\n",
    "        means = []\n",
    "        year_df = lyrics_df[lyrics_df['year'] == year]\n",
    "        del year_df['year']\n",
    "        del year_df['cut']\n",
    "        \n",
    "        for index, row in year_df.iterrows():\n",
    "            song = year_df.loc[index]\n",
    "            song_means = []\n",
    "\n",
    "            songs_dot_product = np.dot(song, song)\n",
    "            \n",
    "            song_means.append(songs_dot_product)\n",
    "            \n",
    "            if songs_dot_product == max(song_means):\n",
    "                redundant[year] = (songs_lyrics.loc[index, 'artist'], songs_lyrics.loc[index, 'track'], \n",
    "                                   songs_dot_product)\n",
    "\n",
    "            means.append(np.nanmean(song_means))\n",
    "            \n",
    "            progress += 1\n",
    "            sys.stdout.write('\\r {} percent, {} position'.format(str(float(progress / len(songs_lyrics))), str(progress)))  \n",
    "        \n",
    "        global_means.append(np.nanmean(means))\n",
    "\n",
    "            "
   ]
  },
  {
   "cell_type": "code",
   "execution_count": 91,
   "metadata": {},
   "outputs": [
    {
     "name": "stdout",
     "output_type": "stream",
     "text": [
      " 1.0 percent, 984 positiont, 983 positionn"
     ]
    }
   ],
   "source": [
    "get_self_similarity(lyrics_df)"
   ]
  },
  {
   "cell_type": "code",
   "execution_count": 60,
   "metadata": {
    "collapsed": true
   },
   "outputs": [],
   "source": [
    "dot_product_by_year=pd.DataFrame(songs_lyrics['year'].unique())"
   ]
  },
  {
   "cell_type": "code",
   "execution_count": 92,
   "metadata": {},
   "outputs": [
    {
     "data": {
      "text/plain": [
       "[69.115384615384613,\n",
       " 63.166666666666664,\n",
       " 82.722222222222229,\n",
       " 71.571428571428569,\n",
       " 72.17647058823529,\n",
       " 56.350000000000001,\n",
       " 66.611111111111114,\n",
       " 66.78947368421052,\n",
       " 63.333333333333336,\n",
       " 74.875,\n",
       " 72.277777777777771,\n",
       " 78.769230769230774,\n",
       " 70.642857142857139,\n",
       " 73.352941176470594,\n",
       " 86.13636363636364,\n",
       " 72.875,\n",
       " 79.32352941176471,\n",
       " 72.733333333333334,\n",
       " 76.260869565217391,\n",
       " 79.692307692307693,\n",
       " 74.421052631578945,\n",
       " 85.950000000000003,\n",
       " 69.13333333333334,\n",
       " 83.933333333333337,\n",
       " 87.375,\n",
       " 81.090909090909093,\n",
       " 88.6875,\n",
       " 82.421052631578945,\n",
       " 87.478260869565219,\n",
       " 80.379310344827587,\n",
       " 81.692307692307693,\n",
       " 117.75,\n",
       " 87.290322580645167,\n",
       " 88.444444444444443,\n",
       " 97.333333333333329,\n",
       " 85.125,\n",
       " 115.11111111111111,\n",
       " 114.35714285714286,\n",
       " 113.55555555555556,\n",
       " 134.0,\n",
       " 133.66666666666666,\n",
       " 101.35714285714286,\n",
       " 92.13333333333334,\n",
       " 135.91666666666666,\n",
       " 136.875,\n",
       " 172.90909090909091,\n",
       " 177.27272727272728,\n",
       " 134.85714285714286,\n",
       " 145.77777777777777,\n",
       " 120.33333333333333,\n",
       " 130.69230769230768,\n",
       " 124.45454545454545,\n",
       " 131.86666666666667,\n",
       " 112.30769230769231,\n",
       " 94.5,\n",
       " 116.2,\n",
       " 120.33333333333333,\n",
       " 102.125,\n",
       " 100.09090909090909]"
      ]
     },
     "execution_count": 92,
     "metadata": {},
     "output_type": "execute_result"
    }
   ],
   "source": [
    "global_means"
   ]
  },
  {
   "cell_type": "code",
   "execution_count": 68,
   "metadata": {
    "collapsed": true
   },
   "outputs": [],
   "source": [
    "dot_product_by_year['dot_product'] = global_means"
   ]
  },
  {
   "cell_type": "code",
   "execution_count": 69,
   "metadata": {
    "collapsed": true
   },
   "outputs": [],
   "source": [
    "dot_product_by_year.to_csv('dot_product.csv')"
   ]
  },
  {
   "cell_type": "code",
   "execution_count": 37,
   "metadata": {
    "collapsed": true
   },
   "outputs": [],
   "source": [
    "lyrics_df = pd.read_csv('lyrics_df_with_stems.csv')"
   ]
  },
  {
   "cell_type": "code",
   "execution_count": null,
   "metadata": {
    "collapsed": true
   },
   "outputs": [],
   "source": []
  },
  {
   "cell_type": "code",
   "execution_count": null,
   "metadata": {
    "collapsed": true
   },
   "outputs": [],
   "source": [
    "#######################CLUSTERING############################"
   ]
  },
  {
   "cell_type": "code",
   "execution_count": 338,
   "metadata": {
    "collapsed": true
   },
   "outputs": [],
   "source": [
    "from sklearn.decomposition import TruncatedSVD\n",
    "\n",
    "pca = TruncatedSVD(n_components=100)"
   ]
  },
  {
   "cell_type": "code",
   "execution_count": 253,
   "metadata": {
    "collapsed": true
   },
   "outputs": [],
   "source": [
    "lyrics_pca = pca.fit_transform(lyrics_array) #change between lyrics_array and tf_lyrics_array if you want tfidf scaling"
   ]
  },
  {
   "cell_type": "code",
   "execution_count": 339,
   "metadata": {},
   "outputs": [],
   "source": [
    "from sklearn.feature_extraction.text import TfidfVectorizer"
   ]
  },
  {
   "cell_type": "code",
   "execution_count": 340,
   "metadata": {
    "collapsed": true
   },
   "outputs": [],
   "source": [
    "tf = TfidfVectorizer()\n",
    "\n",
    "tf_lyrics_array = tf.fit_transform(songs_lyrics['stems'])\n",
    "\n",
    "tf_lyrics_array = pca.fit_transform(tf_lyrics_array)"
   ]
  },
  {
   "cell_type": "code",
   "execution_count": null,
   "metadata": {
    "collapsed": true
   },
   "outputs": [],
   "source": []
  },
  {
   "cell_type": "code",
   "execution_count": null,
   "metadata": {
    "collapsed": true
   },
   "outputs": [],
   "source": []
  },
  {
   "cell_type": "code",
   "execution_count": null,
   "metadata": {
    "collapsed": true
   },
   "outputs": [],
   "source": []
  },
  {
   "cell_type": "code",
   "execution_count": 380,
   "metadata": {
    "collapsed": true
   },
   "outputs": [],
   "source": [
    "from sklearn.cluster import KMeans\n",
    "\n",
    "kmeans = KMeans(n_clusters=5, random_state=0).fit(lyrics_pca)"
   ]
  },
  {
   "cell_type": "code",
   "execution_count": 381,
   "metadata": {},
   "outputs": [],
   "source": [
    "songs_lyrics['labels'] = kmeans.labels_"
   ]
  },
  {
   "cell_type": "code",
   "execution_count": 214,
   "metadata": {},
   "outputs": [],
   "source": [
    "songs_lyrics.groupby(['labels', 'year']).count().reset_index().to_csv('lyrics_df_with_labels.csv')"
   ]
  },
  {
   "cell_type": "code",
   "execution_count": 57,
   "metadata": {
    "collapsed": true
   },
   "outputs": [],
   "source": [
    "songs_lyrics.to_csv('lyrics_df_with_labels.csv')"
   ]
  },
  {
   "cell_type": "code",
   "execution_count": 84,
   "metadata": {
    "collapsed": true
   },
   "outputs": [],
   "source": [
    "percentages = songs_lyrics.groupby(['year', 'labels']).agg({'energy': 'sum'})\n",
    "percentages = percentages.groupby(level=0).apply(lambda x: \n",
    "                                                 100 * x / float(x.sum()))"
   ]
  },
  {
   "cell_type": "code",
   "execution_count": 85,
   "metadata": {},
   "outputs": [],
   "source": [
    "percentages.to_csv('lyrics_percentages.csv')"
   ]
  },
  {
   "cell_type": "code",
   "execution_count": 382,
   "metadata": {},
   "outputs": [
    {
     "data": {
      "text/html": [
       "<div>\n",
       "<style>\n",
       "    .dataframe thead tr:only-child th {\n",
       "        text-align: right;\n",
       "    }\n",
       "\n",
       "    .dataframe thead th {\n",
       "        text-align: left;\n",
       "    }\n",
       "\n",
       "    .dataframe tbody tr th {\n",
       "        vertical-align: top;\n",
       "    }\n",
       "</style>\n",
       "<table border=\"1\" class=\"dataframe\">\n",
       "  <thead>\n",
       "    <tr style=\"text-align: right;\">\n",
       "      <th></th>\n",
       "      <th>artist</th>\n",
       "      <th>track</th>\n",
       "      <th>labels</th>\n",
       "    </tr>\n",
       "  </thead>\n",
       "  <tbody>\n",
       "    <tr>\n",
       "      <th>673</th>\n",
       "      <td>Mariah Carey</td>\n",
       "      <td>Vision Of Love</td>\n",
       "      <td>2</td>\n",
       "    </tr>\n",
       "    <tr>\n",
       "      <th>683</th>\n",
       "      <td>Mariah Carey</td>\n",
       "      <td>Love Takes Time</td>\n",
       "      <td>1</td>\n",
       "    </tr>\n",
       "    <tr>\n",
       "      <th>689</th>\n",
       "      <td>Mariah Carey</td>\n",
       "      <td>Someday</td>\n",
       "      <td>3</td>\n",
       "    </tr>\n",
       "    <tr>\n",
       "      <th>697</th>\n",
       "      <td>Mariah Carey</td>\n",
       "      <td>I ll Be There</td>\n",
       "      <td>0</td>\n",
       "    </tr>\n",
       "    <tr>\n",
       "      <th>705</th>\n",
       "      <td>Mariah Carey</td>\n",
       "      <td>Emotions</td>\n",
       "      <td>1</td>\n",
       "    </tr>\n",
       "    <tr>\n",
       "      <th>723</th>\n",
       "      <td>Mariah Carey</td>\n",
       "      <td>Dreamlover</td>\n",
       "      <td>2</td>\n",
       "    </tr>\n",
       "    <tr>\n",
       "      <th>726</th>\n",
       "      <td>Mariah Carey</td>\n",
       "      <td>Hero</td>\n",
       "      <td>1</td>\n",
       "    </tr>\n",
       "    <tr>\n",
       "      <th>742</th>\n",
       "      <td>Mariah Carey</td>\n",
       "      <td>Fantasy</td>\n",
       "      <td>1</td>\n",
       "    </tr>\n",
       "    <tr>\n",
       "      <th>745</th>\n",
       "      <td>Mariah Carey</td>\n",
       "      <td>Always Be My Baby</td>\n",
       "      <td>0</td>\n",
       "    </tr>\n",
       "    <tr>\n",
       "      <th>756</th>\n",
       "      <td>Mariah Carey</td>\n",
       "      <td>Honey</td>\n",
       "      <td>0</td>\n",
       "    </tr>\n",
       "    <tr>\n",
       "      <th>764</th>\n",
       "      <td>Mariah Carey</td>\n",
       "      <td>My All</td>\n",
       "      <td>1</td>\n",
       "    </tr>\n",
       "    <tr>\n",
       "      <th>823</th>\n",
       "      <td>50 Cent</td>\n",
       "      <td>In Da Club</td>\n",
       "      <td>4</td>\n",
       "    </tr>\n",
       "    <tr>\n",
       "      <th>845</th>\n",
       "      <td>Mariah Carey</td>\n",
       "      <td>We Belong Together</td>\n",
       "      <td>3</td>\n",
       "    </tr>\n",
       "    <tr>\n",
       "      <th>849</th>\n",
       "      <td>Mariah Carey</td>\n",
       "      <td>Don't Forget About Us</td>\n",
       "      <td>3</td>\n",
       "    </tr>\n",
       "    <tr>\n",
       "      <th>885</th>\n",
       "      <td>Mariah Carey</td>\n",
       "      <td>Touch My Body</td>\n",
       "      <td>0</td>\n",
       "    </tr>\n",
       "  </tbody>\n",
       "</table>\n",
       "</div>"
      ],
      "text/plain": [
       "           artist                  track  labels\n",
       "673  Mariah Carey         Vision Of Love       2\n",
       "683  Mariah Carey        Love Takes Time       1\n",
       "689  Mariah Carey                Someday       3\n",
       "697  Mariah Carey          I ll Be There       0\n",
       "705  Mariah Carey               Emotions       1\n",
       "723  Mariah Carey             Dreamlover       2\n",
       "726  Mariah Carey                   Hero       1\n",
       "742  Mariah Carey                Fantasy       1\n",
       "745  Mariah Carey      Always Be My Baby       0\n",
       "756  Mariah Carey                  Honey       0\n",
       "764  Mariah Carey                 My All       1\n",
       "823       50 Cent             In Da Club       4\n",
       "845  Mariah Carey     We Belong Together       3\n",
       "849  Mariah Carey  Don't Forget About Us       3\n",
       "885  Mariah Carey          Touch My Body       0"
      ]
     },
     "execution_count": 382,
     "metadata": {},
     "output_type": "execute_result"
    }
   ],
   "source": [
    "songs_lyrics[(songs_lyrics['artist'] == '50 Cent') | (songs_lyrics['artist'] == 'Mariah Carey')][['artist','track', 'labels']]"
   ]
  },
  {
   "cell_type": "code",
   "execution_count": 267,
   "metadata": {},
   "outputs": [
    {
     "data": {
      "text/html": [
       "<div>\n",
       "<style>\n",
       "    .dataframe thead tr:only-child th {\n",
       "        text-align: right;\n",
       "    }\n",
       "\n",
       "    .dataframe thead th {\n",
       "        text-align: left;\n",
       "    }\n",
       "\n",
       "    .dataframe tbody tr th {\n",
       "        vertical-align: top;\n",
       "    }\n",
       "</style>\n",
       "<table border=\"1\" class=\"dataframe\">\n",
       "  <thead>\n",
       "    <tr style=\"text-align: right;\">\n",
       "      <th></th>\n",
       "      <th>artist</th>\n",
       "      <th>track</th>\n",
       "    </tr>\n",
       "  </thead>\n",
       "  <tbody>\n",
       "    <tr>\n",
       "      <th>921</th>\n",
       "      <td>Katy Perry</td>\n",
       "      <td>Firework</td>\n",
       "    </tr>\n",
       "    <tr>\n",
       "      <th>922</th>\n",
       "      <td>Bruno Mars</td>\n",
       "      <td>Grenade</td>\n",
       "    </tr>\n",
       "    <tr>\n",
       "      <th>923</th>\n",
       "      <td>Britney Spears</td>\n",
       "      <td>Hold It Against Me</td>\n",
       "    </tr>\n",
       "    <tr>\n",
       "      <th>924</th>\n",
       "      <td>Wiz Khalifa</td>\n",
       "      <td>Black And Yellow</td>\n",
       "    </tr>\n",
       "    <tr>\n",
       "      <th>925</th>\n",
       "      <td>Lady Gaga</td>\n",
       "      <td>Born This Way</td>\n",
       "    </tr>\n",
       "    <tr>\n",
       "      <th>926</th>\n",
       "      <td>Katy Perry Featuring Kanye West</td>\n",
       "      <td>E.T.</td>\n",
       "    </tr>\n",
       "    <tr>\n",
       "      <th>927</th>\n",
       "      <td>Rihanna Featuring Britney Spears</td>\n",
       "      <td>S&amp;M</td>\n",
       "    </tr>\n",
       "    <tr>\n",
       "      <th>928</th>\n",
       "      <td>Adele</td>\n",
       "      <td>Rolling In The Deep</td>\n",
       "    </tr>\n",
       "    <tr>\n",
       "      <th>929</th>\n",
       "      <td>Pitbull Featuring Ne-Yo, Afrojack &amp; Nayer</td>\n",
       "      <td>Give Me Everything</td>\n",
       "    </tr>\n",
       "    <tr>\n",
       "      <th>930</th>\n",
       "      <td>LMFAO Featuring Lauren Bennett &amp; GoonRock</td>\n",
       "      <td>Party Rock Anthem</td>\n",
       "    </tr>\n",
       "    <tr>\n",
       "      <th>931</th>\n",
       "      <td>Katy Perry</td>\n",
       "      <td>Last Friday Night (T.G.I.F.)</td>\n",
       "    </tr>\n",
       "    <tr>\n",
       "      <th>932</th>\n",
       "      <td>Maroon 5 Featuring Christina Aguilera</td>\n",
       "      <td>Moves Like Jagger</td>\n",
       "    </tr>\n",
       "    <tr>\n",
       "      <th>933</th>\n",
       "      <td>Adele</td>\n",
       "      <td>Someone Like You</td>\n",
       "    </tr>\n",
       "  </tbody>\n",
       "</table>\n",
       "</div>"
      ],
      "text/plain": [
       "                                        artist                         track\n",
       "921                                 Katy Perry                      Firework\n",
       "922                                 Bruno Mars                       Grenade\n",
       "923                             Britney Spears            Hold It Against Me\n",
       "924                                Wiz Khalifa              Black And Yellow\n",
       "925                                  Lady Gaga                 Born This Way\n",
       "926            Katy Perry Featuring Kanye West                          E.T.\n",
       "927           Rihanna Featuring Britney Spears                           S&M\n",
       "928                                      Adele           Rolling In The Deep\n",
       "929  Pitbull Featuring Ne-Yo, Afrojack & Nayer            Give Me Everything\n",
       "930  LMFAO Featuring Lauren Bennett & GoonRock             Party Rock Anthem\n",
       "931                                 Katy Perry  Last Friday Night (T.G.I.F.)\n",
       "932      Maroon 5 Featuring Christina Aguilera             Moves Like Jagger\n",
       "933                                      Adele              Someone Like You"
      ]
     },
     "execution_count": 267,
     "metadata": {},
     "output_type": "execute_result"
    }
   ],
   "source": [
    "songs_lyrics[songs_lyrics['year'] == 2011][['artist', 'track']]"
   ]
  },
  {
   "cell_type": "code",
   "execution_count": 348,
   "metadata": {
    "collapsed": true
   },
   "outputs": [],
   "source": [
    "from sklearn.cluster import AffinityPropagation"
   ]
  },
  {
   "cell_type": "code",
   "execution_count": 358,
   "metadata": {},
   "outputs": [],
   "source": [
    "af = AffinityPropagation(damping=.5)\n",
    "af_lyrics = af.fit_predict(tf_lyrics_array)"
   ]
  },
  {
   "cell_type": "code",
   "execution_count": 321,
   "metadata": {},
   "outputs": [],
   "source": [
    "songs_lyrics['labels'] = af_lyrics"
   ]
  },
  {
   "cell_type": "code",
   "execution_count": 356,
   "metadata": {},
   "outputs": [
    {
     "data": {
      "text/plain": [
       "array([  8,  19,  34,  46,  54,  81,  95,  98, 111, 130, 148, 150, 162,\n",
       "       173, 198, 212, 225, 228, 239, 243, 271, 318, 336, 361, 370, 389,\n",
       "       429, 454, 460, 467, 471, 494, 511, 523, 528, 578, 584, 596, 623,\n",
       "       645, 676, 707, 708, 715, 721, 725, 741, 745, 759, 777, 790, 799,\n",
       "       801, 819, 820, 856, 864, 869, 897, 898, 903, 919, 925, 927, 940,\n",
       "       961, 978])"
      ]
     },
     "execution_count": 356,
     "metadata": {},
     "output_type": "execute_result"
    }
   ],
   "source": [
    "af.cluster_centers_indices_"
   ]
  },
  {
   "cell_type": "code",
   "execution_count": 578,
   "metadata": {},
   "outputs": [],
   "source": [
    "from sklearn.cluster import AgglomerativeClustering"
   ]
  },
  {
   "cell_type": "code",
   "execution_count": 579,
   "metadata": {
    "collapsed": true
   },
   "outputs": [],
   "source": [
    "ac = AgglomerativeClustering(n_clusters=5)"
   ]
  },
  {
   "cell_type": "code",
   "execution_count": 585,
   "metadata": {},
   "outputs": [
    {
     "data": {
      "text/plain": [
       "array([[ 228,  336],\n",
       "       [ 212,  562],\n",
       "       [ 301,  946],\n",
       "       ..., \n",
       "       [1957, 1958],\n",
       "       [1949, 1959],\n",
       "       [1960, 1961]])"
      ]
     },
     "execution_count": 585,
     "metadata": {},
     "output_type": "execute_result"
    }
   ],
   "source": [
    "ac.children_"
   ]
  },
  {
   "cell_type": "code",
   "execution_count": 367,
   "metadata": {},
   "outputs": [],
   "source": [
    "songs_lyrics['labels'] = ac.labels_"
   ]
  },
  {
   "cell_type": "code",
   "execution_count": 379,
   "metadata": {},
   "outputs": [
    {
     "data": {
      "text/html": [
       "<div>\n",
       "<style>\n",
       "    .dataframe thead tr:only-child th {\n",
       "        text-align: right;\n",
       "    }\n",
       "\n",
       "    .dataframe thead th {\n",
       "        text-align: left;\n",
       "    }\n",
       "\n",
       "    .dataframe tbody tr th {\n",
       "        vertical-align: top;\n",
       "    }\n",
       "</style>\n",
       "<table border=\"1\" class=\"dataframe\">\n",
       "  <thead>\n",
       "    <tr style=\"text-align: right;\">\n",
       "      <th></th>\n",
       "      <th>track</th>\n",
       "      <th>artist</th>\n",
       "      <th>labels</th>\n",
       "    </tr>\n",
       "  </thead>\n",
       "  <tbody>\n",
       "    <tr>\n",
       "      <th>27</th>\n",
       "      <td>Nel Blu Dipinto Di Blu (VolarÃ©)</td>\n",
       "      <td>Domenico Modugno</td>\n",
       "      <td>4</td>\n",
       "    </tr>\n",
       "    <tr>\n",
       "      <th>28</th>\n",
       "      <td>Little Star</td>\n",
       "      <td>The Elegants</td>\n",
       "      <td>4</td>\n",
       "    </tr>\n",
       "    <tr>\n",
       "      <th>56</th>\n",
       "      <td>I'm Sorry</td>\n",
       "      <td>Brenda Lee</td>\n",
       "      <td>4</td>\n",
       "    </tr>\n",
       "    <tr>\n",
       "      <th>85</th>\n",
       "      <td>Duke Of Earl</td>\n",
       "      <td>Gene Chandler</td>\n",
       "      <td>4</td>\n",
       "    </tr>\n",
       "    <tr>\n",
       "      <th>131</th>\n",
       "      <td>Rag Doll</td>\n",
       "      <td>The 4 Seasons Featuring the Sound of Frankie V...</td>\n",
       "      <td>4</td>\n",
       "    </tr>\n",
       "    <tr>\n",
       "      <th>252</th>\n",
       "      <td>Oh Girl</td>\n",
       "      <td>The Chi-lites</td>\n",
       "      <td>4</td>\n",
       "    </tr>\n",
       "    <tr>\n",
       "      <th>253</th>\n",
       "      <td>I'll Take You There</td>\n",
       "      <td>The Staple Singers</td>\n",
       "      <td>4</td>\n",
       "    </tr>\n",
       "    <tr>\n",
       "      <th>301</th>\n",
       "      <td>Bennie And The Jets</td>\n",
       "      <td>Elton John</td>\n",
       "      <td>4</td>\n",
       "    </tr>\n",
       "    <tr>\n",
       "      <th>502</th>\n",
       "      <td>Say Say Say</td>\n",
       "      <td>Paul McCartney And Michael Jackson</td>\n",
       "      <td>4</td>\n",
       "    </tr>\n",
       "    <tr>\n",
       "      <th>530</th>\n",
       "      <td>Sussudio</td>\n",
       "      <td>Phil Collins</td>\n",
       "      <td>4</td>\n",
       "    </tr>\n",
       "    <tr>\n",
       "      <th>573</th>\n",
       "      <td>Walk Like An Egyptian</td>\n",
       "      <td>Bangles</td>\n",
       "      <td>4</td>\n",
       "    </tr>\n",
       "    <tr>\n",
       "      <th>621</th>\n",
       "      <td>Sweet Child O Mine</td>\n",
       "      <td>Guns N Roses</td>\n",
       "      <td>4</td>\n",
       "    </tr>\n",
       "    <tr>\n",
       "      <th>634</th>\n",
       "      <td>When I m With You</td>\n",
       "      <td>Sheriff</td>\n",
       "      <td>4</td>\n",
       "    </tr>\n",
       "    <tr>\n",
       "      <th>735</th>\n",
       "      <td>Creep</td>\n",
       "      <td>TLC</td>\n",
       "      <td>4</td>\n",
       "    </tr>\n",
       "    <tr>\n",
       "      <th>840</th>\n",
       "      <td>Goodies</td>\n",
       "      <td>Ciara Featuring Petey Pablo</td>\n",
       "      <td>4</td>\n",
       "    </tr>\n",
       "    <tr>\n",
       "      <th>881</th>\n",
       "      <td>No One</td>\n",
       "      <td>Alicia Keys</td>\n",
       "      <td>4</td>\n",
       "    </tr>\n",
       "    <tr>\n",
       "      <th>885</th>\n",
       "      <td>Touch My Body</td>\n",
       "      <td>Mariah Carey</td>\n",
       "      <td>4</td>\n",
       "    </tr>\n",
       "    <tr>\n",
       "      <th>900</th>\n",
       "      <td>Poker Face</td>\n",
       "      <td>Lady GaGa</td>\n",
       "      <td>4</td>\n",
       "    </tr>\n",
       "    <tr>\n",
       "      <th>906</th>\n",
       "      <td>TiK ToK</td>\n",
       "      <td>Ke$ha</td>\n",
       "      <td>4</td>\n",
       "    </tr>\n",
       "    <tr>\n",
       "      <th>911</th>\n",
       "      <td>OMG</td>\n",
       "      <td>Usher Featuring will.i.am</td>\n",
       "      <td>4</td>\n",
       "    </tr>\n",
       "    <tr>\n",
       "      <th>921</th>\n",
       "      <td>Firework</td>\n",
       "      <td>Katy Perry</td>\n",
       "      <td>4</td>\n",
       "    </tr>\n",
       "    <tr>\n",
       "      <th>949</th>\n",
       "      <td>When I Was Your Man</td>\n",
       "      <td>Bruno Mars</td>\n",
       "      <td>4</td>\n",
       "    </tr>\n",
       "    <tr>\n",
       "      <th>953</th>\n",
       "      <td>Roar</td>\n",
       "      <td>Katy Perry</td>\n",
       "      <td>4</td>\n",
       "    </tr>\n",
       "  </tbody>\n",
       "</table>\n",
       "</div>"
      ],
      "text/plain": [
       "                                track  \\\n",
       "27   Nel Blu Dipinto Di Blu (VolarÃ©)   \n",
       "28                        Little Star   \n",
       "56                          I'm Sorry   \n",
       "85                       Duke Of Earl   \n",
       "131                          Rag Doll   \n",
       "252                           Oh Girl   \n",
       "253               I'll Take You There   \n",
       "301               Bennie And The Jets   \n",
       "502                       Say Say Say   \n",
       "530                          Sussudio   \n",
       "573             Walk Like An Egyptian   \n",
       "621                Sweet Child O Mine   \n",
       "634                 When I m With You   \n",
       "735                             Creep   \n",
       "840                           Goodies   \n",
       "881                            No One   \n",
       "885                     Touch My Body   \n",
       "900                        Poker Face   \n",
       "906                           TiK ToK   \n",
       "911                               OMG   \n",
       "921                          Firework   \n",
       "949               When I Was Your Man   \n",
       "953                              Roar   \n",
       "\n",
       "                                                artist  labels  \n",
       "27                                    Domenico Modugno       4  \n",
       "28                                        The Elegants       4  \n",
       "56                                          Brenda Lee       4  \n",
       "85                                       Gene Chandler       4  \n",
       "131  The 4 Seasons Featuring the Sound of Frankie V...       4  \n",
       "252                                      The Chi-lites       4  \n",
       "253                                 The Staple Singers       4  \n",
       "301                                         Elton John       4  \n",
       "502                 Paul McCartney And Michael Jackson       4  \n",
       "530                                       Phil Collins       4  \n",
       "573                                            Bangles       4  \n",
       "621                                       Guns N Roses       4  \n",
       "634                                            Sheriff       4  \n",
       "735                                                TLC       4  \n",
       "840                        Ciara Featuring Petey Pablo       4  \n",
       "881                                        Alicia Keys       4  \n",
       "885                                       Mariah Carey       4  \n",
       "900                                          Lady GaGa       4  \n",
       "906                                              Ke$ha       4  \n",
       "911                          Usher Featuring will.i.am       4  \n",
       "921                                         Katy Perry       4  \n",
       "949                                         Bruno Mars       4  \n",
       "953                                         Katy Perry       4  "
      ]
     },
     "execution_count": 379,
     "metadata": {},
     "output_type": "execute_result"
    }
   ],
   "source": [
    "songs_lyrics[songs_lyrics['labels']== 4][['track', 'artist', 'labels']]"
   ]
  },
  {
   "cell_type": "code",
   "execution_count": 387,
   "metadata": {
    "collapsed": true
   },
   "outputs": [],
   "source": [
    "songs_lyrics['length'] = songs_lyrics['stems'].apply(lambda x: len(x.split(' ')))"
   ]
  },
  {
   "cell_type": "code",
   "execution_count": 390,
   "metadata": {},
   "outputs": [],
   "source": [
    "songs_lyrics.groupby('year').mean().to_csv('test_lyrics.csv')"
   ]
  },
  {
   "cell_type": "code",
   "execution_count": 576,
   "metadata": {},
   "outputs": [],
   "source": [
    "from scipy.cluster.hierarchy import dendrogram, linkage"
   ]
  },
  {
   "cell_type": "code",
   "execution_count": 595,
   "metadata": {},
   "outputs": [],
   "source": [
    "Z = linkage(lyrics_pca, 'ward')"
   ]
  },
  {
   "cell_type": "code",
   "execution_count": 598,
   "metadata": {},
   "outputs": [
    {
     "data": {
      "text/plain": [
       "array([ 1635.        ,  1710.        ,     8.79042858,     8.        ])"
      ]
     },
     "execution_count": 598,
     "metadata": {},
     "output_type": "execute_result"
    }
   ],
   "source": [
    "Z[800]"
   ]
  },
  {
   "cell_type": "code",
   "execution_count": null,
   "metadata": {
    "collapsed": true
   },
   "outputs": [],
   "source": []
  },
  {
   "cell_type": "code",
   "execution_count": null,
   "metadata": {
    "collapsed": true
   },
   "outputs": [],
   "source": []
  },
  {
   "cell_type": "code",
   "execution_count": null,
   "metadata": {
    "collapsed": true
   },
   "outputs": [],
   "source": []
  },
  {
   "cell_type": "code",
   "execution_count": 594,
   "metadata": {},
   "outputs": [],
   "source": [
    "from matplotlib import pyplot as plt\n",
    "%matplotlib inline"
   ]
  }
 ],
 "metadata": {
  "kernelspec": {
   "display_name": "Python [conda env:Python3]",
   "language": "python",
   "name": "conda-env-Python3-py"
  },
  "language_info": {
   "codemirror_mode": {
    "name": "ipython",
    "version": 3
   },
   "file_extension": ".py",
   "mimetype": "text/x-python",
   "name": "python",
   "nbconvert_exporter": "python",
   "pygments_lexer": "ipython3",
   "version": "3.6.1"
  }
 },
 "nbformat": 4,
 "nbformat_minor": 2
}
